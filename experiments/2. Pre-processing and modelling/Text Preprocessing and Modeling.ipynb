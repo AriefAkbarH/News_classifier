{
 "cells": [
  {
   "cell_type": "markdown",
   "metadata": {
    "colab_type": "text",
    "id": "CZriVPN6fgRZ"
   },
   "source": [
    "# Akses ke google Drive"
   ]
  },
  {
   "cell_type": "code",
   "execution_count": null,
   "metadata": {
    "colab": {
     "base_uri": "https://localhost:8080/",
     "height": 118
    },
    "colab_type": "code",
    "executionInfo": {
     "elapsed": 23432,
     "status": "ok",
     "timestamp": 1594639937280,
     "user": {
      "displayName": "ARIEF AKBAR HIDAYAT MHS 2017",
      "photoUrl": "https://lh3.googleusercontent.com/a-/AOh14GgpxjnV7zTpLouYOAYyyr7JileDmvj56ntyPr5Y=s64",
      "userId": "11849805901853145430"
     },
     "user_tz": -420
    },
    "id": "rSylatvxRQXn",
    "outputId": "82246d0c-f49e-4395-de8c-972692aba226"
   },
   "outputs": [],
   "source": [
    "from google.colab import drive\n",
    "drive.mount('/content/drive',force_remount=True)"
   ]
  },
  {
   "cell_type": "markdown",
   "metadata": {
    "colab_type": "text",
    "id": "AT5gTYojCzl_"
   },
   "source": [
    "# cek spec colab hardware"
   ]
  },
  {
   "cell_type": "code",
   "execution_count": null,
   "metadata": {
    "colab": {},
    "colab_type": "code",
    "id": "1hf4IBbb95Ra"
   },
   "outputs": [],
   "source": [
    "# !df -h\n",
    "# !cat /proc/cpuinfo\n",
    "# !cat /proc/meminfo"
   ]
  },
  {
   "cell_type": "markdown",
   "metadata": {
    "colab_type": "text",
    "id": "-4qvWVb95kWs"
   },
   "source": [
    "### Perhatian Jika code dijalankan ulang, maka model yang dihasilkan agar berbeda, karena library scikit learn mengambil sampel data training dan testing secara acak untuk modeling"
   ]
  },
  {
   "cell_type": "markdown",
   "metadata": {
    "colab_type": "text",
    "id": "fPohwf8se57l"
   },
   "source": [
    "# Import Library yang diperlukan"
   ]
  },
  {
   "cell_type": "code",
   "execution_count": null,
   "metadata": {
    "colab": {
     "base_uri": "https://localhost:8080/",
     "height": 115
    },
    "colab_type": "code",
    "executionInfo": {
     "elapsed": 4922,
     "status": "ok",
     "timestamp": 1594639944549,
     "user": {
      "displayName": "ARIEF AKBAR HIDAYAT MHS 2017",
      "photoUrl": "https://lh3.googleusercontent.com/a-/AOh14GgpxjnV7zTpLouYOAYyyr7JileDmvj56ntyPr5Y=s64",
      "userId": "11849805901853145430"
     },
     "user_tz": -420
    },
    "id": "1M-KUQ5PiBE3",
    "outputId": "98b71b6e-9cf7-4d63-87f6-34f14c2c191e"
   },
   "outputs": [
    {
     "name": "stdout",
     "output_type": "stream",
     "text": [
      "[nltk_data] Downloading package stopwords to /root/nltk_data...\n",
      "[nltk_data]   Unzipping corpora/stopwords.zip.\n",
      "[nltk_data] Downloading package punkt to /root/nltk_data...\n",
      "[nltk_data]   Unzipping tokenizers/punkt.zip.\n",
      "[nltk_data] Downloading package wordnet to /root/nltk_data...\n",
      "[nltk_data]   Unzipping corpora/wordnet.zip.\n"
     ]
    }
   ],
   "source": [
    "from glob import glob\n",
    "import pandas as pd\n",
    "import nltk\n",
    "nltk.download('stopwords')\n",
    "nltk.download('punkt')\n",
    "nltk.download('wordnet')\n",
    "from nltk import sent_tokenize, word_tokenize\n",
    "from nltk.stem.snowball import SnowballStemmer\n",
    "from nltk.stem.wordnet import WordNetLemmatizer\n",
    "from nltk.corpus import stopwords\n",
    "import re\n",
    "import numpy as np\n",
    "import sys\n",
    "import pandas as pd\n",
    "import numpy as np\n",
    "import re   \n",
    "from nltk.tokenize import regexp_tokenize\n",
    "pd.options.display.max_colwidth=30000"
   ]
  },
  {
   "cell_type": "markdown",
   "metadata": {
    "colab_type": "text",
    "id": "CmK1SURnFfK9"
   },
   "source": [
    "# Menggabungkan semua data yang diperoleh"
   ]
  },
  {
   "cell_type": "code",
   "execution_count": null,
   "metadata": {
    "colab": {},
    "colab_type": "code",
    "id": "Xwz0g8hBDMml"
   },
   "outputs": [],
   "source": [
    "home_dir=\"\"\n",
    "pd.read_csv(home_dir+\"/dataset science/sci_1_3.csv\")\n",
    "alldata=glob(home_dir+\"/dataset science/sci*.csv\") + \\\n",
    "        glob(home_dir+\"/dataset business/bis*.csv\") + \\\n",
    "        glob(home_dir+\"/dataset tech/tech*.csv\") + \\\n",
    "        glob(home_dir+\"/dataset health/hlt*.csv\") + \\\n",
    "        glob(home_dir+\"/dataset entertainment/ent*.csv\")\n",
    "\n",
    "\n",
    "# alldata\n",
    "with open(home_dir+\"/allcategory.csv\", \"wb\") as outfile:\n",
    "    for f in alldata:\n",
    "        with open(f, \"rb\") as infile:\n",
    "            outfile.write(infile.read())"
   ]
  },
  {
   "cell_type": "markdown",
   "metadata": {
    "colab_type": "text",
    "id": "OXCna0THfmK3"
   },
   "source": [
    "# Membaca data dan melihat info data"
   ]
  },
  {
   "cell_type": "code",
   "execution_count": null,
   "metadata": {
    "colab": {
     "base_uri": "https://localhost:8080/",
     "height": 212
    },
    "colab_type": "code",
    "executionInfo": {
     "elapsed": 5574,
     "status": "ok",
     "timestamp": 1594639948579,
     "user": {
      "displayName": "ARIEF AKBAR HIDAYAT MHS 2017",
      "photoUrl": "https://lh3.googleusercontent.com/a-/AOh14GgpxjnV7zTpLouYOAYyyr7JileDmvj56ntyPr5Y=s64",
      "userId": "11849805901853145430"
     },
     "user_tz": -420
    },
    "id": "gm-BxhwSWpPn",
    "outputId": "3e098bda-d8b8-433f-d749-dc2928c2e894"
   },
   "outputs": [
    {
     "name": "stderr",
     "output_type": "stream",
     "text": [
      "/usr/local/lib/python3.6/dist-packages/ipykernel_launcher.py:7: SettingWithCopyWarning: \n",
      "A value is trying to be set on a copy of a slice from a DataFrame.\n",
      "Try using .loc[row_indexer,col_indexer] = value instead\n",
      "\n",
      "See the caveats in the documentation: https://pandas.pydata.org/pandas-docs/stable/user_guide/indexing.html#returning-a-view-versus-a-copy\n",
      "  import sys\n"
     ]
    },
    {
     "data": {
      "text/plain": [
       "business         290\n",
       "entertainment    180\n",
       "technology       151\n",
       "science          121\n",
       "health            71\n",
       "Name: kategori, dtype: int64"
      ]
     },
     "execution_count": 4,
     "metadata": {
      "tags": []
     },
     "output_type": "execute_result"
    }
   ],
   "source": [
    "home_dir=dir\n",
    "data=pd.read_csv(home_dir+\"/allcategory.csv\")\n",
    "data.columns=[\"judul\",\"isi\",\"tanggal\",\"kategori\"]\n",
    "berita=data.drop_duplicates()\n",
    "kategori=berita[\"kategori\"].replace({\"entertaiment\":\"entertainment\"})\n",
    "kategori.value_counts()\n",
    "berita[\"kategori\"]=kategori\n",
    "berita[\"kategori\"].value_counts()"
   ]
  },
  {
   "cell_type": "code",
   "execution_count": null,
   "metadata": {
    "colab": {
     "base_uri": "https://localhost:8080/",
     "height": 196
    },
    "colab_type": "code",
    "executionInfo": {
     "elapsed": 3736,
     "status": "ok",
     "timestamp": 1594639948583,
     "user": {
      "displayName": "ARIEF AKBAR HIDAYAT MHS 2017",
      "photoUrl": "https://lh3.googleusercontent.com/a-/AOh14GgpxjnV7zTpLouYOAYyyr7JileDmvj56ntyPr5Y=s64",
      "userId": "11849805901853145430"
     },
     "user_tz": -420
    },
    "id": "zefm01DCC2UT",
    "outputId": "62ac1ce3-91c8-449d-bc10-9ca1b7f0244c"
   },
   "outputs": [
    {
     "name": "stdout",
     "output_type": "stream",
     "text": [
      "<class 'pandas.core.frame.DataFrame'>\n",
      "Int64Index: 813 entries, 0 to 3654\n",
      "Data columns (total 4 columns):\n",
      " #   Column    Non-Null Count  Dtype \n",
      "---  ------    --------------  ----- \n",
      " 0   judul     813 non-null    object\n",
      " 1   isi       813 non-null    object\n",
      " 2   tanggal   813 non-null    object\n",
      " 3   kategori  813 non-null    object\n",
      "dtypes: object(4)\n",
      "memory usage: 31.8+ KB\n"
     ]
    }
   ],
   "source": [
    "berita.info()"
   ]
  },
  {
   "cell_type": "markdown",
   "metadata": {
    "colab_type": "text",
    "id": "IRt-QdUb8Slk"
   },
   "source": [
    "#Membagi data menjadi lebih seimbang (Undersampling)"
   ]
  },
  {
   "cell_type": "code",
   "execution_count": null,
   "metadata": {
    "colab": {
     "base_uri": "https://localhost:8080/",
     "height": 50
    },
    "colab_type": "code",
    "executionInfo": {
     "elapsed": 1409,
     "status": "ok",
     "timestamp": 1594639948584,
     "user": {
      "displayName": "ARIEF AKBAR HIDAYAT MHS 2017",
      "photoUrl": "https://lh3.googleusercontent.com/a-/AOh14GgpxjnV7zTpLouYOAYyyr7JileDmvj56ntyPr5Y=s64",
      "userId": "11849805901853145430"
     },
     "user_tz": -420
    },
    "id": "zvzQLnyxnwqe",
    "outputId": "da8d51f7-7432-491d-b18d-7a9f90af0ab9"
   },
   "outputs": [
    {
     "name": "stderr",
     "output_type": "stream",
     "text": [
      "/usr/local/lib/python3.6/dist-packages/statsmodels/tools/_testing.py:19: FutureWarning: pandas.util.testing is deprecated. Use the functions in the public API at pandas.testing instead.\n",
      "  import pandas.util.testing as tm\n"
     ]
    }
   ],
   "source": [
    "# Shuffle the Dataset.\n",
    "shuffled_df = berita.sample(frac=1,random_state=1)\n",
    "\n",
    "# Put all the fraud class in a separate dataset.\n",
    "health = shuffled_df.loc[shuffled_df['kategori'] == 'health']\n",
    "\n",
    "#Randomly select 100 observations from the non-health (majority class)\n",
    "df1 = shuffled_df.loc[shuffled_df['kategori'] == 'science'].sample(n=100,random_state=1)\n",
    "df2 = shuffled_df.loc[shuffled_df['kategori'] == 'technology'].sample(n=100)\n",
    "df3 = shuffled_df.loc[shuffled_df['kategori'] == 'entertainment'].sample(n=100,random_state=1)\n",
    "df4 = shuffled_df.loc[shuffled_df['kategori'] == 'business'].sample(n=100,random_state=1)\n",
    "\n",
    "# Concatenate both dataframes again\n",
    "berita = pd.concat([health, df1,df2,df3,df4])"
   ]
  },
  {
   "cell_type": "code",
   "execution_count": null,
   "metadata": {
    "colab": {},
    "colab_type": "code",
    "id": "wSQJH-X9TIDc"
   },
   "outputs": [],
   "source": [
    "raw_news=berita[[\"isi\",\"kategori\"]]"
   ]
  },
  {
   "cell_type": "code",
   "execution_count": null,
   "metadata": {
    "colab": {
     "base_uri": "https://localhost:8080/",
     "height": 115
    },
    "colab_type": "code",
    "executionInfo": {
     "elapsed": 1346,
     "status": "ok",
     "timestamp": 1594639954636,
     "user": {
      "displayName": "ARIEF AKBAR HIDAYAT MHS 2017",
      "photoUrl": "https://lh3.googleusercontent.com/a-/AOh14GgpxjnV7zTpLouYOAYyyr7JileDmvj56ntyPr5Y=s64",
      "userId": "11849805901853145430"
     },
     "user_tz": -420
    },
    "id": "CYyCWJ6jpImW",
    "outputId": "2b499f2d-472c-4070-d465-7514b1fbb1b8"
   },
   "outputs": [
    {
     "data": {
      "text/plain": [
       "science          100\n",
       "entertainment    100\n",
       "technology       100\n",
       "business         100\n",
       "health            71\n",
       "Name: kategori, dtype: int64"
      ]
     },
     "execution_count": 8,
     "metadata": {
      "tags": []
     },
     "output_type": "execute_result"
    }
   ],
   "source": [
    "raw_news['kategori'].value_counts()"
   ]
  },
  {
   "cell_type": "markdown",
   "metadata": {
    "colab_type": "text",
    "id": "96Y4U5MnSxLP"
   },
   "source": [
    "# cek kualitas data"
   ]
  },
  {
   "cell_type": "code",
   "execution_count": null,
   "metadata": {
    "colab": {
     "base_uri": "https://localhost:8080/",
     "height": 1000
    },
    "colab_type": "code",
    "executionInfo": {
     "elapsed": 813,
     "status": "ok",
     "timestamp": 1594442004438,
     "user": {
      "displayName": "ARIEF AKBAR HIDAYAT MHS 2017",
      "photoUrl": "https://lh3.googleusercontent.com/a-/AOh14GgpxjnV7zTpLouYOAYyyr7JileDmvj56ntyPr5Y=s64",
      "userId": "11849805901853145430"
     },
     "user_tz": -420
    },
    "id": "yGJOxnObNXrR",
    "outputId": "16920d37-3151-4c3a-a074-77170cdcf528"
   },
   "outputs": [
    {
     "data": {
      "text/html": [
       "<div>\n",
       "<style scoped>\n",
       "    .dataframe tbody tr th:only-of-type {\n",
       "        vertical-align: middle;\n",
       "    }\n",
       "\n",
       "    .dataframe tbody tr th {\n",
       "        vertical-align: top;\n",
       "    }\n",
       "\n",
       "    .dataframe thead th {\n",
       "        text-align: right;\n",
       "    }\n",
       "</style>\n",
       "<table border=\"1\" class=\"dataframe\">\n",
       "  <thead>\n",
       "    <tr style=\"text-align: right;\">\n",
       "      <th></th>\n",
       "      <th>isi</th>\n",
       "      <th>kategori</th>\n",
       "    </tr>\n",
       "  </thead>\n",
       "  <tbody>\n",
       "    <tr>\n",
       "      <th>493</th>\n",
       "      <td>Scientists want people to send them their wildlife experiences under the coronavirus lockdown. They are keen to hear recordings of dawn choruses, animals in unusual places, and views of the night sky without pollution. The Earth Project is a global citizen science study co-ordinated by scientists across UK universities.It hopes to showcase how nature has capitalised on reduced human activity during the pandemic. The researchers want the public to help them capture a global representation of what we experienced on the ground during lockdown.\"We are hoping to create a useful shared library of baseline experiences for the public, reminding us in the future of what life and our relationship with nature could be when global public mobility and many pollution-generating activities are reduced,\" explained Phil Manning from the University of Manchester.The team acknowledges that \"significant sacrifices\" will have to be made by everyone in order to reduce our impact on the planet's climate system, and to move towards the sustainable use of the Earth's natural resources. It is hoped that the positive experiences many people had with nature during lockdown, and the recollection of those experiences, will help build the case for behaviour changes to help shift us towards sustainability.During the lockdown, wildlife reclaiming the streets of towns and cities during lockdown have made headlines around the world. For example, goats that normally keep themselves to themselves in the hills surrounding Llandudno, Wales, ventured into the town's deserted streets.People have also reported that they have been able to hear birdsong more clearly without the constant hum of traffic.The submissions will be collated by the Earth Project team, which consists of concerned citizens alongside scientists from multiple UK universities, including Bangor, Belfast, Durham, Manchester and Plymouth.Prof Manning told BBC News that the recordings of birdsong, night skies and nature calls will be made available online for everyone to enjoy and to relive the better moments of life under lockdown.\"The survey results will help provide an overview of people's observations and thoughts on the environment before, during and after lockdown,\" he observed.\"The responses will be analysed and summarised and then made available along with the database on our website during the late Summer and Autumn of 2020.\"He said that it was hoped that the findings of the survey could encourage behaviour change and help shape policies and strategies that could deliver greener and sustainable lifestyles.\"The Earth Project… has the potential to provide a snapshot of what happened to the environment and wildlife when human activity is drastically reduced or simply managed in a more sustainable way,\" Prof Manning said.As part of the project's survey, it will ask people whether they are willing to make changes to their behaviour to help improve the world around them.Prof Manning added: \"This information will be evaluated in our inclusive Earth Project think-tank and, hopefully, this could impact future behaviour and guide those who make policy decisions.\"The Earth Project has the potential to help catalyse humankind to a sustainable future.\"You can access the Earth Project -Live website here.</td>\n",
       "      <td>science</td>\n",
       "    </tr>\n",
       "    <tr>\n",
       "      <th>291</th>\n",
       "      <td>A clear picture is emerging of why the asteroid that struck Earth 66 million years ago was so catastrophic.The space object, which wiped out 75% of all species including the dinosaurs, hit the worst possible place on the planet and - according to new research - at the most lethal angle.Investigations at the crater site, together with computer simulations, suggest the impactor dug into the crust at an inclination of up to 60 degrees.This exacerbated the climatic fallout.We know that the target rocks, in what is now the Gulf of Mexico, contained huge volumes of sulphur from the mineral gypsum. When this material was thrown high into the atmosphere and mixed with water vapour, it produced a \"global winter\".And the angle of attack ensured this environmental crisis was intense and prolonged.   \"At 45 to 60 degrees, the impact is very efficient at vaporising and ejecting debris to high altitude. If the impact happens at shallower or much steeper angles, the amount of material that's put into the atmosphere that can then have climate-changing effects is significantly less,\" explained Prof Gareth Collins from Imperial College London. \"It's evident that the nature of the location where this event happened, together with the impact angle, made for a perfect storm,\" he told BBC News.The majority of plant and animal life on Earth succumbed to the the challenging conditions.Prof Collins' and colleagues' work is published in the journal Nature Communications.Prof Collins is part of an international team that's been studying the anatomy of the crater associated with the calamitous asteroid strike. Today, this 200km-wide structure is positioned under Mexico's Yucatan Peninsula, with its best preserved central portions sitting just offshore of the port of Chicxulub.It's hard to grasp the scale of the forces that produced it.The impactor, thought to be about 12km in diameter, punched an instantaneous hole in the crust that was probably some 30km deep. As fluidised rocks at the base of this bowl rebounded, they created in just a few minutes a mountain that was higher than Everest. This didn't last, however, and it fell back, to leave a prominent inner ring of hills, or peaks.What's interesting from Prof Collins' perspective is the asymmetry that was frozen into the Chicxulub structure.For example, if you look at the centres of the crater, of its peak ring and of the uplifted rock that underlies the crust in Earth's mantle - these points do not map directly on top of each other. They're actually aligned in a northeast-southwest direction, with the crater centre in between the centres of mantle uplift and peak-ring formation.This is a vital clue in determining not only the direction from which the asteroid arrived but the angle at which it hit the planet.The Imperial researcher ran a number of simulations on the UK Science and Technology Facilities Council (STFC) DiRAC High Performance Computing Facility. The only way he can reproduce the geometry is by having the asteroid come in from the northeast and strike the Earth at an angle of roughly 60 degrees.Prof Collins said: \"If you run the model at different impact angles, at 30 degrees and at 45 degrees, say, you can't match the observations - you get centres of mantle uplift and of the peak ring on the downrange side of the crater centre. And for a straight overhead impact, at 90 degrees, the centres are all on top of each other. So, that's doesn't match the observations, either.\"Imperial colleague and co-author Prof Joanna Morgan added: \"Knowing the direction of impact means we now know which part of the target site was subjected to the greatest shock pressures. \"The sulphur-bearing and carbon-bearing sedimentary rocks actually thicken as you go from east to west, and to the south. So this result means we're degassing more of those sediments than we would if you just took an average value for their thickness.\"And Prof Sean Gulick from the University of Texas at Austin, US, told BBC News: \"This new modelling provides a clear answer to the angle of the impact and the direction of the impact that largely settles a long-standing debate on what was downrange of the impact.  \"Also critical is that a 60-degree angle is in the range of the worst options for injecting large volumes of vaporised and ejected sulphur-rich rocks into the atmosphere.  \"Thus these results are critical for understanding potential 'kill mechanisms',\" the co-author explained.Gulick and Morgan led the expedition that drilled into the Chicxulub Crater in 2016 to recover some of its rocks for an analysis. A follow-up, high-resolution seismic survey is due to take place late this summer that will provide an enhanced 3D view of the structure.The impact that changed life on EarthJonathan.Amos-INTERNET@bbc.co.uk and follow me on Twitter: @BBCAmos</td>\n",
       "      <td>science</td>\n",
       "    </tr>\n",
       "    <tr>\n",
       "      <th>556</th>\n",
       "      <td>Global sport faces major disruption from climate change in coming decades, according to a new analysis.By 2050, it's estimated that almost one in four English football league grounds can expect flooding every year. But tennis, rugby, athletics and winter sports will also face serious challenges from the impacts of rising temperatures, the author says. The study finds that sports leaders are, in the main, failing to address the issue seriously.While the Covid-19 pandemic has disrupted sports as much as any other aspect of social life, many experts believe that this is just a dress rehearsal for the long-term impacts on sport of a world that's way too hot.Extreme weather events, related to rising temperatures, have already disrupted some of the world's most high-profile sports in recent years. A typhoon, which wreaked havoc in Japan last year, also affected fixtures at the Rugby Union World being held there. Smoke from bush fires stopped play at the Australian Tennis Open at the start of this year. These and many other instances are a foretaste of the future, according to this new study compiled by academic and author David Goldblatt.As football slowly recovers from the coronavirus crisis, his analysis shows that 23 of 92 English football league clubs will face partial or total annual flooding of their stadiums by 2050.In the current Premier League, the home grounds of Southampton, Norwich, Chelsea and West Ham face a similar threat.Cricket faces huge challenges globally as temperatures rise in places like India, Australia and the West Indies.Venues in Adelaide and Perth will see a 60% increase in days with temperatures over 40C over the next decade. In golf, one in three British Open courses will be damaged by rising sea-levels, the report says. Winter sports also face an uncertain future. Researchers say that of the 19 venues that have already hosted the Winter Olympics, just 10 will be able to hold them by 2050.But as well as showing the likely impacts of climate change on sports, the new study also looks at the contribution that the sporting industry makes to carbon emissions. The author says that the scale of CO2 is equivalent to a country like Bolivia at the low end but as large as a country like Spain on the high end.The estimations are likely an underestimate as they exclude the global sportswear and sports broadcasting industries, who have impacts on carbon that are difficult to calculate.Whatever the size of its carbon footprint, the cultural significance of sport gives it a tremendous platform to effect change, says the author. \"Sport may be just big enough to register, in terms of carbon emissions, as a small nation state, or a single megacity, but its own efforts are just a fraction of a percentage point of the world total,\" said David Goldblatt.\"Making a carbon zero world the common sense priority of the sports world would make a huge contribution to making it the common sense priority of all politics,\" he said.While some organisations including the International Olympic Committee and FIFA have signed up to a UN action plan to make sport carbon neutral by 2050, the majority of sports authorities have not. The International Cricket Council is one of those who have not signed up. Among winter sports, only the ice hockey and skiing federations have joined, \"which makes one wonder what the people in charge of luge and bobsleigh think they are going to be sliding on in the future,\" the report waspishly notes. The report was commissioned by the Rapid Transition Alliance, a international group of academics and campaigners who argue for a faster response to climate change. \"A first step would be to bring an end to sponsorship from fossil fuel companies and products promoting fossil fuel intensive lifestyles,\" said Andrew Simms from the group.\"If players also speak out and say they believe clean air and a stable climate matter, millions more will see the possibilities for change.  It will not only send a message of hope for the wider world, but it will help to guarantee a planet that is safe for sport.\"Follow Matt on Twitter @mattmcgrathbbc.</td>\n",
       "      <td>science</td>\n",
       "    </tr>\n",
       "    <tr>\n",
       "      <th>458</th>\n",
       "      <td>Human impacts on the places on Earth with the most richness of life have brought hundreds of wild animals to the brink of extinction, a study shows.The likes of logging and poaching have pushed 500 mammals, birds, reptiles and amphibians to the point where they're hanging by a thread, research found.This is yet more evidence that the world's undergoing a sixth mass extinction, scientists argue.Species are disappearing at more than 100 times the natural rate, they say. And unlike other mass extinctions, caused by volcano eruptions or asteroid collisions, we only have ourselves to blame.Prof Gerardo Ceballos of the National University of Mexico in Mexico City, said regional ecosystems are facing collapse. \"We have entered the sixth mass extinction,\" he told BBC News. \"Based on our research and what we're seeing, the extinction crisis is so bad that whatever we do in the next 10 to 50 years is what will define the future of humanity.\"Prof Ceballos worked on the study with two other well-known conservation scientists, Stanford University's Prof Paul Erhlich, and Dr Peter Raven of the Missouri Botanical Garden in St Louis, US.Using data from the International Union for the Conservation of Nature (IUCN) Red List of threatened species and Birdlife (the bird authority for the IUCN), they identified at least 515 species that are on the brink of extinction, with fewer than a thousand individuals left. The animals are found on every continent save Antarctica, in places highly impacted by humans, primarily in the tropics and subtropics.They include the Golden Lion Tamarin, Ethiopian Wolf, Javan Rhinoceros, Spanish Imperial Eagle, Yellow-eared Parrot, Gharial and Green Poison Frog.The scientists describe the extinction crisis as an existential threat to civilisation, along with climate change and pollution, to which it is tied.And they say they have a \"moral imperative\" to draw attention to the loss of biodiversity, which they say is still rather ignored by most people.The research is published in the journal Proceedings of the National Academy of Sciences (PNAS).Commenting, Prof Diana Fisher of the University of Queensland, Australia, said the study deserved attention because so many people don't realise how much of the world's wildlife faces impending extinction. \"I agree with the authors that this extinction crisis needs to be elevated to an emergency equal to climate change,\" she said.Prof Chris Johnson of the University of Tasmania said the current rate of extinction of species is higher than at any time since 66 million years ago, when the collision of a space-rock with the Earth killed off dinosaurs and many other species. \"Threats to species in today's world - things like habitat destruction and climate change - are growing rapidly,\" he said, adding that the 515 species down to 1,000 or fewer individuals are likely to be gone very soon.  And Prof Euan Ritchie of Deakin University in Australia said the study \"is yet more dire confirmation that we are destroying life at a horrific pace and scale\".Follow Helen on Twitter.</td>\n",
       "      <td>science</td>\n",
       "    </tr>\n",
       "    <tr>\n",
       "      <th>514</th>\n",
       "      <td>Conservation groups have welcomed China's move to remove pangolins from the official list of traditional Chinese medicine treatments, saying this could be a \"game changer\".The news, reported by China's Health Times newspaper, comes after China raised the animal's protected status to the highest level last week.Pangolins have been pushed to the brink by illegal hunting for scales and meat.They are implicated in coronavirus, but the evidence is unclear.Conservation charities have welcomed the move to remove them from the official list of traditional Chinese medicines. Paul Thomson of Save Pangolins said it was a breakthrough moment. \"China's move to phase out pangolin scales from traditional medicines could be the game changer we have been waiting for,\" he said. \"We hope China's next move will be to enforce the regulations and work to change consumer behaviour.\"And Katheryn Wise of animal welfare campaign group, World Animal Protection, said it was \"great news\" that China had upgraded pangolins to the highest level of protection and removed them from the Chinese Pharmacopoeia.She called for this to be extended to all wild animals, \"who, like pangolins, are poached from the wild and often placed in squalid, cramped cages, creating a lethal hotbed of disease\".Pangolins are covered with a layer of scales, which are designed to protect them against predators. The scales are highly coveted by traditional Chinese medicine practitioners, while pangolin meat is seen as a delicacy. China banned the consumption of live wild animals for food in the wake of the outbreak, but there are certain exemptions, such as for medicine or fur.Pangolins are in the spotlight as a possible animal host for coronavirus, but no direct link has been shown.Nicole Benjamin-Fink of Conservation Beyond Borders said that, whether pangolins served as the conduit for the coronavirus or not, it's time to halt the demand for the most trafficked mammals worldwide. \"Let's hope that this ban is the first in a series that ultimately ban all wildlife usage in traditional Chinese medicine,\" she said.Pangolins eat ants and other insects, and are often known as the scaly anteater. All eight species are protected under international law, but trade has been growing.Follow Helen on Twitter.</td>\n",
       "      <td>science</td>\n",
       "    </tr>\n",
       "  </tbody>\n",
       "</table>\n",
       "</div>"
      ],
      "text/plain": [
       "                                                                                                                                                                                                                                                                                                                                                                                                                                                                                                                                                                                                                                                                                                                                                                                                                                                                                                                                                                                                                                                                                                                                                                                                                                                                                                                                                                                                                                                                                                                                                                                                                                                                                                                                                                                                                                                                                                                                                                                                                                                                                                                                                                                                                                                                                                                                                                                                                                                                                                                                                                                                                                                                                                                                                                                                                                                                                                                                                                                                                                                                                                                                                                                                                                                                                                                                                                                                                                                                                                                                                                                                                                                                                                                                                                                                                                                                                                                                                                                                                                                                                                                                                                                                                                                                                                                                                                                                                                                                                                                                                                                                                                                                                                                                                                                                                                                                                                                                                                                                                           isi kategori\n",
       "493                                                                                                                                                                                                                                                                                                                                                                                                                                                                                                                                                                                                                                                                                                                                                                                                                                                                                                                                                                                                                                                                                                                                                                                                                                                                                                                                                                                                                                                                                                                                                                                                         Scientists want people to send them their wildlife experiences under the coronavirus lockdown. They are keen to hear recordings of dawn choruses, animals in unusual places, and views of the night sky without pollution. The Earth Project is a global citizen science study co-ordinated by scientists across UK universities.It hopes to showcase how nature has capitalised on reduced human activity during the pandemic. The researchers want the public to help them capture a global representation of what we experienced on the ground during lockdown.\"We are hoping to create a useful shared library of baseline experiences for the public, reminding us in the future of what life and our relationship with nature could be when global public mobility and many pollution-generating activities are reduced,\" explained Phil Manning from the University of Manchester.The team acknowledges that \"significant sacrifices\" will have to be made by everyone in order to reduce our impact on the planet's climate system, and to move towards the sustainable use of the Earth's natural resources. It is hoped that the positive experiences many people had with nature during lockdown, and the recollection of those experiences, will help build the case for behaviour changes to help shift us towards sustainability.During the lockdown, wildlife reclaiming the streets of towns and cities during lockdown have made headlines around the world. For example, goats that normally keep themselves to themselves in the hills surrounding Llandudno, Wales, ventured into the town's deserted streets.People have also reported that they have been able to hear birdsong more clearly without the constant hum of traffic.The submissions will be collated by the Earth Project team, which consists of concerned citizens alongside scientists from multiple UK universities, including Bangor, Belfast, Durham, Manchester and Plymouth.Prof Manning told BBC News that the recordings of birdsong, night skies and nature calls will be made available online for everyone to enjoy and to relive the better moments of life under lockdown.\"The survey results will help provide an overview of people's observations and thoughts on the environment before, during and after lockdown,\" he observed.\"The responses will be analysed and summarised and then made available along with the database on our website during the late Summer and Autumn of 2020.\"He said that it was hoped that the findings of the survey could encourage behaviour change and help shape policies and strategies that could deliver greener and sustainable lifestyles.\"The Earth Project… has the potential to provide a snapshot of what happened to the environment and wildlife when human activity is drastically reduced or simply managed in a more sustainable way,\" Prof Manning said.As part of the project's survey, it will ask people whether they are willing to make changes to their behaviour to help improve the world around them.Prof Manning added: \"This information will be evaluated in our inclusive Earth Project think-tank and, hopefully, this could impact future behaviour and guide those who make policy decisions.\"The Earth Project has the potential to help catalyse humankind to a sustainable future.\"You can access the Earth Project -Live website here.  science\n",
       "291  A clear picture is emerging of why the asteroid that struck Earth 66 million years ago was so catastrophic.The space object, which wiped out 75% of all species including the dinosaurs, hit the worst possible place on the planet and - according to new research - at the most lethal angle.Investigations at the crater site, together with computer simulations, suggest the impactor dug into the crust at an inclination of up to 60 degrees.This exacerbated the climatic fallout.We know that the target rocks, in what is now the Gulf of Mexico, contained huge volumes of sulphur from the mineral gypsum. When this material was thrown high into the atmosphere and mixed with water vapour, it produced a \"global winter\".And the angle of attack ensured this environmental crisis was intense and prolonged.   \"At 45 to 60 degrees, the impact is very efficient at vaporising and ejecting debris to high altitude. If the impact happens at shallower or much steeper angles, the amount of material that's put into the atmosphere that can then have climate-changing effects is significantly less,\" explained Prof Gareth Collins from Imperial College London. \"It's evident that the nature of the location where this event happened, together with the impact angle, made for a perfect storm,\" he told BBC News.The majority of plant and animal life on Earth succumbed to the the challenging conditions.Prof Collins' and colleagues' work is published in the journal Nature Communications.Prof Collins is part of an international team that's been studying the anatomy of the crater associated with the calamitous asteroid strike. Today, this 200km-wide structure is positioned under Mexico's Yucatan Peninsula, with its best preserved central portions sitting just offshore of the port of Chicxulub.It's hard to grasp the scale of the forces that produced it.The impactor, thought to be about 12km in diameter, punched an instantaneous hole in the crust that was probably some 30km deep. As fluidised rocks at the base of this bowl rebounded, they created in just a few minutes a mountain that was higher than Everest. This didn't last, however, and it fell back, to leave a prominent inner ring of hills, or peaks.What's interesting from Prof Collins' perspective is the asymmetry that was frozen into the Chicxulub structure.For example, if you look at the centres of the crater, of its peak ring and of the uplifted rock that underlies the crust in Earth's mantle - these points do not map directly on top of each other. They're actually aligned in a northeast-southwest direction, with the crater centre in between the centres of mantle uplift and peak-ring formation.This is a vital clue in determining not only the direction from which the asteroid arrived but the angle at which it hit the planet.The Imperial researcher ran a number of simulations on the UK Science and Technology Facilities Council (STFC) DiRAC High Performance Computing Facility. The only way he can reproduce the geometry is by having the asteroid come in from the northeast and strike the Earth at an angle of roughly 60 degrees.Prof Collins said: \"If you run the model at different impact angles, at 30 degrees and at 45 degrees, say, you can't match the observations - you get centres of mantle uplift and of the peak ring on the downrange side of the crater centre. And for a straight overhead impact, at 90 degrees, the centres are all on top of each other. So, that's doesn't match the observations, either.\"Imperial colleague and co-author Prof Joanna Morgan added: \"Knowing the direction of impact means we now know which part of the target site was subjected to the greatest shock pressures. \"The sulphur-bearing and carbon-bearing sedimentary rocks actually thicken as you go from east to west, and to the south. So this result means we're degassing more of those sediments than we would if you just took an average value for their thickness.\"And Prof Sean Gulick from the University of Texas at Austin, US, told BBC News: \"This new modelling provides a clear answer to the angle of the impact and the direction of the impact that largely settles a long-standing debate on what was downrange of the impact.  \"Also critical is that a 60-degree angle is in the range of the worst options for injecting large volumes of vaporised and ejected sulphur-rich rocks into the atmosphere.  \"Thus these results are critical for understanding potential 'kill mechanisms',\" the co-author explained.Gulick and Morgan led the expedition that drilled into the Chicxulub Crater in 2016 to recover some of its rocks for an analysis. A follow-up, high-resolution seismic survey is due to take place late this summer that will provide an enhanced 3D view of the structure.The impact that changed life on EarthJonathan.Amos-INTERNET@bbc.co.uk and follow me on Twitter: @BBCAmos  science\n",
       "556                                                                                                                                                                                                                                                                                                                                                                                                                                                                                                                                                                                                                                                                                                                                   Global sport faces major disruption from climate change in coming decades, according to a new analysis.By 2050, it's estimated that almost one in four English football league grounds can expect flooding every year. But tennis, rugby, athletics and winter sports will also face serious challenges from the impacts of rising temperatures, the author says. The study finds that sports leaders are, in the main, failing to address the issue seriously.While the Covid-19 pandemic has disrupted sports as much as any other aspect of social life, many experts believe that this is just a dress rehearsal for the long-term impacts on sport of a world that's way too hot.Extreme weather events, related to rising temperatures, have already disrupted some of the world's most high-profile sports in recent years. A typhoon, which wreaked havoc in Japan last year, also affected fixtures at the Rugby Union World being held there. Smoke from bush fires stopped play at the Australian Tennis Open at the start of this year. These and many other instances are a foretaste of the future, according to this new study compiled by academic and author David Goldblatt.As football slowly recovers from the coronavirus crisis, his analysis shows that 23 of 92 English football league clubs will face partial or total annual flooding of their stadiums by 2050.In the current Premier League, the home grounds of Southampton, Norwich, Chelsea and West Ham face a similar threat.Cricket faces huge challenges globally as temperatures rise in places like India, Australia and the West Indies.Venues in Adelaide and Perth will see a 60% increase in days with temperatures over 40C over the next decade. In golf, one in three British Open courses will be damaged by rising sea-levels, the report says. Winter sports also face an uncertain future. Researchers say that of the 19 venues that have already hosted the Winter Olympics, just 10 will be able to hold them by 2050.But as well as showing the likely impacts of climate change on sports, the new study also looks at the contribution that the sporting industry makes to carbon emissions. The author says that the scale of CO2 is equivalent to a country like Bolivia at the low end but as large as a country like Spain on the high end.The estimations are likely an underestimate as they exclude the global sportswear and sports broadcasting industries, who have impacts on carbon that are difficult to calculate.Whatever the size of its carbon footprint, the cultural significance of sport gives it a tremendous platform to effect change, says the author. \"Sport may be just big enough to register, in terms of carbon emissions, as a small nation state, or a single megacity, but its own efforts are just a fraction of a percentage point of the world total,\" said David Goldblatt.\"Making a carbon zero world the common sense priority of the sports world would make a huge contribution to making it the common sense priority of all politics,\" he said.While some organisations including the International Olympic Committee and FIFA have signed up to a UN action plan to make sport carbon neutral by 2050, the majority of sports authorities have not. The International Cricket Council is one of those who have not signed up. Among winter sports, only the ice hockey and skiing federations have joined, \"which makes one wonder what the people in charge of luge and bobsleigh think they are going to be sliding on in the future,\" the report waspishly notes. The report was commissioned by the Rapid Transition Alliance, a international group of academics and campaigners who argue for a faster response to climate change. \"A first step would be to bring an end to sponsorship from fossil fuel companies and products promoting fossil fuel intensive lifestyles,\" said Andrew Simms from the group.\"If players also speak out and say they believe clean air and a stable climate matter, millions more will see the possibilities for change.  It will not only send a message of hope for the wider world, but it will help to guarantee a planet that is safe for sport.\"Follow Matt on Twitter @mattmcgrathbbc.  science\n",
       "458                                                                                                                                                                                                                                                                                                                                                                                                                                                                                                                                                                                                                                                                                                                                                                                                                                                                                                                                                                                                                                                                                                                                                                                                                                                                                                                                                                                                                                                                                                                                                                                                                                                                                                                                                                                                                              Human impacts on the places on Earth with the most richness of life have brought hundreds of wild animals to the brink of extinction, a study shows.The likes of logging and poaching have pushed 500 mammals, birds, reptiles and amphibians to the point where they're hanging by a thread, research found.This is yet more evidence that the world's undergoing a sixth mass extinction, scientists argue.Species are disappearing at more than 100 times the natural rate, they say. And unlike other mass extinctions, caused by volcano eruptions or asteroid collisions, we only have ourselves to blame.Prof Gerardo Ceballos of the National University of Mexico in Mexico City, said regional ecosystems are facing collapse. \"We have entered the sixth mass extinction,\" he told BBC News. \"Based on our research and what we're seeing, the extinction crisis is so bad that whatever we do in the next 10 to 50 years is what will define the future of humanity.\"Prof Ceballos worked on the study with two other well-known conservation scientists, Stanford University's Prof Paul Erhlich, and Dr Peter Raven of the Missouri Botanical Garden in St Louis, US.Using data from the International Union for the Conservation of Nature (IUCN) Red List of threatened species and Birdlife (the bird authority for the IUCN), they identified at least 515 species that are on the brink of extinction, with fewer than a thousand individuals left. The animals are found on every continent save Antarctica, in places highly impacted by humans, primarily in the tropics and subtropics.They include the Golden Lion Tamarin, Ethiopian Wolf, Javan Rhinoceros, Spanish Imperial Eagle, Yellow-eared Parrot, Gharial and Green Poison Frog.The scientists describe the extinction crisis as an existential threat to civilisation, along with climate change and pollution, to which it is tied.And they say they have a \"moral imperative\" to draw attention to the loss of biodiversity, which they say is still rather ignored by most people.The research is published in the journal Proceedings of the National Academy of Sciences (PNAS).Commenting, Prof Diana Fisher of the University of Queensland, Australia, said the study deserved attention because so many people don't realise how much of the world's wildlife faces impending extinction. \"I agree with the authors that this extinction crisis needs to be elevated to an emergency equal to climate change,\" she said.Prof Chris Johnson of the University of Tasmania said the current rate of extinction of species is higher than at any time since 66 million years ago, when the collision of a space-rock with the Earth killed off dinosaurs and many other species. \"Threats to species in today's world - things like habitat destruction and climate change - are growing rapidly,\" he said, adding that the 515 species down to 1,000 or fewer individuals are likely to be gone very soon.  And Prof Euan Ritchie of Deakin University in Australia said the study \"is yet more dire confirmation that we are destroying life at a horrific pace and scale\".Follow Helen on Twitter.  science\n",
       "514                                                                                                                                                                                                                                                                                                                                                                                                                                                                                                                                                                                                                                                                                                                                                                                                                                                                                                                                                                                                                                                                                                                                                                                                                                                                                                                                                                                                                                                                                                                                                                                                                                                                                                                                                                                                                                                                                                                                                                                                                                                                                                                                                                                                                                                                                                                                                                                                                                                                                                                                                                                                                                                    Conservation groups have welcomed China's move to remove pangolins from the official list of traditional Chinese medicine treatments, saying this could be a \"game changer\".The news, reported by China's Health Times newspaper, comes after China raised the animal's protected status to the highest level last week.Pangolins have been pushed to the brink by illegal hunting for scales and meat.They are implicated in coronavirus, but the evidence is unclear.Conservation charities have welcomed the move to remove them from the official list of traditional Chinese medicines. Paul Thomson of Save Pangolins said it was a breakthrough moment. \"China's move to phase out pangolin scales from traditional medicines could be the game changer we have been waiting for,\" he said. \"We hope China's next move will be to enforce the regulations and work to change consumer behaviour.\"And Katheryn Wise of animal welfare campaign group, World Animal Protection, said it was \"great news\" that China had upgraded pangolins to the highest level of protection and removed them from the Chinese Pharmacopoeia.She called for this to be extended to all wild animals, \"who, like pangolins, are poached from the wild and often placed in squalid, cramped cages, creating a lethal hotbed of disease\".Pangolins are covered with a layer of scales, which are designed to protect them against predators. The scales are highly coveted by traditional Chinese medicine practitioners, while pangolin meat is seen as a delicacy. China banned the consumption of live wild animals for food in the wake of the outbreak, but there are certain exemptions, such as for medicine or fur.Pangolins are in the spotlight as a possible animal host for coronavirus, but no direct link has been shown.Nicole Benjamin-Fink of Conservation Beyond Borders said that, whether pangolins served as the conduit for the coronavirus or not, it's time to halt the demand for the most trafficked mammals worldwide. \"Let's hope that this ban is the first in a series that ultimately ban all wildlife usage in traditional Chinese medicine,\" she said.Pangolins eat ants and other insects, and are often known as the scaly anteater. All eight species are protected under international law, but trade has been growing.Follow Helen on Twitter.  science"
      ]
     },
     "execution_count": 10,
     "metadata": {
      "tags": []
     },
     "output_type": "execute_result"
    }
   ],
   "source": [
    "pd.options.display.max_colwidth=30000\n",
    "raw_news.head()"
   ]
  },
  {
   "cell_type": "code",
   "execution_count": null,
   "metadata": {
    "colab": {
     "base_uri": "https://localhost:8080/",
     "height": 1000
    },
    "colab_type": "code",
    "executionInfo": {
     "elapsed": 772,
     "status": "ok",
     "timestamp": 1594442004774,
     "user": {
      "displayName": "ARIEF AKBAR HIDAYAT MHS 2017",
      "photoUrl": "https://lh3.googleusercontent.com/a-/AOh14GgpxjnV7zTpLouYOAYyyr7JileDmvj56ntyPr5Y=s64",
      "userId": "11849805901853145430"
     },
     "user_tz": -420
    },
    "id": "Y_nKSWTFUWqB",
    "outputId": "75258a53-3b61-43e2-ca98-1285bd79492a"
   },
   "outputs": [
    {
     "data": {
      "text/html": [
       "<div>\n",
       "<style scoped>\n",
       "    .dataframe tbody tr th:only-of-type {\n",
       "        vertical-align: middle;\n",
       "    }\n",
       "\n",
       "    .dataframe tbody tr th {\n",
       "        vertical-align: top;\n",
       "    }\n",
       "\n",
       "    .dataframe thead th {\n",
       "        text-align: right;\n",
       "    }\n",
       "</style>\n",
       "<table border=\"1\" class=\"dataframe\">\n",
       "  <thead>\n",
       "    <tr style=\"text-align: right;\">\n",
       "      <th></th>\n",
       "      <th>isi</th>\n",
       "      <th>kategori</th>\n",
       "    </tr>\n",
       "  </thead>\n",
       "  <tbody>\n",
       "    <tr>\n",
       "      <th>1111</th>\n",
       "      <td>Foreign visitors to Spain will no longer have to undergo a two-week quarantine from 1 July, the government has announced.It said the measure had been finalised in a cabinet meeting on Monday.Foreign Minister Arancha Gonzalez Laya had previously said the requirement would be lifted in July, without giving a date.The news comes as the UK government prepares to bring in its own 14-day quarantine policy from 8 June.Travel firms and other industry bodies say the UK should relax the measure for visitors arriving from countries where people are at a lower risk of contracting the coronavirus.Spain normally attracts 80 million tourists a year, with the sector providing more than 12% of the country's GDP.Opening up the holiday market again before the summer season is over is seen as crucial to the Spanish economy. But under the UK's new policy, any tourists returning home after taking holidays in Spain and most other foreign destinations would have to spend two weeks in self-isolation.Several airlines including EasyJet, Jet2 and Ryanair have announced that they plan to resume flights and holidays soon.Easyjet will be resuming flights from 22 airports across Europe from 15 June, as well as regional flights across the UK. But there will only be one international flight from the UK - from Gatwick to Nice in France. Jet2 is planning to resume full services from 1 July, and will fly to several Spanish and Italian destinations, before opening up to Greece and Croatia later in the year.And Ryanair will be restoring 40% of its flights from 1 July and will resume flights from most of the 80 airports it flies from across Europe. Business groups wrote to Boris Johnson on Sunday saying the quarantine would have \"serious consequences\" for the economy and calling for \"air bridge\" deals to be struck with other nations.In their letter to the prime minister, bosses of airlines EasyJet, Tui, Jet2 and Virgin Atlantic, as well as industry bodies Airlines UK, the British Chambers of Commerce, UK Hospitality and manufacturing association Made UK said they had \"serious reservations\" about a \"blanket approach\" to all arrivals into Britain.Instead, they are asking for a more \"targeted, risk-based\" approach when establishing air links with countries that have high infection rates from the pandemic. \"The alternative risks major damage to the arteries of UK trade with key industry supply chains, whilst pushing the UK to the back of the queue as states begin conversations for opening up their borders,\" says the letter.</td>\n",
       "      <td>business</td>\n",
       "    </tr>\n",
       "    <tr>\n",
       "      <th>938</th>\n",
       "      <td>Shoe chain Clarks will cut 900 office jobs worldwide as it tries to position itself for a post virus future. The 195-year-old firm said it had to make \"some difficult decisions\" to re-energise the business, which has seen sales fall over the past year.The jobs will go over the next 18 months, said Clarks, adding that it was part of a wider plan to turn around the firm which will create 200 new jobs.The firm, which cut 170 jobs last year, employs 13,000 people globally.\"There are exciting opportunities ahead for our business, and we are having to make some difficult decisions to get there,\" said chief executive Giorgio Presca. \"We thank all affected staff for their contribution to our business and they leave their roles with our heartfelt respect and support.\"Clarks shut all of its stores in the UK and Ireland during the coronavirus lockdown, and said it will only reopen them \"when it is right and safe to do so\".It has already opened stores in countries including China as restrictions have been lifted, it added.The firm is consulting with its advisers on funding options for the future, it said, without giving further details.The company posted a £84.4m loss last year as sales dropped. It sold 20 million pairs of shoes in the year to February 2019, two million fewer than the year before, citing \"extremely tough\" conditions on the high street.It also said it will close some of its worst-performing stores.Last year it closed its only remaining UK factory after it failed to hit its targets for making desert boots. The factory opened in 2017.The company started making shoes in the UK in 1825 but production was moved to the Far East in 2005.Prior to that, the last remaining Clarks plant in the UK - Millom in Cumbria - closed in 2006.</td>\n",
       "      <td>business</td>\n",
       "    </tr>\n",
       "    <tr>\n",
       "      <th>861</th>\n",
       "      <td>Clothes stores are ramping up plans to reopen - and big discounts could be on offer.Some non-essential retailers will be able to begin reopening next month.One of the UK's biggest fashion retailers, M&amp;S, said: \"We are working towards reopening more space from June.\" But analyst Richard Lin of Retail Economics said stores \"will have to discount heavily\" to sell excess stock that may now be out of season.\"Many clothing retailers have been sitting there with stores full of stock which they haven't be able to shift,\" he said.\"One of the most pressing issues for retailers is working capital and there is a huge overhang of inventory at fashion stores.\"Fashion retailers have been badly hit by the coronavirus crisis. Even those with robust online offerings have reported huge drops in sales.Next, for instance, saw online sales decline by 32% in the three months to the end of April. Like others, it is keen to re-open stores, as soon as it is deemed safe to do so.Next said: \"We have plans in place for the re-purposing of our stores ready to reopen in a socially-distanced world.\"Its measures include installing screens at tills, placing sanitisation stations in stores and managing the number of customers that are allowed to enter its shops.M&amp;S has kept its food stores open during the crisis, including almost 300 shops that sell fashion as well, although these areas have been blocked off.But it says they're ready to be reopened as soon as the government gives it the green light.\"Our 290 stores that sell both clothing and food are led by a single manager - so it means they already have a brilliant working knowledge of the necessary hygiene measures, how to manage social distancing and the flow of our customers in and out of their store,\" M&amp;S said.Last week the government said its strategy was to \"open non-essential retail when and where it is safe to do so\", and subject to those retailers being able to follow new guidelines.It said the intention was for this to happen in phases from 1 June, although it added that it would issue further guidance on which businesses will be allowed to open and when.That guidance can't come soon enough, according to Helen Dickinson, chief executive of the British Retail Consortium (BRC).\"Retailers desperately need clarity in the rules regarding when and how they can open - details that are still lacking,\" she said.She warned that safety must be the primary concern in the decisions, rather than size or type of shop. The retail experience is going to be turned on its head when clothes stores reopen,\" predicted Mr Lin from Retail Economics.\"Retailers are having to reinterpret government guidelines and have to invest heavily to make sure they can create a safe environment.\"He said consumers will remain incredibly anxious and cautious about returning to fashion retailers.Changing rooms are expected to remain closed while customers will be encouraged to avoid touching merchandise.\"Staff will potentially have to walk around spraying shelves,\" Mr Lin said.There are likely to be one-way systems through stores with clear floor markings and signage, while customer entry will be limited and consumers will be encouraged to shop alone.Next said it will \"prioritise the opening of our larger out-of-town stores first\".Their bigger size makes them easier to adapt and they have large car parks and outside spaces to manage queues, it said.\"Retailers have started to plan how they can open stores and follow safety guidelines, with some hinting at sales when they do open their doors, such as Next,\" said Dan Plant, savings expert at UKHotDeals.\"Other popular stores, like Primark, lack online sales space, so we'd expect to see plenty of fashion offers when retailers reopen.\"But while fashion stores may reopen with deep discounts to clear old stock, most online retailers have already been offering sales to encourage shoppers.M&amp;S, for instance, launched its \"rainbow sale\" on Friday with up to 50% off and 10% of takings going to NHS charities.Boohoo, Fat Face, French Connection, Gap, JD Sports , Next, Superdry and Topshop have offered similar 50%-off deals.The likes of Asos, Clarks, Dune, Debenhams, John Lewis, Karen Millen, New Look, Office and Quiz have also been offering cut-price deals.</td>\n",
       "      <td>business</td>\n",
       "    </tr>\n",
       "    <tr>\n",
       "      <th>1733</th>\n",
       "      <td>MPs are to grill health officials on whether they overpaid for personal protective equipment to deal with coronavirus.The MP leading the inquiry says the crisis should not be an excuse for failing to achieve value for money.One focus of their interest could be a little-known pest control company which won a contract to supply PPE worth more than £100m.The government says it wants firms that can quickly provide a lot of PPE.PestFix, part of a company called Crisp Websites, signed the £109m contract with the government on 13 April to supply what were specified as \"urgently needed gloves, gowns and masks to the NHS supply chain.\"The business operates from a unit by Littlehampton Marina on the West Sussex coast. Its accounts show that last year it had net assets of just £18,000.Yet officials sealed the deal with PestFix without putting the order out to other suppliers in a competitive tendering process, saying in the contract that because it was a matter of \"extreme urgency\" they were able to place the order \"without competing or advertising the requirement\".PestFix says it has delivered more than 67 million items of PPE into the NHS Supply Chain.\"Our small, dedicated global team, spanning three continents, has worked non-stop for the past 70 days to support efforts of getting PPE to the front line involving an ongoing and herculean logistics operation,\" its director, Dan England, told BBC News.But the contract has added to concerns that in the scramble to get hold of vital equipment as the coronavirus situation deteriorated, the government may have paid too much.Meg Hillier MP, the chair of the Public Accounts Committee, would not comment on particular cases before taking evidence on Monday.But she said: \"Just getting numbers on its own isn't enough. You need to get value for money for the taxpayer, even in difficult times.\"A hundred public sector contracts worth £342m had been signed for Covid-related PPE by the end of last month, according to the specialist data firm, Tussell.So nearly a third by value was accounted for by the single order to PestFix.One of the UK's most senior civil servants, the permanent secretary of the Cabinet Office, Alex Chisholm, told the committee last week that is was difficult to make value for money assessments in the current situation.\"You'll find for PPE, ventilators and lots of other things we've purchased, that the per unit cost of buying things at great speed from multiple sources in a sellers' market has been higher than we would like to have paid,\" Mr Chisholm said.\"So if you compared the average cost a year ago to what we've been paying now, it's been expensive\".But he said the spending was necessary and there was no alternative.The procurement process has been fraught with problems.A shipment in early May of more than 80 tonnes of protective gowns from Turkey was first delayed and then rejected by inspectors as faulty.Meg Hillier is incensed by the Turkish episode, saying \"We should not be paying money for old rope.\"But small businesses say they have been doing their best to help in the country's hour of need.The next biggest contract for PPE, after PestFix, was granted to a marine supplies company near Salisbury, Ocean Footprint, which had been buying protective masks from China to sell to boatyards.Ocean Footprint agreed to supply the NHS with three million high grade masks for £5m. In the next few days it will have delivered more than a million of them.\"I'm open about what we've done,\" says the managing director Peter Harrison, adding that it is easy to forget how anxious a time it was for health officials and suppliers as the deals were being struck.\"It was desperate. It was all hands on deck. We hadn't even reached the peak.\"The company knew that getting hold of enough masks in rivalry with other countries would be impossible, so it invested £100,000 in its own mask-making machine in order to be able to complete the order.The NHS could have bought similar masks much more cheaply before the crisis, Mr Harrison admits, but he says frantic worldwide demand, rising raw material costs and the need for air transport have sent prices spiralling upwards.He says that at the price he is selling to the government he could offload his entire stock to other buyers in a day.A not-for-profit campaign group, The Good Law Project, has announced that it will seek a judicial review of the decision to award PestFix with its PPE contract.The review would be to find out why there was no competition for the order and how the company was chosen.Dan England from PestFix says: \"We continue to work in close partnership with the NHS, MOD Procurement and DHSC Covid-19 procurement teams, who have all demonstrated incredible dedication in supporting PestFix to deliver this highly complex transaction.\"A Department of Health and Social Care spokesperson said: \"During this unprecedented global pandemic, we have been working around the clock to ensure PPE is delivered as quickly as possible to those on the frontline and we have delivered more than 1.7 billion items since the outbreak began.\"We are prioritising companies that can provide large volumes of PPE at a fast pace, while ensuring all new PPE undergoes vigorous checks to ensure they meet the safety and quality required. We are grateful for all offers - some will be rejected based on these standards.\"</td>\n",
       "      <td>business</td>\n",
       "    </tr>\n",
       "    <tr>\n",
       "      <th>1297</th>\n",
       "      <td>Organised criminals will be exploiting loneliness during lockdown to take money from romance scam victims, a charity has said.Victim Support said people's increased confidence in using the internet to meet and talk leaves them vulnerable.Research in one region shows romance scam victims are groomed, then tricked out of an average of £47,000.One has spoken of how her \"heart ruled my head\" when sending money to the man she thought she loved.Mary, not her real name, was already in the fraudsters' grip before the coronavirus outbreak.But, as the virus started to spread, she believed he was in a country heavily affected, giving him the opportunity to trick more money out of her.She was also feeling the kind of loneliness common among many vulnerable people during the current crisis. The 62-year-old, who is a widow, met \"Arnold\" after using a dating site for the very first time.She said they spoke morning, noon and night for five months about a shared love of music and family.But the man she thought was an American living overseas was, in fact, a organised criminal gang working shifts to private message or speak to her over a crackly line.\"There were red flags, but I kept denying them,\" she said. \"You think you have found the love of your life, and invest yourself 100% into the relationship.\"After about a month, Arnold told her stories such as suffering from an accident, his need for a working laptop, and business problems. He told her how worried he was by the coronavirus outbreak, an event that give him another chance to ask for money.She sent him funds via money transfer, and followed his request not to tell anyone because \"he would be embarrassed when he eventually met members of the family\".She ended up sending thousands of pounds. The money is now lost. It came from savings for a car or a holiday, and included some money that belonged to her daughter, who she first lied to rather than come clean about the loss.\"Eventually I knew I could not lie to my daughter anymore,\" she said. \"It is the emotions that you are left to deal with which is the hard part. I cannot trust anyone, and there is a lot of grief.\"In a fantasy world, I let myself think he is going to turn up and be real. You can be too emotionally involved in it.\"This \"addiction\" to hear someone saying nice things to you, and which blinds you to the reality, is common among victims, according to Lisa Mills, senior fraud manager at Victim Support in Sussex.During the current lockdown, when \"the feelings of loneliness can be overwhelming\", the risks were all the greater, she said.Sussex police run Operation Signature, a campaign to identify and support vulnerable victims of fraud.Romance scam cases were increasing, Mrs Mills said, even before lockdown - a picture reflected nationwide. Criminal gangs \"meet\" people on dating sites, then take the conversation onto private messaging, build up a picture of their victim, then take any opportunity to steal money from them.Source: Action FraudMrs Mills said that, in her experience, victims were split fairly evenly between men and women, with some losing so much money they were forced to remortgage their home.Most struggled to accept they had been scammed, even after the language used in messages was analysed to show they must have been written by different people in a gang, not just one individual.There is thought to be huge under-reporting of these scams, for the same reason.\"It has never been more important to reach out and know how to protect people,\" Mrs Mills said, urging anyone who may be concerned not to feel embarrassed but to seek help.</td>\n",
       "      <td>business</td>\n",
       "    </tr>\n",
       "  </tbody>\n",
       "</table>\n",
       "</div>"
      ],
      "text/plain": [
       "                                                                                                                                                                                                                                                                                                                                                                                                                                                                                                                                                                                                                                                                                                                                                                                                                                                                                                                                                                                                                                                                                                                                                                                                                                                                                                                                                                                                                                                                                                                                                                                                                                                                                                                                                                                                                                                                                                                                                                                                                                                                                                                                                                                                                                                                                                                                                                                                                                                                                                                                                                                                                                                                                                                                                                                                                                                                                                                                                                                                                                                                                                                                                                                                                                                                                                                                                                                                                                                                                                                                                                                                                                                                                                                                                                                                                                                                                                                                                                                                                                                                                                                                                                                                                                                                                                                                                                                                                                                                                                                                                                                                                                                                                                                                                                                                                                                                                                                                                                                                                                                                                                                                                                                                                                                                                                                                                                                                                                                                                                                                                                                       isi  kategori\n",
       "1111                                                                                                                                                                                                                                                                                                                                                                                                                                                                                                                                                                                                                                                                                                                                                                                                                                                                                                                                                                                                                                                                                                                                                                                                                                                                                                                                                                                                                                                                                                                                                                                                                                                                                                                                                                                                                                                                                                                                                                                                                                                                                                                                                                                                                                                                                                                                                                                                                                                                                                                                                                                                                                                                                                                                                                                                                                                                                                                                                         Foreign visitors to Spain will no longer have to undergo a two-week quarantine from 1 July, the government has announced.It said the measure had been finalised in a cabinet meeting on Monday.Foreign Minister Arancha Gonzalez Laya had previously said the requirement would be lifted in July, without giving a date.The news comes as the UK government prepares to bring in its own 14-day quarantine policy from 8 June.Travel firms and other industry bodies say the UK should relax the measure for visitors arriving from countries where people are at a lower risk of contracting the coronavirus.Spain normally attracts 80 million tourists a year, with the sector providing more than 12% of the country's GDP.Opening up the holiday market again before the summer season is over is seen as crucial to the Spanish economy. But under the UK's new policy, any tourists returning home after taking holidays in Spain and most other foreign destinations would have to spend two weeks in self-isolation.Several airlines including EasyJet, Jet2 and Ryanair have announced that they plan to resume flights and holidays soon.Easyjet will be resuming flights from 22 airports across Europe from 15 June, as well as regional flights across the UK. But there will only be one international flight from the UK - from Gatwick to Nice in France. Jet2 is planning to resume full services from 1 July, and will fly to several Spanish and Italian destinations, before opening up to Greece and Croatia later in the year.And Ryanair will be restoring 40% of its flights from 1 July and will resume flights from most of the 80 airports it flies from across Europe. Business groups wrote to Boris Johnson on Sunday saying the quarantine would have \"serious consequences\" for the economy and calling for \"air bridge\" deals to be struck with other nations.In their letter to the prime minister, bosses of airlines EasyJet, Tui, Jet2 and Virgin Atlantic, as well as industry bodies Airlines UK, the British Chambers of Commerce, UK Hospitality and manufacturing association Made UK said they had \"serious reservations\" about a \"blanket approach\" to all arrivals into Britain.Instead, they are asking for a more \"targeted, risk-based\" approach when establishing air links with countries that have high infection rates from the pandemic. \"The alternative risks major damage to the arteries of UK trade with key industry supply chains, whilst pushing the UK to the back of the queue as states begin conversations for opening up their borders,\" says the letter.  business\n",
       "938                                                                                                                                                                                                                                                                                                                                                                                                                                                                                                                                                                                                                                                                                                                                                                                                                                                                                                                                                                                                                                                                                                                                                                                                                                                                                                                                                                                                                                                                                                                                                                                                                                                                                                                                                                                                                                                                                                                                                                                                                                                                                                                                                                                                                                                                                                                                                                                                                                                                                                                                                                                                                                                                                                                                                                                                                                                                                                                                                                                                                                                                                                                                                                                                                                                                                                                                                                                                                                                                                                                                                                                                                                                                                                                                                           Shoe chain Clarks will cut 900 office jobs worldwide as it tries to position itself for a post virus future. The 195-year-old firm said it had to make \"some difficult decisions\" to re-energise the business, which has seen sales fall over the past year.The jobs will go over the next 18 months, said Clarks, adding that it was part of a wider plan to turn around the firm which will create 200 new jobs.The firm, which cut 170 jobs last year, employs 13,000 people globally.\"There are exciting opportunities ahead for our business, and we are having to make some difficult decisions to get there,\" said chief executive Giorgio Presca. \"We thank all affected staff for their contribution to our business and they leave their roles with our heartfelt respect and support.\"Clarks shut all of its stores in the UK and Ireland during the coronavirus lockdown, and said it will only reopen them \"when it is right and safe to do so\".It has already opened stores in countries including China as restrictions have been lifted, it added.The firm is consulting with its advisers on funding options for the future, it said, without giving further details.The company posted a £84.4m loss last year as sales dropped. It sold 20 million pairs of shoes in the year to February 2019, two million fewer than the year before, citing \"extremely tough\" conditions on the high street.It also said it will close some of its worst-performing stores.Last year it closed its only remaining UK factory after it failed to hit its targets for making desert boots. The factory opened in 2017.The company started making shoes in the UK in 1825 but production was moved to the Far East in 2005.Prior to that, the last remaining Clarks plant in the UK - Millom in Cumbria - closed in 2006.  business\n",
       "861                                                                                                                                                                                                                                                                                                                                                                                                                                                                                                                                                                                                                                                                                                                                                                                                                                                                                                                                                                                                                                                                                                                                                     Clothes stores are ramping up plans to reopen - and big discounts could be on offer.Some non-essential retailers will be able to begin reopening next month.One of the UK's biggest fashion retailers, M&S, said: \"We are working towards reopening more space from June.\" But analyst Richard Lin of Retail Economics said stores \"will have to discount heavily\" to sell excess stock that may now be out of season.\"Many clothing retailers have been sitting there with stores full of stock which they haven't be able to shift,\" he said.\"One of the most pressing issues for retailers is working capital and there is a huge overhang of inventory at fashion stores.\"Fashion retailers have been badly hit by the coronavirus crisis. Even those with robust online offerings have reported huge drops in sales.Next, for instance, saw online sales decline by 32% in the three months to the end of April. Like others, it is keen to re-open stores, as soon as it is deemed safe to do so.Next said: \"We have plans in place for the re-purposing of our stores ready to reopen in a socially-distanced world.\"Its measures include installing screens at tills, placing sanitisation stations in stores and managing the number of customers that are allowed to enter its shops.M&S has kept its food stores open during the crisis, including almost 300 shops that sell fashion as well, although these areas have been blocked off.But it says they're ready to be reopened as soon as the government gives it the green light.\"Our 290 stores that sell both clothing and food are led by a single manager - so it means they already have a brilliant working knowledge of the necessary hygiene measures, how to manage social distancing and the flow of our customers in and out of their store,\" M&S said.Last week the government said its strategy was to \"open non-essential retail when and where it is safe to do so\", and subject to those retailers being able to follow new guidelines.It said the intention was for this to happen in phases from 1 June, although it added that it would issue further guidance on which businesses will be allowed to open and when.That guidance can't come soon enough, according to Helen Dickinson, chief executive of the British Retail Consortium (BRC).\"Retailers desperately need clarity in the rules regarding when and how they can open - details that are still lacking,\" she said.She warned that safety must be the primary concern in the decisions, rather than size or type of shop. The retail experience is going to be turned on its head when clothes stores reopen,\" predicted Mr Lin from Retail Economics.\"Retailers are having to reinterpret government guidelines and have to invest heavily to make sure they can create a safe environment.\"He said consumers will remain incredibly anxious and cautious about returning to fashion retailers.Changing rooms are expected to remain closed while customers will be encouraged to avoid touching merchandise.\"Staff will potentially have to walk around spraying shelves,\" Mr Lin said.There are likely to be one-way systems through stores with clear floor markings and signage, while customer entry will be limited and consumers will be encouraged to shop alone.Next said it will \"prioritise the opening of our larger out-of-town stores first\".Their bigger size makes them easier to adapt and they have large car parks and outside spaces to manage queues, it said.\"Retailers have started to plan how they can open stores and follow safety guidelines, with some hinting at sales when they do open their doors, such as Next,\" said Dan Plant, savings expert at UKHotDeals.\"Other popular stores, like Primark, lack online sales space, so we'd expect to see plenty of fashion offers when retailers reopen.\"But while fashion stores may reopen with deep discounts to clear old stock, most online retailers have already been offering sales to encourage shoppers.M&S, for instance, launched its \"rainbow sale\" on Friday with up to 50% off and 10% of takings going to NHS charities.Boohoo, Fat Face, French Connection, Gap, JD Sports , Next, Superdry and Topshop have offered similar 50%-off deals.The likes of Asos, Clarks, Dune, Debenhams, John Lewis, Karen Millen, New Look, Office and Quiz have also been offering cut-price deals.   business\n",
       "1733  MPs are to grill health officials on whether they overpaid for personal protective equipment to deal with coronavirus.The MP leading the inquiry says the crisis should not be an excuse for failing to achieve value for money.One focus of their interest could be a little-known pest control company which won a contract to supply PPE worth more than £100m.The government says it wants firms that can quickly provide a lot of PPE.PestFix, part of a company called Crisp Websites, signed the £109m contract with the government on 13 April to supply what were specified as \"urgently needed gloves, gowns and masks to the NHS supply chain.\"The business operates from a unit by Littlehampton Marina on the West Sussex coast. Its accounts show that last year it had net assets of just £18,000.Yet officials sealed the deal with PestFix without putting the order out to other suppliers in a competitive tendering process, saying in the contract that because it was a matter of \"extreme urgency\" they were able to place the order \"without competing or advertising the requirement\".PestFix says it has delivered more than 67 million items of PPE into the NHS Supply Chain.\"Our small, dedicated global team, spanning three continents, has worked non-stop for the past 70 days to support efforts of getting PPE to the front line involving an ongoing and herculean logistics operation,\" its director, Dan England, told BBC News.But the contract has added to concerns that in the scramble to get hold of vital equipment as the coronavirus situation deteriorated, the government may have paid too much.Meg Hillier MP, the chair of the Public Accounts Committee, would not comment on particular cases before taking evidence on Monday.But she said: \"Just getting numbers on its own isn't enough. You need to get value for money for the taxpayer, even in difficult times.\"A hundred public sector contracts worth £342m had been signed for Covid-related PPE by the end of last month, according to the specialist data firm, Tussell.So nearly a third by value was accounted for by the single order to PestFix.One of the UK's most senior civil servants, the permanent secretary of the Cabinet Office, Alex Chisholm, told the committee last week that is was difficult to make value for money assessments in the current situation.\"You'll find for PPE, ventilators and lots of other things we've purchased, that the per unit cost of buying things at great speed from multiple sources in a sellers' market has been higher than we would like to have paid,\" Mr Chisholm said.\"So if you compared the average cost a year ago to what we've been paying now, it's been expensive\".But he said the spending was necessary and there was no alternative.The procurement process has been fraught with problems.A shipment in early May of more than 80 tonnes of protective gowns from Turkey was first delayed and then rejected by inspectors as faulty.Meg Hillier is incensed by the Turkish episode, saying \"We should not be paying money for old rope.\"But small businesses say they have been doing their best to help in the country's hour of need.The next biggest contract for PPE, after PestFix, was granted to a marine supplies company near Salisbury, Ocean Footprint, which had been buying protective masks from China to sell to boatyards.Ocean Footprint agreed to supply the NHS with three million high grade masks for £5m. In the next few days it will have delivered more than a million of them.\"I'm open about what we've done,\" says the managing director Peter Harrison, adding that it is easy to forget how anxious a time it was for health officials and suppliers as the deals were being struck.\"It was desperate. It was all hands on deck. We hadn't even reached the peak.\"The company knew that getting hold of enough masks in rivalry with other countries would be impossible, so it invested £100,000 in its own mask-making machine in order to be able to complete the order.The NHS could have bought similar masks much more cheaply before the crisis, Mr Harrison admits, but he says frantic worldwide demand, rising raw material costs and the need for air transport have sent prices spiralling upwards.He says that at the price he is selling to the government he could offload his entire stock to other buyers in a day.A not-for-profit campaign group, The Good Law Project, has announced that it will seek a judicial review of the decision to award PestFix with its PPE contract.The review would be to find out why there was no competition for the order and how the company was chosen.Dan England from PestFix says: \"We continue to work in close partnership with the NHS, MOD Procurement and DHSC Covid-19 procurement teams, who have all demonstrated incredible dedication in supporting PestFix to deliver this highly complex transaction.\"A Department of Health and Social Care spokesperson said: \"During this unprecedented global pandemic, we have been working around the clock to ensure PPE is delivered as quickly as possible to those on the frontline and we have delivered more than 1.7 billion items since the outbreak began.\"We are prioritising companies that can provide large volumes of PPE at a fast pace, while ensuring all new PPE undergoes vigorous checks to ensure they meet the safety and quality required. We are grateful for all offers - some will be rejected based on these standards.\"  business\n",
       "1297                                                                                                                                                                                                                                                                                                                                                                                                                                                                                                                                                                                                                                                                                                                                                                                                                                                                                                                                                                                                                                                                                                                                                                                                                                                                                                                                                                                                                                                                                                                                                                                                                                                                                                                                                                                                                               Organised criminals will be exploiting loneliness during lockdown to take money from romance scam victims, a charity has said.Victim Support said people's increased confidence in using the internet to meet and talk leaves them vulnerable.Research in one region shows romance scam victims are groomed, then tricked out of an average of £47,000.One has spoken of how her \"heart ruled my head\" when sending money to the man she thought she loved.Mary, not her real name, was already in the fraudsters' grip before the coronavirus outbreak.But, as the virus started to spread, she believed he was in a country heavily affected, giving him the opportunity to trick more money out of her.She was also feeling the kind of loneliness common among many vulnerable people during the current crisis. The 62-year-old, who is a widow, met \"Arnold\" after using a dating site for the very first time.She said they spoke morning, noon and night for five months about a shared love of music and family.But the man she thought was an American living overseas was, in fact, a organised criminal gang working shifts to private message or speak to her over a crackly line.\"There were red flags, but I kept denying them,\" she said. \"You think you have found the love of your life, and invest yourself 100% into the relationship.\"After about a month, Arnold told her stories such as suffering from an accident, his need for a working laptop, and business problems. He told her how worried he was by the coronavirus outbreak, an event that give him another chance to ask for money.She sent him funds via money transfer, and followed his request not to tell anyone because \"he would be embarrassed when he eventually met members of the family\".She ended up sending thousands of pounds. The money is now lost. It came from savings for a car or a holiday, and included some money that belonged to her daughter, who she first lied to rather than come clean about the loss.\"Eventually I knew I could not lie to my daughter anymore,\" she said. \"It is the emotions that you are left to deal with which is the hard part. I cannot trust anyone, and there is a lot of grief.\"In a fantasy world, I let myself think he is going to turn up and be real. You can be too emotionally involved in it.\"This \"addiction\" to hear someone saying nice things to you, and which blinds you to the reality, is common among victims, according to Lisa Mills, senior fraud manager at Victim Support in Sussex.During the current lockdown, when \"the feelings of loneliness can be overwhelming\", the risks were all the greater, she said.Sussex police run Operation Signature, a campaign to identify and support vulnerable victims of fraud.Romance scam cases were increasing, Mrs Mills said, even before lockdown - a picture reflected nationwide. Criminal gangs \"meet\" people on dating sites, then take the conversation onto private messaging, build up a picture of their victim, then take any opportunity to steal money from them.Source: Action FraudMrs Mills said that, in her experience, victims were split fairly evenly between men and women, with some losing so much money they were forced to remortgage their home.Most struggled to accept they had been scammed, even after the language used in messages was analysed to show they must have been written by different people in a gang, not just one individual.There is thought to be huge under-reporting of these scams, for the same reason.\"It has never been more important to reach out and know how to protect people,\" Mrs Mills said, urging anyone who may be concerned not to feel embarrassed but to seek help.  business"
      ]
     },
     "execution_count": 11,
     "metadata": {
      "tags": []
     },
     "output_type": "execute_result"
    }
   ],
   "source": [
    "raw_news.tail()"
   ]
  },
  {
   "cell_type": "code",
   "execution_count": null,
   "metadata": {
    "colab": {},
    "colab_type": "code",
    "id": "sshE4-eBUy6F"
   },
   "outputs": [],
   "source": [
    "# raw_news[raw_news[\"kategori\"]==\"health\"].head()"
   ]
  },
  {
   "cell_type": "code",
   "execution_count": null,
   "metadata": {
    "colab": {},
    "colab_type": "code",
    "id": "-dCPSuZWVAmo"
   },
   "outputs": [],
   "source": [
    "# raw_news[raw_news[\"kategori\"]==\"entertainment\"].head()"
   ]
  },
  {
   "cell_type": "code",
   "execution_count": null,
   "metadata": {
    "colab": {},
    "colab_type": "code",
    "id": "-YTQJXl4VOQO"
   },
   "outputs": [],
   "source": [
    "# raw_news[raw_news[\"kategori\"]==\"technology\"].head()"
   ]
  },
  {
   "cell_type": "markdown",
   "metadata": {
    "colab_type": "text",
    "id": "a8gBLqmYXDyy"
   },
   "source": [
    "# Noise Removal\n",
    "### setelah dilihat masih banyak kata-kata yang seharusnya tidak ikut dalam berita seperti follow* on twitter, *@bbc.co.uk, etc\n",
    "\n",
    "langkah-langkah penyelesaiannya:\n",
    "- masuk ke string\n",
    "- pisahin dengan titik, buat list\n",
    "- jika ada noise hapus\n",
    "- gabungin lagi ke string"
   ]
  },
  {
   "cell_type": "code",
   "execution_count": null,
   "metadata": {
    "colab": {
     "base_uri": "https://localhost:8080/",
     "height": 225
    },
    "colab_type": "code",
    "executionInfo": {
     "elapsed": 19487,
     "status": "ok",
     "timestamp": 1594442025429,
     "user": {
      "displayName": "ARIEF AKBAR HIDAYAT MHS 2017",
      "photoUrl": "https://lh3.googleusercontent.com/a-/AOh14GgpxjnV7zTpLouYOAYyyr7JileDmvj56ntyPr5Y=s64",
      "userId": "11849805901853145430"
     },
     "user_tz": -420
    },
    "id": "VrMcnV-cUSoH",
    "outputId": "35118da1-ed7c-4279-aec0-760c43e0ff17"
   },
   "outputs": [
    {
     "name": "stderr",
     "output_type": "stream",
     "text": [
      "/usr/local/lib/python3.6/dist-packages/ipykernel_launcher.py:7: SettingWithCopyWarning: \n",
      "A value is trying to be set on a copy of a slice from a DataFrame.\n",
      "Try using .loc[row_indexer,col_indexer] = value instead\n",
      "\n",
      "See the caveats in the documentation: https://pandas.pydata.org/pandas-docs/stable/user_guide/indexing.html#returning-a-view-versus-a-copy\n",
      "  import sys\n",
      "/usr/local/lib/python3.6/dist-packages/ipykernel_launcher.py:15: SettingWithCopyWarning: \n",
      "A value is trying to be set on a copy of a slice from a DataFrame.\n",
      "Try using .loc[row_indexer,col_indexer] = value instead\n",
      "\n",
      "See the caveats in the documentation: https://pandas.pydata.org/pandas-docs/stable/user_guide/indexing.html#returning-a-view-versus-a-copy\n",
      "  from ipykernel import kernelapp as app\n"
     ]
    }
   ],
   "source": [
    "stop=['Recent reviews by.*','.*Follow.*','.*follow.*','.*Follow.* on .+', '.*follow.* on .+','.*@bbc.*',\n",
    "      '.*What questions do you have about.*', '.*displaying your name.*', '.*age and location as you provide it.*', \n",
    "      '.*unless you state otherwise.*','.*@BBC.*',\n",
    "      '.*Please include your name.*','.*Your contact details.*','.*please subscribe.*',\n",
    "      '.*Please ensure you have read our terms.*']\n",
    "# raw_news['tokenized_dot'] = raw_news.apply(lambda row: sent_tokenize(row['isi']), axis=1)\n",
    "raw_news['tokenized_dot'] = raw_news.apply(lambda row: row['isi'].split(\".\"), axis=1)\n",
    "\n",
    "kata=[]\n",
    "for word in raw_news['tokenized_dot']:\n",
    "  if re.search(r'|'.join(stop), str(word[-20:-1]) or str(word[-1]) ):\n",
    "    for x in word:\n",
    "      if re.search(r'|'.join(stop), x):\n",
    "        kata.append(x)\n",
    "raw_news['isi'] = raw_news['tokenized_dot'].apply(lambda x: ' '.join([word for word in x if word not in (kata)]))"
   ]
  },
  {
   "cell_type": "code",
   "execution_count": null,
   "metadata": {
    "colab": {
     "base_uri": "https://localhost:8080/",
     "height": 1000
    },
    "colab_type": "code",
    "executionInfo": {
     "elapsed": 17889,
     "status": "ok",
     "timestamp": 1594442025431,
     "user": {
      "displayName": "ARIEF AKBAR HIDAYAT MHS 2017",
      "photoUrl": "https://lh3.googleusercontent.com/a-/AOh14GgpxjnV7zTpLouYOAYyyr7JileDmvj56ntyPr5Y=s64",
      "userId": "11849805901853145430"
     },
     "user_tz": -420
    },
    "id": "H7l3avde70c_",
    "outputId": "91c5f83a-eccf-439f-868d-357a43aec322"
   },
   "outputs": [
    {
     "data": {
      "text/html": [
       "<div>\n",
       "<style scoped>\n",
       "    .dataframe tbody tr th:only-of-type {\n",
       "        vertical-align: middle;\n",
       "    }\n",
       "\n",
       "    .dataframe tbody tr th {\n",
       "        vertical-align: top;\n",
       "    }\n",
       "\n",
       "    .dataframe thead th {\n",
       "        text-align: right;\n",
       "    }\n",
       "</style>\n",
       "<table border=\"1\" class=\"dataframe\">\n",
       "  <thead>\n",
       "    <tr style=\"text-align: right;\">\n",
       "      <th></th>\n",
       "      <th>isi</th>\n",
       "      <th>kategori</th>\n",
       "      <th>tokenized_dot</th>\n",
       "    </tr>\n",
       "  </thead>\n",
       "  <tbody>\n",
       "    <tr>\n",
       "      <th>493</th>\n",
       "      <td>Scientists want people to send them their wildlife experiences under the coronavirus lockdown  They are keen to hear recordings of dawn choruses, animals in unusual places, and views of the night sky without pollution  The Earth Project is a global citizen science study co-ordinated by scientists across UK universities It hopes to showcase how nature has capitalised on reduced human activity during the pandemic  The researchers want the public to help them capture a global representation of what we experienced on the ground during lockdown \"We are hoping to create a useful shared library of baseline experiences for the public, reminding us in the future of what life and our relationship with nature could be when global public mobility and many pollution-generating activities are reduced,\" explained Phil Manning from the University of Manchester The team acknowledges that \"significant sacrifices\" will have to be made by everyone in order to reduce our impact on the planet's climate system, and to move towards the sustainable use of the Earth's natural resources  It is hoped that the positive experiences many people had with nature during lockdown, and the recollection of those experiences, will help build the case for behaviour changes to help shift us towards sustainability During the lockdown, wildlife reclaiming the streets of towns and cities during lockdown have made headlines around the world  For example, goats that normally keep themselves to themselves in the hills surrounding Llandudno, Wales, ventured into the town's deserted streets People have also reported that they have been able to hear birdsong more clearly without the constant hum of traffic The submissions will be collated by the Earth Project team, which consists of concerned citizens alongside scientists from multiple UK universities, including Bangor, Belfast, Durham, Manchester and Plymouth Prof Manning told BBC News that the recordings of birdsong, night skies and nature calls will be made available online for everyone to enjoy and to relive the better moments of life under lockdown \"The survey results will help provide an overview of people's observations and thoughts on the environment before, during and after lockdown,\" he observed \"The responses will be analysed and summarised and then made available along with the database on our website during the late Summer and Autumn of 2020 \"He said that it was hoped that the findings of the survey could encourage behaviour change and help shape policies and strategies that could deliver greener and sustainable lifestyles \"The Earth Project… has the potential to provide a snapshot of what happened to the environment and wildlife when human activity is drastically reduced or simply managed in a more sustainable way,\" Prof Manning said As part of the project's survey, it will ask people whether they are willing to make changes to their behaviour to help improve the world around them Prof Manning added: \"This information will be evaluated in our inclusive Earth Project think-tank and, hopefully, this could impact future behaviour and guide those who make policy decisions \"The Earth Project has the potential to help catalyse humankind to a sustainable future \"You can access the Earth Project -Live website here</td>\n",
       "      <td>science</td>\n",
       "      <td>[Scientists want people to send them their wildlife experiences under the coronavirus lockdown,  They are keen to hear recordings of dawn choruses, animals in unusual places, and views of the night sky without pollution,  The Earth Project is a global citizen science study co-ordinated by scientists across UK universities, It hopes to showcase how nature has capitalised on reduced human activity during the pandemic,  The researchers want the public to help them capture a global representation of what we experienced on the ground during lockdown, \"We are hoping to create a useful shared library of baseline experiences for the public, reminding us in the future of what life and our relationship with nature could be when global public mobility and many pollution-generating activities are reduced,\" explained Phil Manning from the University of Manchester, The team acknowledges that \"significant sacrifices\" will have to be made by everyone in order to reduce our impact on the planet's climate system, and to move towards the sustainable use of the Earth's natural resources,  It is hoped that the positive experiences many people had with nature during lockdown, and the recollection of those experiences, will help build the case for behaviour changes to help shift us towards sustainability, During the lockdown, wildlife reclaiming the streets of towns and cities during lockdown have made headlines around the world,  For example, goats that normally keep themselves to themselves in the hills surrounding Llandudno, Wales, ventured into the town's deserted streets, People have also reported that they have been able to hear birdsong more clearly without the constant hum of traffic, The submissions will be collated by the Earth Project team, which consists of concerned citizens alongside scientists from multiple UK universities, including Bangor, Belfast, Durham, Manchester and Plymouth, Prof Manning told BBC News that the recordings of birdsong, night skies and nature calls will be made available online for everyone to enjoy and to relive the better moments of life under lockdown, \"The survey results will help provide an overview of people's observations and thoughts on the environment before, during and after lockdown,\" he observed, \"The responses will be analysed and summarised and then made available along with the database on our website during the late Summer and Autumn of 2020, \"He said that it was hoped that the findings of the survey could encourage behaviour change and help shape policies and strategies that could deliver greener and sustainable lifestyles, \"The Earth Project… has the potential to provide a snapshot of what happened to the environment and wildlife when human activity is drastically reduced or simply managed in a more sustainable way,\" Prof Manning said, As part of the project's survey, it will ask people whether they are willing to make changes to their behaviour to help improve the world around them, Prof Manning added: \"This information will be evaluated in our inclusive Earth Project think-tank and, hopefully, this could impact future behaviour and guide those who make policy decisions, \"The Earth Project has the potential to help catalyse humankind to a sustainable future, \"You can access the Earth Project -Live website here, ]</td>\n",
       "    </tr>\n",
       "    <tr>\n",
       "      <th>291</th>\n",
       "      <td>A clear picture is emerging of why the asteroid that struck Earth 66 million years ago was so catastrophic The space object, which wiped out 75% of all species including the dinosaurs, hit the worst possible place on the planet and - according to new research - at the most lethal angle Investigations at the crater site, together with computer simulations, suggest the impactor dug into the crust at an inclination of up to 60 degrees This exacerbated the climatic fallout We know that the target rocks, in what is now the Gulf of Mexico, contained huge volumes of sulphur from the mineral gypsum  When this material was thrown high into the atmosphere and mixed with water vapour, it produced a \"global winter\" And the angle of attack ensured this environmental crisis was intense and prolonged    \"At 45 to 60 degrees, the impact is very efficient at vaporising and ejecting debris to high altitude  If the impact happens at shallower or much steeper angles, the amount of material that's put into the atmosphere that can then have climate-changing effects is significantly less,\" explained Prof Gareth Collins from Imperial College London  \"It's evident that the nature of the location where this event happened, together with the impact angle, made for a perfect storm,\" he told BBC News The majority of plant and animal life on Earth succumbed to the the challenging conditions Prof Collins' and colleagues' work is published in the journal Nature Communications Prof Collins is part of an international team that's been studying the anatomy of the crater associated with the calamitous asteroid strike  Today, this 200km-wide structure is positioned under Mexico's Yucatan Peninsula, with its best preserved central portions sitting just offshore of the port of Chicxulub It's hard to grasp the scale of the forces that produced it The impactor, thought to be about 12km in diameter, punched an instantaneous hole in the crust that was probably some 30km deep  As fluidised rocks at the base of this bowl rebounded, they created in just a few minutes a mountain that was higher than Everest  This didn't last, however, and it fell back, to leave a prominent inner ring of hills, or peaks What's interesting from Prof Collins' perspective is the asymmetry that was frozen into the Chicxulub structure For example, if you look at the centres of the crater, of its peak ring and of the uplifted rock that underlies the crust in Earth's mantle - these points do not map directly on top of each other  They're actually aligned in a northeast-southwest direction, with the crater centre in between the centres of mantle uplift and peak-ring formation This is a vital clue in determining not only the direction from which the asteroid arrived but the angle at which it hit the planet The Imperial researcher ran a number of simulations on the UK Science and Technology Facilities Council (STFC) DiRAC High Performance Computing Facility  The only way he can reproduce the geometry is by having the asteroid come in from the northeast and strike the Earth at an angle of roughly 60 degrees Prof Collins said: \"If you run the model at different impact angles, at 30 degrees and at 45 degrees, say, you can't match the observations - you get centres of mantle uplift and of the peak ring on the downrange side of the crater centre  And for a straight overhead impact, at 90 degrees, the centres are all on top of each other  So, that's doesn't match the observations, either \"Imperial colleague and co-author Prof Joanna Morgan added: \"Knowing the direction of impact means we now know which part of the target site was subjected to the greatest shock pressures  \"The sulphur-bearing and carbon-bearing sedimentary rocks actually thicken as you go from east to west, and to the south  So this result means we're degassing more of those sediments than we would if you just took an average value for their thickness \"And Prof Sean Gulick from the University of Texas at Austin, US, told BBC News: \"This new modelling provides a clear answer to the angle of the impact and the direction of the impact that largely settles a long-standing debate on what was downrange of the impact   \"Also critical is that a 60-degree angle is in the range of the worst options for injecting large volumes of vaporised and ejected sulphur-rich rocks into the atmosphere   \"Thus these results are critical for understanding potential 'kill mechanisms',\" the co-author explained Gulick and Morgan led the expedition that drilled into the Chicxulub Crater in 2016 to recover some of its rocks for an analysis The impact that changed life on EarthJonathan co</td>\n",
       "      <td>science</td>\n",
       "      <td>[A clear picture is emerging of why the asteroid that struck Earth 66 million years ago was so catastrophic, The space object, which wiped out 75% of all species including the dinosaurs, hit the worst possible place on the planet and - according to new research - at the most lethal angle, Investigations at the crater site, together with computer simulations, suggest the impactor dug into the crust at an inclination of up to 60 degrees, This exacerbated the climatic fallout, We know that the target rocks, in what is now the Gulf of Mexico, contained huge volumes of sulphur from the mineral gypsum,  When this material was thrown high into the atmosphere and mixed with water vapour, it produced a \"global winter\", And the angle of attack ensured this environmental crisis was intense and prolonged,    \"At 45 to 60 degrees, the impact is very efficient at vaporising and ejecting debris to high altitude,  If the impact happens at shallower or much steeper angles, the amount of material that's put into the atmosphere that can then have climate-changing effects is significantly less,\" explained Prof Gareth Collins from Imperial College London,  \"It's evident that the nature of the location where this event happened, together with the impact angle, made for a perfect storm,\" he told BBC News, The majority of plant and animal life on Earth succumbed to the the challenging conditions, Prof Collins' and colleagues' work is published in the journal Nature Communications, Prof Collins is part of an international team that's been studying the anatomy of the crater associated with the calamitous asteroid strike,  Today, this 200km-wide structure is positioned under Mexico's Yucatan Peninsula, with its best preserved central portions sitting just offshore of the port of Chicxulub, It's hard to grasp the scale of the forces that produced it, The impactor, thought to be about 12km in diameter, punched an instantaneous hole in the crust that was probably some 30km deep,  As fluidised rocks at the base of this bowl rebounded, they created in just a few minutes a mountain that was higher than Everest,  This didn't last, however, and it fell back, to leave a prominent inner ring of hills, or peaks, What's interesting from Prof Collins' perspective is the asymmetry that was frozen into the Chicxulub structure, For example, if you look at the centres of the crater, of its peak ring and of the uplifted rock that underlies the crust in Earth's mantle - these points do not map directly on top of each other,  They're actually aligned in a northeast-southwest direction, with the crater centre in between the centres of mantle uplift and peak-ring formation, This is a vital clue in determining not only the direction from which the asteroid arrived but the angle at which it hit the planet, The Imperial researcher ran a number of simulations on the UK Science and Technology Facilities Council (STFC) DiRAC High Performance Computing Facility,  The only way he can reproduce the geometry is by having the asteroid come in from the northeast and strike the Earth at an angle of roughly 60 degrees, Prof Collins said: \"If you run the model at different impact angles, at 30 degrees and at 45 degrees, say, you can't match the observations - you get centres of mantle uplift and of the peak ring on the downrange side of the crater centre,  And for a straight overhead impact, at 90 degrees, the centres are all on top of each other,  So, that's doesn't match the observations, either, \"Imperial colleague and co-author Prof Joanna Morgan added: \"Knowing the direction of impact means we now know which part of the target site was subjected to the greatest shock pressures,  \"The sulphur-bearing and carbon-bearing sedimentary rocks actually thicken as you go from east to west, and to the south,  So this result means we're degassing more of those sediments than we would if you just took an average value for their thickness, \"And Prof Sean Gulick from the University of Texas at Austin, US, told BBC News: \"This new modelling provides a clear answer to the angle of the impact and the direction of the impact that largely settles a long-standing debate on what was downrange of the impact,   \"Also critical is that a 60-degree angle is in the range of the worst options for injecting large volumes of vaporised and ejected sulphur-rich rocks into the atmosphere,   \"Thus these results are critical for understanding potential 'kill mechanisms',\" the co-author explained, Gulick and Morgan led the expedition that drilled into the Chicxulub Crater in 2016 to recover some of its rocks for an analysis,  A follow-up, high-resolution seismic survey is due to take place late this summer that will provide an enhanced 3D view of the structure, The impact that changed life on EarthJonathan, Amos-INTERNET@bbc, co, uk and follow me on Twitter: @BBCAmos]</td>\n",
       "    </tr>\n",
       "    <tr>\n",
       "      <th>556</th>\n",
       "      <td>Global sport faces major disruption from climate change in coming decades, according to a new analysis By 2050, it's estimated that almost one in four English football league grounds can expect flooding every year  But tennis, rugby, athletics and winter sports will also face serious challenges from the impacts of rising temperatures, the author says  The study finds that sports leaders are, in the main, failing to address the issue seriously While the Covid-19 pandemic has disrupted sports as much as any other aspect of social life, many experts believe that this is just a dress rehearsal for the long-term impacts on sport of a world that's way too hot Extreme weather events, related to rising temperatures, have already disrupted some of the world's most high-profile sports in recent years  A typhoon, which wreaked havoc in Japan last year, also affected fixtures at the Rugby Union World being held there  Smoke from bush fires stopped play at the Australian Tennis Open at the start of this year  These and many other instances are a foretaste of the future, according to this new study compiled by academic and author David Goldblatt As football slowly recovers from the coronavirus crisis, his analysis shows that 23 of 92 English football league clubs will face partial or total annual flooding of their stadiums by 2050 In the current Premier League, the home grounds of Southampton, Norwich, Chelsea and West Ham face a similar threat Cricket faces huge challenges globally as temperatures rise in places like India, Australia and the West Indies Venues in Adelaide and Perth will see a 60% increase in days with temperatures over 40C over the next decade  In golf, one in three British Open courses will be damaged by rising sea-levels, the report says  Winter sports also face an uncertain future  Researchers say that of the 19 venues that have already hosted the Winter Olympics, just 10 will be able to hold them by 2050 But as well as showing the likely impacts of climate change on sports, the new study also looks at the contribution that the sporting industry makes to carbon emissions  The author says that the scale of CO2 is equivalent to a country like Bolivia at the low end but as large as a country like Spain on the high end The estimations are likely an underestimate as they exclude the global sportswear and sports broadcasting industries, who have impacts on carbon that are difficult to calculate Whatever the size of its carbon footprint, the cultural significance of sport gives it a tremendous platform to effect change, says the author  \"Sport may be just big enough to register, in terms of carbon emissions, as a small nation state, or a single megacity, but its own efforts are just a fraction of a percentage point of the world total,\" said David Goldblatt \"Making a carbon zero world the common sense priority of the sports world would make a huge contribution to making it the common sense priority of all politics,\" he said While some organisations including the International Olympic Committee and FIFA have signed up to a UN action plan to make sport carbon neutral by 2050, the majority of sports authorities have not  The International Cricket Council is one of those who have not signed up  Among winter sports, only the ice hockey and skiing federations have joined, \"which makes one wonder what the people in charge of luge and bobsleigh think they are going to be sliding on in the future,\" the report waspishly notes  The report was commissioned by the Rapid Transition Alliance, a international group of academics and campaigners who argue for a faster response to climate change  \"A first step would be to bring an end to sponsorship from fossil fuel companies and products promoting fossil fuel intensive lifestyles,\" said Andrew Simms from the group \"If players also speak out and say they believe clean air and a stable climate matter, millions more will see the possibilities for change   It will not only send a message of hope for the wider world, but it will help to guarantee a planet that is safe for sport</td>\n",
       "      <td>science</td>\n",
       "      <td>[Global sport faces major disruption from climate change in coming decades, according to a new analysis, By 2050, it's estimated that almost one in four English football league grounds can expect flooding every year,  But tennis, rugby, athletics and winter sports will also face serious challenges from the impacts of rising temperatures, the author says,  The study finds that sports leaders are, in the main, failing to address the issue seriously, While the Covid-19 pandemic has disrupted sports as much as any other aspect of social life, many experts believe that this is just a dress rehearsal for the long-term impacts on sport of a world that's way too hot, Extreme weather events, related to rising temperatures, have already disrupted some of the world's most high-profile sports in recent years,  A typhoon, which wreaked havoc in Japan last year, also affected fixtures at the Rugby Union World being held there,  Smoke from bush fires stopped play at the Australian Tennis Open at the start of this year,  These and many other instances are a foretaste of the future, according to this new study compiled by academic and author David Goldblatt, As football slowly recovers from the coronavirus crisis, his analysis shows that 23 of 92 English football league clubs will face partial or total annual flooding of their stadiums by 2050, In the current Premier League, the home grounds of Southampton, Norwich, Chelsea and West Ham face a similar threat, Cricket faces huge challenges globally as temperatures rise in places like India, Australia and the West Indies, Venues in Adelaide and Perth will see a 60% increase in days with temperatures over 40C over the next decade,  In golf, one in three British Open courses will be damaged by rising sea-levels, the report says,  Winter sports also face an uncertain future,  Researchers say that of the 19 venues that have already hosted the Winter Olympics, just 10 will be able to hold them by 2050, But as well as showing the likely impacts of climate change on sports, the new study also looks at the contribution that the sporting industry makes to carbon emissions,  The author says that the scale of CO2 is equivalent to a country like Bolivia at the low end but as large as a country like Spain on the high end, The estimations are likely an underestimate as they exclude the global sportswear and sports broadcasting industries, who have impacts on carbon that are difficult to calculate, Whatever the size of its carbon footprint, the cultural significance of sport gives it a tremendous platform to effect change, says the author,  \"Sport may be just big enough to register, in terms of carbon emissions, as a small nation state, or a single megacity, but its own efforts are just a fraction of a percentage point of the world total,\" said David Goldblatt, \"Making a carbon zero world the common sense priority of the sports world would make a huge contribution to making it the common sense priority of all politics,\" he said, While some organisations including the International Olympic Committee and FIFA have signed up to a UN action plan to make sport carbon neutral by 2050, the majority of sports authorities have not,  The International Cricket Council is one of those who have not signed up,  Among winter sports, only the ice hockey and skiing federations have joined, \"which makes one wonder what the people in charge of luge and bobsleigh think they are going to be sliding on in the future,\" the report waspishly notes,  The report was commissioned by the Rapid Transition Alliance, a international group of academics and campaigners who argue for a faster response to climate change,  \"A first step would be to bring an end to sponsorship from fossil fuel companies and products promoting fossil fuel intensive lifestyles,\" said Andrew Simms from the group, \"If players also speak out and say they believe clean air and a stable climate matter, millions more will see the possibilities for change,   It will not only send a message of hope for the wider world, but it will help to guarantee a planet that is safe for sport, \"Follow Matt on Twitter @mattmcgrathbbc, ]</td>\n",
       "    </tr>\n",
       "    <tr>\n",
       "      <th>458</th>\n",
       "      <td>Human impacts on the places on Earth with the most richness of life have brought hundreds of wild animals to the brink of extinction, a study shows The likes of logging and poaching have pushed 500 mammals, birds, reptiles and amphibians to the point where they're hanging by a thread, research found This is yet more evidence that the world's undergoing a sixth mass extinction, scientists argue Species are disappearing at more than 100 times the natural rate, they say  And unlike other mass extinctions, caused by volcano eruptions or asteroid collisions, we only have ourselves to blame Prof Gerardo Ceballos of the National University of Mexico in Mexico City, said regional ecosystems are facing collapse  \"We have entered the sixth mass extinction,\" he told BBC News  \"Based on our research and what we're seeing, the extinction crisis is so bad that whatever we do in the next 10 to 50 years is what will define the future of humanity \"Prof Ceballos worked on the study with two other well-known conservation scientists, Stanford University's Prof Paul Erhlich, and Dr Peter Raven of the Missouri Botanical Garden in St Louis, US Using data from the International Union for the Conservation of Nature (IUCN) Red List of threatened species and Birdlife (the bird authority for the IUCN), they identified at least 515 species that are on the brink of extinction, with fewer than a thousand individuals left  The animals are found on every continent save Antarctica, in places highly impacted by humans, primarily in the tropics and subtropics They include the Golden Lion Tamarin, Ethiopian Wolf, Javan Rhinoceros, Spanish Imperial Eagle, Yellow-eared Parrot, Gharial and Green Poison Frog The scientists describe the extinction crisis as an existential threat to civilisation, along with climate change and pollution, to which it is tied And they say they have a \"moral imperative\" to draw attention to the loss of biodiversity, which they say is still rather ignored by most people The research is published in the journal Proceedings of the National Academy of Sciences (PNAS) Commenting, Prof Diana Fisher of the University of Queensland, Australia, said the study deserved attention because so many people don't realise how much of the world's wildlife faces impending extinction  \"I agree with the authors that this extinction crisis needs to be elevated to an emergency equal to climate change,\" she said Prof Chris Johnson of the University of Tasmania said the current rate of extinction of species is higher than at any time since 66 million years ago, when the collision of a space-rock with the Earth killed off dinosaurs and many other species  \"Threats to species in today's world - things like habitat destruction and climate change - are growing rapidly,\" he said, adding that the 515 species down to 1,000 or fewer individuals are likely to be gone very soon   And Prof Euan Ritchie of Deakin University in Australia said the study \"is yet more dire confirmation that we are destroying life at a horrific pace and scale\"</td>\n",
       "      <td>science</td>\n",
       "      <td>[Human impacts on the places on Earth with the most richness of life have brought hundreds of wild animals to the brink of extinction, a study shows, The likes of logging and poaching have pushed 500 mammals, birds, reptiles and amphibians to the point where they're hanging by a thread, research found, This is yet more evidence that the world's undergoing a sixth mass extinction, scientists argue, Species are disappearing at more than 100 times the natural rate, they say,  And unlike other mass extinctions, caused by volcano eruptions or asteroid collisions, we only have ourselves to blame, Prof Gerardo Ceballos of the National University of Mexico in Mexico City, said regional ecosystems are facing collapse,  \"We have entered the sixth mass extinction,\" he told BBC News,  \"Based on our research and what we're seeing, the extinction crisis is so bad that whatever we do in the next 10 to 50 years is what will define the future of humanity, \"Prof Ceballos worked on the study with two other well-known conservation scientists, Stanford University's Prof Paul Erhlich, and Dr Peter Raven of the Missouri Botanical Garden in St Louis, US, Using data from the International Union for the Conservation of Nature (IUCN) Red List of threatened species and Birdlife (the bird authority for the IUCN), they identified at least 515 species that are on the brink of extinction, with fewer than a thousand individuals left,  The animals are found on every continent save Antarctica, in places highly impacted by humans, primarily in the tropics and subtropics, They include the Golden Lion Tamarin, Ethiopian Wolf, Javan Rhinoceros, Spanish Imperial Eagle, Yellow-eared Parrot, Gharial and Green Poison Frog, The scientists describe the extinction crisis as an existential threat to civilisation, along with climate change and pollution, to which it is tied, And they say they have a \"moral imperative\" to draw attention to the loss of biodiversity, which they say is still rather ignored by most people, The research is published in the journal Proceedings of the National Academy of Sciences (PNAS), Commenting, Prof Diana Fisher of the University of Queensland, Australia, said the study deserved attention because so many people don't realise how much of the world's wildlife faces impending extinction,  \"I agree with the authors that this extinction crisis needs to be elevated to an emergency equal to climate change,\" she said, Prof Chris Johnson of the University of Tasmania said the current rate of extinction of species is higher than at any time since 66 million years ago, when the collision of a space-rock with the Earth killed off dinosaurs and many other species,  \"Threats to species in today's world - things like habitat destruction and climate change - are growing rapidly,\" he said, adding that the 515 species down to 1,000 or fewer individuals are likely to be gone very soon,   And Prof Euan Ritchie of Deakin University in Australia said the study \"is yet more dire confirmation that we are destroying life at a horrific pace and scale\", Follow Helen on Twitter, ]</td>\n",
       "    </tr>\n",
       "    <tr>\n",
       "      <th>514</th>\n",
       "      <td>Conservation groups have welcomed China's move to remove pangolins from the official list of traditional Chinese medicine treatments, saying this could be a \"game changer\" The news, reported by China's Health Times newspaper, comes after China raised the animal's protected status to the highest level last week Pangolins have been pushed to the brink by illegal hunting for scales and meat They are implicated in coronavirus, but the evidence is unclear Conservation charities have welcomed the move to remove them from the official list of traditional Chinese medicines  Paul Thomson of Save Pangolins said it was a breakthrough moment  \"China's move to phase out pangolin scales from traditional medicines could be the game changer we have been waiting for,\" he said  \"We hope China's next move will be to enforce the regulations and work to change consumer behaviour \"And Katheryn Wise of animal welfare campaign group, World Animal Protection, said it was \"great news\" that China had upgraded pangolins to the highest level of protection and removed them from the Chinese Pharmacopoeia She called for this to be extended to all wild animals, \"who, like pangolins, are poached from the wild and often placed in squalid, cramped cages, creating a lethal hotbed of disease\" Pangolins are covered with a layer of scales, which are designed to protect them against predators  The scales are highly coveted by traditional Chinese medicine practitioners, while pangolin meat is seen as a delicacy  China banned the consumption of live wild animals for food in the wake of the outbreak, but there are certain exemptions, such as for medicine or fur Pangolins are in the spotlight as a possible animal host for coronavirus, but no direct link has been shown Nicole Benjamin-Fink of Conservation Beyond Borders said that, whether pangolins served as the conduit for the coronavirus or not, it's time to halt the demand for the most trafficked mammals worldwide  \"Let's hope that this ban is the first in a series that ultimately ban all wildlife usage in traditional Chinese medicine,\" she said Pangolins eat ants and other insects, and are often known as the scaly anteater  All eight species are protected under international law, but trade has been growing</td>\n",
       "      <td>science</td>\n",
       "      <td>[Conservation groups have welcomed China's move to remove pangolins from the official list of traditional Chinese medicine treatments, saying this could be a \"game changer\", The news, reported by China's Health Times newspaper, comes after China raised the animal's protected status to the highest level last week, Pangolins have been pushed to the brink by illegal hunting for scales and meat, They are implicated in coronavirus, but the evidence is unclear, Conservation charities have welcomed the move to remove them from the official list of traditional Chinese medicines,  Paul Thomson of Save Pangolins said it was a breakthrough moment,  \"China's move to phase out pangolin scales from traditional medicines could be the game changer we have been waiting for,\" he said,  \"We hope China's next move will be to enforce the regulations and work to change consumer behaviour, \"And Katheryn Wise of animal welfare campaign group, World Animal Protection, said it was \"great news\" that China had upgraded pangolins to the highest level of protection and removed them from the Chinese Pharmacopoeia, She called for this to be extended to all wild animals, \"who, like pangolins, are poached from the wild and often placed in squalid, cramped cages, creating a lethal hotbed of disease\", Pangolins are covered with a layer of scales, which are designed to protect them against predators,  The scales are highly coveted by traditional Chinese medicine practitioners, while pangolin meat is seen as a delicacy,  China banned the consumption of live wild animals for food in the wake of the outbreak, but there are certain exemptions, such as for medicine or fur, Pangolins are in the spotlight as a possible animal host for coronavirus, but no direct link has been shown, Nicole Benjamin-Fink of Conservation Beyond Borders said that, whether pangolins served as the conduit for the coronavirus or not, it's time to halt the demand for the most trafficked mammals worldwide,  \"Let's hope that this ban is the first in a series that ultimately ban all wildlife usage in traditional Chinese medicine,\" she said, Pangolins eat ants and other insects, and are often known as the scaly anteater,  All eight species are protected under international law, but trade has been growing, Follow Helen on Twitter, ]</td>\n",
       "    </tr>\n",
       "  </tbody>\n",
       "</table>\n",
       "</div>"
      ],
      "text/plain": [
       "                                                                                                                                                                                                                                                                                                                                                                                                                                                                                                                                                                                                                                                                                                                                                                                                                                                                                                                                                                                                                                                                                                                                                                                                                                                                                                                                                                                                                                                                                                                                                                                                                                                                                                                                                                                                                                                                                                                                                                                                                                                                                                                                                                                                                                                                                                                                                                                                                                                                                                                                                                                                                                                                                                                                                                                                                                                                                                                                                                                                                                                                                                                                                                                                                                                                                                                                                                                                                                                                                                                                                                                                                                                                                                                                                                                                                                                                                                                                                                                                                                                                                                                                                                                                                                                                                                                                                                                                                                                                                                                                                                                                                                                                                                                                                                                                                         isi  ...                                                                                                                                                                                                                                                                                                                                                                                                                                                                                                                                                                                                                                                                                                                                                                                                                                                                                                                                                                                                                                                                                                                                                                                                                                                                                                                                                                                                                                                                                                                                                                                                                                                                                                                                                                                                                                                                                                                                                                                                                                                                                                                                                                                                                                                                                                                                                                                                                                                                                                                                                                                                                                                                                                                                                                                                                                                                                                                                                                                                                                                                                                                                                                                                                                                                                                                                                                                                                                                                                                                                                                                                                                                                                                                                                                                                                                                                                                                                                                                                                                                                                                                                                                                                                                                                                                                                                                                                                                                                                                                                                                                                                                                                                                                                                                                                                                                                                                                                                                                                                                                      tokenized_dot\n",
       "493                                                                                                                                                                                                                                                                                                                                                                                                                                                                                                                                                                                                                                                                                                                                                                                                                                                                                                                                                                                                                                                                                                                                                                                                                                                                                                                                                                                                       Scientists want people to send them their wildlife experiences under the coronavirus lockdown  They are keen to hear recordings of dawn choruses, animals in unusual places, and views of the night sky without pollution  The Earth Project is a global citizen science study co-ordinated by scientists across UK universities It hopes to showcase how nature has capitalised on reduced human activity during the pandemic  The researchers want the public to help them capture a global representation of what we experienced on the ground during lockdown \"We are hoping to create a useful shared library of baseline experiences for the public, reminding us in the future of what life and our relationship with nature could be when global public mobility and many pollution-generating activities are reduced,\" explained Phil Manning from the University of Manchester The team acknowledges that \"significant sacrifices\" will have to be made by everyone in order to reduce our impact on the planet's climate system, and to move towards the sustainable use of the Earth's natural resources  It is hoped that the positive experiences many people had with nature during lockdown, and the recollection of those experiences, will help build the case for behaviour changes to help shift us towards sustainability During the lockdown, wildlife reclaiming the streets of towns and cities during lockdown have made headlines around the world  For example, goats that normally keep themselves to themselves in the hills surrounding Llandudno, Wales, ventured into the town's deserted streets People have also reported that they have been able to hear birdsong more clearly without the constant hum of traffic The submissions will be collated by the Earth Project team, which consists of concerned citizens alongside scientists from multiple UK universities, including Bangor, Belfast, Durham, Manchester and Plymouth Prof Manning told BBC News that the recordings of birdsong, night skies and nature calls will be made available online for everyone to enjoy and to relive the better moments of life under lockdown \"The survey results will help provide an overview of people's observations and thoughts on the environment before, during and after lockdown,\" he observed \"The responses will be analysed and summarised and then made available along with the database on our website during the late Summer and Autumn of 2020 \"He said that it was hoped that the findings of the survey could encourage behaviour change and help shape policies and strategies that could deliver greener and sustainable lifestyles \"The Earth Project… has the potential to provide a snapshot of what happened to the environment and wildlife when human activity is drastically reduced or simply managed in a more sustainable way,\" Prof Manning said As part of the project's survey, it will ask people whether they are willing to make changes to their behaviour to help improve the world around them Prof Manning added: \"This information will be evaluated in our inclusive Earth Project think-tank and, hopefully, this could impact future behaviour and guide those who make policy decisions \"The Earth Project has the potential to help catalyse humankind to a sustainable future \"You can access the Earth Project -Live website here   ...                                                                                                                                                                                                                                                                                                                                                                                                                                                                                                                                                                                                                                                                                                                                                                                                                                                                                                                                                                                                                                                                                                                                                                                                                                                                                                                                                                                                                                                                                                                                                                                                                          [Scientists want people to send them their wildlife experiences under the coronavirus lockdown,  They are keen to hear recordings of dawn choruses, animals in unusual places, and views of the night sky without pollution,  The Earth Project is a global citizen science study co-ordinated by scientists across UK universities, It hopes to showcase how nature has capitalised on reduced human activity during the pandemic,  The researchers want the public to help them capture a global representation of what we experienced on the ground during lockdown, \"We are hoping to create a useful shared library of baseline experiences for the public, reminding us in the future of what life and our relationship with nature could be when global public mobility and many pollution-generating activities are reduced,\" explained Phil Manning from the University of Manchester, The team acknowledges that \"significant sacrifices\" will have to be made by everyone in order to reduce our impact on the planet's climate system, and to move towards the sustainable use of the Earth's natural resources,  It is hoped that the positive experiences many people had with nature during lockdown, and the recollection of those experiences, will help build the case for behaviour changes to help shift us towards sustainability, During the lockdown, wildlife reclaiming the streets of towns and cities during lockdown have made headlines around the world,  For example, goats that normally keep themselves to themselves in the hills surrounding Llandudno, Wales, ventured into the town's deserted streets, People have also reported that they have been able to hear birdsong more clearly without the constant hum of traffic, The submissions will be collated by the Earth Project team, which consists of concerned citizens alongside scientists from multiple UK universities, including Bangor, Belfast, Durham, Manchester and Plymouth, Prof Manning told BBC News that the recordings of birdsong, night skies and nature calls will be made available online for everyone to enjoy and to relive the better moments of life under lockdown, \"The survey results will help provide an overview of people's observations and thoughts on the environment before, during and after lockdown,\" he observed, \"The responses will be analysed and summarised and then made available along with the database on our website during the late Summer and Autumn of 2020, \"He said that it was hoped that the findings of the survey could encourage behaviour change and help shape policies and strategies that could deliver greener and sustainable lifestyles, \"The Earth Project… has the potential to provide a snapshot of what happened to the environment and wildlife when human activity is drastically reduced or simply managed in a more sustainable way,\" Prof Manning said, As part of the project's survey, it will ask people whether they are willing to make changes to their behaviour to help improve the world around them, Prof Manning added: \"This information will be evaluated in our inclusive Earth Project think-tank and, hopefully, this could impact future behaviour and guide those who make policy decisions, \"The Earth Project has the potential to help catalyse humankind to a sustainable future, \"You can access the Earth Project -Live website here, ]\n",
       "291  A clear picture is emerging of why the asteroid that struck Earth 66 million years ago was so catastrophic The space object, which wiped out 75% of all species including the dinosaurs, hit the worst possible place on the planet and - according to new research - at the most lethal angle Investigations at the crater site, together with computer simulations, suggest the impactor dug into the crust at an inclination of up to 60 degrees This exacerbated the climatic fallout We know that the target rocks, in what is now the Gulf of Mexico, contained huge volumes of sulphur from the mineral gypsum  When this material was thrown high into the atmosphere and mixed with water vapour, it produced a \"global winter\" And the angle of attack ensured this environmental crisis was intense and prolonged    \"At 45 to 60 degrees, the impact is very efficient at vaporising and ejecting debris to high altitude  If the impact happens at shallower or much steeper angles, the amount of material that's put into the atmosphere that can then have climate-changing effects is significantly less,\" explained Prof Gareth Collins from Imperial College London  \"It's evident that the nature of the location where this event happened, together with the impact angle, made for a perfect storm,\" he told BBC News The majority of plant and animal life on Earth succumbed to the the challenging conditions Prof Collins' and colleagues' work is published in the journal Nature Communications Prof Collins is part of an international team that's been studying the anatomy of the crater associated with the calamitous asteroid strike  Today, this 200km-wide structure is positioned under Mexico's Yucatan Peninsula, with its best preserved central portions sitting just offshore of the port of Chicxulub It's hard to grasp the scale of the forces that produced it The impactor, thought to be about 12km in diameter, punched an instantaneous hole in the crust that was probably some 30km deep  As fluidised rocks at the base of this bowl rebounded, they created in just a few minutes a mountain that was higher than Everest  This didn't last, however, and it fell back, to leave a prominent inner ring of hills, or peaks What's interesting from Prof Collins' perspective is the asymmetry that was frozen into the Chicxulub structure For example, if you look at the centres of the crater, of its peak ring and of the uplifted rock that underlies the crust in Earth's mantle - these points do not map directly on top of each other  They're actually aligned in a northeast-southwest direction, with the crater centre in between the centres of mantle uplift and peak-ring formation This is a vital clue in determining not only the direction from which the asteroid arrived but the angle at which it hit the planet The Imperial researcher ran a number of simulations on the UK Science and Technology Facilities Council (STFC) DiRAC High Performance Computing Facility  The only way he can reproduce the geometry is by having the asteroid come in from the northeast and strike the Earth at an angle of roughly 60 degrees Prof Collins said: \"If you run the model at different impact angles, at 30 degrees and at 45 degrees, say, you can't match the observations - you get centres of mantle uplift and of the peak ring on the downrange side of the crater centre  And for a straight overhead impact, at 90 degrees, the centres are all on top of each other  So, that's doesn't match the observations, either \"Imperial colleague and co-author Prof Joanna Morgan added: \"Knowing the direction of impact means we now know which part of the target site was subjected to the greatest shock pressures  \"The sulphur-bearing and carbon-bearing sedimentary rocks actually thicken as you go from east to west, and to the south  So this result means we're degassing more of those sediments than we would if you just took an average value for their thickness \"And Prof Sean Gulick from the University of Texas at Austin, US, told BBC News: \"This new modelling provides a clear answer to the angle of the impact and the direction of the impact that largely settles a long-standing debate on what was downrange of the impact   \"Also critical is that a 60-degree angle is in the range of the worst options for injecting large volumes of vaporised and ejected sulphur-rich rocks into the atmosphere   \"Thus these results are critical for understanding potential 'kill mechanisms',\" the co-author explained Gulick and Morgan led the expedition that drilled into the Chicxulub Crater in 2016 to recover some of its rocks for an analysis The impact that changed life on EarthJonathan co  ...  [A clear picture is emerging of why the asteroid that struck Earth 66 million years ago was so catastrophic, The space object, which wiped out 75% of all species including the dinosaurs, hit the worst possible place on the planet and - according to new research - at the most lethal angle, Investigations at the crater site, together with computer simulations, suggest the impactor dug into the crust at an inclination of up to 60 degrees, This exacerbated the climatic fallout, We know that the target rocks, in what is now the Gulf of Mexico, contained huge volumes of sulphur from the mineral gypsum,  When this material was thrown high into the atmosphere and mixed with water vapour, it produced a \"global winter\", And the angle of attack ensured this environmental crisis was intense and prolonged,    \"At 45 to 60 degrees, the impact is very efficient at vaporising and ejecting debris to high altitude,  If the impact happens at shallower or much steeper angles, the amount of material that's put into the atmosphere that can then have climate-changing effects is significantly less,\" explained Prof Gareth Collins from Imperial College London,  \"It's evident that the nature of the location where this event happened, together with the impact angle, made for a perfect storm,\" he told BBC News, The majority of plant and animal life on Earth succumbed to the the challenging conditions, Prof Collins' and colleagues' work is published in the journal Nature Communications, Prof Collins is part of an international team that's been studying the anatomy of the crater associated with the calamitous asteroid strike,  Today, this 200km-wide structure is positioned under Mexico's Yucatan Peninsula, with its best preserved central portions sitting just offshore of the port of Chicxulub, It's hard to grasp the scale of the forces that produced it, The impactor, thought to be about 12km in diameter, punched an instantaneous hole in the crust that was probably some 30km deep,  As fluidised rocks at the base of this bowl rebounded, they created in just a few minutes a mountain that was higher than Everest,  This didn't last, however, and it fell back, to leave a prominent inner ring of hills, or peaks, What's interesting from Prof Collins' perspective is the asymmetry that was frozen into the Chicxulub structure, For example, if you look at the centres of the crater, of its peak ring and of the uplifted rock that underlies the crust in Earth's mantle - these points do not map directly on top of each other,  They're actually aligned in a northeast-southwest direction, with the crater centre in between the centres of mantle uplift and peak-ring formation, This is a vital clue in determining not only the direction from which the asteroid arrived but the angle at which it hit the planet, The Imperial researcher ran a number of simulations on the UK Science and Technology Facilities Council (STFC) DiRAC High Performance Computing Facility,  The only way he can reproduce the geometry is by having the asteroid come in from the northeast and strike the Earth at an angle of roughly 60 degrees, Prof Collins said: \"If you run the model at different impact angles, at 30 degrees and at 45 degrees, say, you can't match the observations - you get centres of mantle uplift and of the peak ring on the downrange side of the crater centre,  And for a straight overhead impact, at 90 degrees, the centres are all on top of each other,  So, that's doesn't match the observations, either, \"Imperial colleague and co-author Prof Joanna Morgan added: \"Knowing the direction of impact means we now know which part of the target site was subjected to the greatest shock pressures,  \"The sulphur-bearing and carbon-bearing sedimentary rocks actually thicken as you go from east to west, and to the south,  So this result means we're degassing more of those sediments than we would if you just took an average value for their thickness, \"And Prof Sean Gulick from the University of Texas at Austin, US, told BBC News: \"This new modelling provides a clear answer to the angle of the impact and the direction of the impact that largely settles a long-standing debate on what was downrange of the impact,   \"Also critical is that a 60-degree angle is in the range of the worst options for injecting large volumes of vaporised and ejected sulphur-rich rocks into the atmosphere,   \"Thus these results are critical for understanding potential 'kill mechanisms',\" the co-author explained, Gulick and Morgan led the expedition that drilled into the Chicxulub Crater in 2016 to recover some of its rocks for an analysis,  A follow-up, high-resolution seismic survey is due to take place late this summer that will provide an enhanced 3D view of the structure, The impact that changed life on EarthJonathan, Amos-INTERNET@bbc, co, uk and follow me on Twitter: @BBCAmos]\n",
       "556                                                                                                                                                                                                                                                                                                                                                                                                                                                                                                                                                                         Global sport faces major disruption from climate change in coming decades, according to a new analysis By 2050, it's estimated that almost one in four English football league grounds can expect flooding every year  But tennis, rugby, athletics and winter sports will also face serious challenges from the impacts of rising temperatures, the author says  The study finds that sports leaders are, in the main, failing to address the issue seriously While the Covid-19 pandemic has disrupted sports as much as any other aspect of social life, many experts believe that this is just a dress rehearsal for the long-term impacts on sport of a world that's way too hot Extreme weather events, related to rising temperatures, have already disrupted some of the world's most high-profile sports in recent years  A typhoon, which wreaked havoc in Japan last year, also affected fixtures at the Rugby Union World being held there  Smoke from bush fires stopped play at the Australian Tennis Open at the start of this year  These and many other instances are a foretaste of the future, according to this new study compiled by academic and author David Goldblatt As football slowly recovers from the coronavirus crisis, his analysis shows that 23 of 92 English football league clubs will face partial or total annual flooding of their stadiums by 2050 In the current Premier League, the home grounds of Southampton, Norwich, Chelsea and West Ham face a similar threat Cricket faces huge challenges globally as temperatures rise in places like India, Australia and the West Indies Venues in Adelaide and Perth will see a 60% increase in days with temperatures over 40C over the next decade  In golf, one in three British Open courses will be damaged by rising sea-levels, the report says  Winter sports also face an uncertain future  Researchers say that of the 19 venues that have already hosted the Winter Olympics, just 10 will be able to hold them by 2050 But as well as showing the likely impacts of climate change on sports, the new study also looks at the contribution that the sporting industry makes to carbon emissions  The author says that the scale of CO2 is equivalent to a country like Bolivia at the low end but as large as a country like Spain on the high end The estimations are likely an underestimate as they exclude the global sportswear and sports broadcasting industries, who have impacts on carbon that are difficult to calculate Whatever the size of its carbon footprint, the cultural significance of sport gives it a tremendous platform to effect change, says the author  \"Sport may be just big enough to register, in terms of carbon emissions, as a small nation state, or a single megacity, but its own efforts are just a fraction of a percentage point of the world total,\" said David Goldblatt \"Making a carbon zero world the common sense priority of the sports world would make a huge contribution to making it the common sense priority of all politics,\" he said While some organisations including the International Olympic Committee and FIFA have signed up to a UN action plan to make sport carbon neutral by 2050, the majority of sports authorities have not  The International Cricket Council is one of those who have not signed up  Among winter sports, only the ice hockey and skiing federations have joined, \"which makes one wonder what the people in charge of luge and bobsleigh think they are going to be sliding on in the future,\" the report waspishly notes  The report was commissioned by the Rapid Transition Alliance, a international group of academics and campaigners who argue for a faster response to climate change  \"A first step would be to bring an end to sponsorship from fossil fuel companies and products promoting fossil fuel intensive lifestyles,\" said Andrew Simms from the group \"If players also speak out and say they believe clean air and a stable climate matter, millions more will see the possibilities for change   It will not only send a message of hope for the wider world, but it will help to guarantee a planet that is safe for sport   ...                                                                                                                                                                                                                                                                                                                                                                                                                                                                                                                                                                                                                                                                                                                                           [Global sport faces major disruption from climate change in coming decades, according to a new analysis, By 2050, it's estimated that almost one in four English football league grounds can expect flooding every year,  But tennis, rugby, athletics and winter sports will also face serious challenges from the impacts of rising temperatures, the author says,  The study finds that sports leaders are, in the main, failing to address the issue seriously, While the Covid-19 pandemic has disrupted sports as much as any other aspect of social life, many experts believe that this is just a dress rehearsal for the long-term impacts on sport of a world that's way too hot, Extreme weather events, related to rising temperatures, have already disrupted some of the world's most high-profile sports in recent years,  A typhoon, which wreaked havoc in Japan last year, also affected fixtures at the Rugby Union World being held there,  Smoke from bush fires stopped play at the Australian Tennis Open at the start of this year,  These and many other instances are a foretaste of the future, according to this new study compiled by academic and author David Goldblatt, As football slowly recovers from the coronavirus crisis, his analysis shows that 23 of 92 English football league clubs will face partial or total annual flooding of their stadiums by 2050, In the current Premier League, the home grounds of Southampton, Norwich, Chelsea and West Ham face a similar threat, Cricket faces huge challenges globally as temperatures rise in places like India, Australia and the West Indies, Venues in Adelaide and Perth will see a 60% increase in days with temperatures over 40C over the next decade,  In golf, one in three British Open courses will be damaged by rising sea-levels, the report says,  Winter sports also face an uncertain future,  Researchers say that of the 19 venues that have already hosted the Winter Olympics, just 10 will be able to hold them by 2050, But as well as showing the likely impacts of climate change on sports, the new study also looks at the contribution that the sporting industry makes to carbon emissions,  The author says that the scale of CO2 is equivalent to a country like Bolivia at the low end but as large as a country like Spain on the high end, The estimations are likely an underestimate as they exclude the global sportswear and sports broadcasting industries, who have impacts on carbon that are difficult to calculate, Whatever the size of its carbon footprint, the cultural significance of sport gives it a tremendous platform to effect change, says the author,  \"Sport may be just big enough to register, in terms of carbon emissions, as a small nation state, or a single megacity, but its own efforts are just a fraction of a percentage point of the world total,\" said David Goldblatt, \"Making a carbon zero world the common sense priority of the sports world would make a huge contribution to making it the common sense priority of all politics,\" he said, While some organisations including the International Olympic Committee and FIFA have signed up to a UN action plan to make sport carbon neutral by 2050, the majority of sports authorities have not,  The International Cricket Council is one of those who have not signed up,  Among winter sports, only the ice hockey and skiing federations have joined, \"which makes one wonder what the people in charge of luge and bobsleigh think they are going to be sliding on in the future,\" the report waspishly notes,  The report was commissioned by the Rapid Transition Alliance, a international group of academics and campaigners who argue for a faster response to climate change,  \"A first step would be to bring an end to sponsorship from fossil fuel companies and products promoting fossil fuel intensive lifestyles,\" said Andrew Simms from the group, \"If players also speak out and say they believe clean air and a stable climate matter, millions more will see the possibilities for change,   It will not only send a message of hope for the wider world, but it will help to guarantee a planet that is safe for sport, \"Follow Matt on Twitter @mattmcgrathbbc, ]\n",
       "458                                                                                                                                                                                                                                                                                                                                                                                                                                                                                                                                                                                                                                                                                                                                                                                                                                                                                                                                                                                                                                                                                                                                                                                                                                                                                                                                                                                                                                                                                                                                                                                                                                                    Human impacts on the places on Earth with the most richness of life have brought hundreds of wild animals to the brink of extinction, a study shows The likes of logging and poaching have pushed 500 mammals, birds, reptiles and amphibians to the point where they're hanging by a thread, research found This is yet more evidence that the world's undergoing a sixth mass extinction, scientists argue Species are disappearing at more than 100 times the natural rate, they say  And unlike other mass extinctions, caused by volcano eruptions or asteroid collisions, we only have ourselves to blame Prof Gerardo Ceballos of the National University of Mexico in Mexico City, said regional ecosystems are facing collapse  \"We have entered the sixth mass extinction,\" he told BBC News  \"Based on our research and what we're seeing, the extinction crisis is so bad that whatever we do in the next 10 to 50 years is what will define the future of humanity \"Prof Ceballos worked on the study with two other well-known conservation scientists, Stanford University's Prof Paul Erhlich, and Dr Peter Raven of the Missouri Botanical Garden in St Louis, US Using data from the International Union for the Conservation of Nature (IUCN) Red List of threatened species and Birdlife (the bird authority for the IUCN), they identified at least 515 species that are on the brink of extinction, with fewer than a thousand individuals left  The animals are found on every continent save Antarctica, in places highly impacted by humans, primarily in the tropics and subtropics They include the Golden Lion Tamarin, Ethiopian Wolf, Javan Rhinoceros, Spanish Imperial Eagle, Yellow-eared Parrot, Gharial and Green Poison Frog The scientists describe the extinction crisis as an existential threat to civilisation, along with climate change and pollution, to which it is tied And they say they have a \"moral imperative\" to draw attention to the loss of biodiversity, which they say is still rather ignored by most people The research is published in the journal Proceedings of the National Academy of Sciences (PNAS) Commenting, Prof Diana Fisher of the University of Queensland, Australia, said the study deserved attention because so many people don't realise how much of the world's wildlife faces impending extinction  \"I agree with the authors that this extinction crisis needs to be elevated to an emergency equal to climate change,\" she said Prof Chris Johnson of the University of Tasmania said the current rate of extinction of species is higher than at any time since 66 million years ago, when the collision of a space-rock with the Earth killed off dinosaurs and many other species  \"Threats to species in today's world - things like habitat destruction and climate change - are growing rapidly,\" he said, adding that the 515 species down to 1,000 or fewer individuals are likely to be gone very soon   And Prof Euan Ritchie of Deakin University in Australia said the study \"is yet more dire confirmation that we are destroying life at a horrific pace and scale\"   ...                                                                                                                                                                                                                                                                                                                                                                                                                                                                                                                                                                                                                                                                                                                                                                                                                                                                                                                                                                                                                                                                                                                                                                                                                                                                                                                                                                                                                                                                                                                                                                                                                                                                                                                                                                                                                                               [Human impacts on the places on Earth with the most richness of life have brought hundreds of wild animals to the brink of extinction, a study shows, The likes of logging and poaching have pushed 500 mammals, birds, reptiles and amphibians to the point where they're hanging by a thread, research found, This is yet more evidence that the world's undergoing a sixth mass extinction, scientists argue, Species are disappearing at more than 100 times the natural rate, they say,  And unlike other mass extinctions, caused by volcano eruptions or asteroid collisions, we only have ourselves to blame, Prof Gerardo Ceballos of the National University of Mexico in Mexico City, said regional ecosystems are facing collapse,  \"We have entered the sixth mass extinction,\" he told BBC News,  \"Based on our research and what we're seeing, the extinction crisis is so bad that whatever we do in the next 10 to 50 years is what will define the future of humanity, \"Prof Ceballos worked on the study with two other well-known conservation scientists, Stanford University's Prof Paul Erhlich, and Dr Peter Raven of the Missouri Botanical Garden in St Louis, US, Using data from the International Union for the Conservation of Nature (IUCN) Red List of threatened species and Birdlife (the bird authority for the IUCN), they identified at least 515 species that are on the brink of extinction, with fewer than a thousand individuals left,  The animals are found on every continent save Antarctica, in places highly impacted by humans, primarily in the tropics and subtropics, They include the Golden Lion Tamarin, Ethiopian Wolf, Javan Rhinoceros, Spanish Imperial Eagle, Yellow-eared Parrot, Gharial and Green Poison Frog, The scientists describe the extinction crisis as an existential threat to civilisation, along with climate change and pollution, to which it is tied, And they say they have a \"moral imperative\" to draw attention to the loss of biodiversity, which they say is still rather ignored by most people, The research is published in the journal Proceedings of the National Academy of Sciences (PNAS), Commenting, Prof Diana Fisher of the University of Queensland, Australia, said the study deserved attention because so many people don't realise how much of the world's wildlife faces impending extinction,  \"I agree with the authors that this extinction crisis needs to be elevated to an emergency equal to climate change,\" she said, Prof Chris Johnson of the University of Tasmania said the current rate of extinction of species is higher than at any time since 66 million years ago, when the collision of a space-rock with the Earth killed off dinosaurs and many other species,  \"Threats to species in today's world - things like habitat destruction and climate change - are growing rapidly,\" he said, adding that the 515 species down to 1,000 or fewer individuals are likely to be gone very soon,   And Prof Euan Ritchie of Deakin University in Australia said the study \"is yet more dire confirmation that we are destroying life at a horrific pace and scale\", Follow Helen on Twitter, ]\n",
       "514                                                                                                                                                                                                                                                                                                                                                                                                                                                                                                                                                                                                                                                                                                                                                                                                                                                                                                                                                                                                                                                                                                                                                                                                                                                                                                                                                                                                                                                                                                                                                                                                                                                                                                                                                                                                                                                                                                                                                                                                                                                                                                                                                                                                                                                                                                                                                                                                                                                                          Conservation groups have welcomed China's move to remove pangolins from the official list of traditional Chinese medicine treatments, saying this could be a \"game changer\" The news, reported by China's Health Times newspaper, comes after China raised the animal's protected status to the highest level last week Pangolins have been pushed to the brink by illegal hunting for scales and meat They are implicated in coronavirus, but the evidence is unclear Conservation charities have welcomed the move to remove them from the official list of traditional Chinese medicines  Paul Thomson of Save Pangolins said it was a breakthrough moment  \"China's move to phase out pangolin scales from traditional medicines could be the game changer we have been waiting for,\" he said  \"We hope China's next move will be to enforce the regulations and work to change consumer behaviour \"And Katheryn Wise of animal welfare campaign group, World Animal Protection, said it was \"great news\" that China had upgraded pangolins to the highest level of protection and removed them from the Chinese Pharmacopoeia She called for this to be extended to all wild animals, \"who, like pangolins, are poached from the wild and often placed in squalid, cramped cages, creating a lethal hotbed of disease\" Pangolins are covered with a layer of scales, which are designed to protect them against predators  The scales are highly coveted by traditional Chinese medicine practitioners, while pangolin meat is seen as a delicacy  China banned the consumption of live wild animals for food in the wake of the outbreak, but there are certain exemptions, such as for medicine or fur Pangolins are in the spotlight as a possible animal host for coronavirus, but no direct link has been shown Nicole Benjamin-Fink of Conservation Beyond Borders said that, whether pangolins served as the conduit for the coronavirus or not, it's time to halt the demand for the most trafficked mammals worldwide  \"Let's hope that this ban is the first in a series that ultimately ban all wildlife usage in traditional Chinese medicine,\" she said Pangolins eat ants and other insects, and are often known as the scaly anteater  All eight species are protected under international law, but trade has been growing   ...                                                                                                                                                                                                                                                                                                                                                                                                                                                                                                                                                                                                                                                                                                                                                                                                                                                                                                                                                                                                                                                                                                                                                                                                                                                                                                                                                                                                                                                                                                                                                                                                                                                                                                                                                                                                                                                                                                                                                                                                                                                                                                                                                                                                                                                                                                                                                                                                                                                                                                                                                                                                                                                                       [Conservation groups have welcomed China's move to remove pangolins from the official list of traditional Chinese medicine treatments, saying this could be a \"game changer\", The news, reported by China's Health Times newspaper, comes after China raised the animal's protected status to the highest level last week, Pangolins have been pushed to the brink by illegal hunting for scales and meat, They are implicated in coronavirus, but the evidence is unclear, Conservation charities have welcomed the move to remove them from the official list of traditional Chinese medicines,  Paul Thomson of Save Pangolins said it was a breakthrough moment,  \"China's move to phase out pangolin scales from traditional medicines could be the game changer we have been waiting for,\" he said,  \"We hope China's next move will be to enforce the regulations and work to change consumer behaviour, \"And Katheryn Wise of animal welfare campaign group, World Animal Protection, said it was \"great news\" that China had upgraded pangolins to the highest level of protection and removed them from the Chinese Pharmacopoeia, She called for this to be extended to all wild animals, \"who, like pangolins, are poached from the wild and often placed in squalid, cramped cages, creating a lethal hotbed of disease\", Pangolins are covered with a layer of scales, which are designed to protect them against predators,  The scales are highly coveted by traditional Chinese medicine practitioners, while pangolin meat is seen as a delicacy,  China banned the consumption of live wild animals for food in the wake of the outbreak, but there are certain exemptions, such as for medicine or fur, Pangolins are in the spotlight as a possible animal host for coronavirus, but no direct link has been shown, Nicole Benjamin-Fink of Conservation Beyond Borders said that, whether pangolins served as the conduit for the coronavirus or not, it's time to halt the demand for the most trafficked mammals worldwide,  \"Let's hope that this ban is the first in a series that ultimately ban all wildlife usage in traditional Chinese medicine,\" she said, Pangolins eat ants and other insects, and are often known as the scaly anteater,  All eight species are protected under international law, but trade has been growing, Follow Helen on Twitter, ]\n",
       "\n",
       "[5 rows x 3 columns]"
      ]
     },
     "execution_count": 16,
     "metadata": {
      "tags": []
     },
     "output_type": "execute_result"
    }
   ],
   "source": [
    "raw_news.head()"
   ]
  },
  {
   "cell_type": "code",
   "execution_count": null,
   "metadata": {
    "colab": {},
    "colab_type": "code",
    "id": "YGZYxB1SOdCn"
   },
   "outputs": [],
   "source": [
    "raw_news=raw_news[['isi','kategori']]"
   ]
  },
  {
   "cell_type": "markdown",
   "metadata": {
    "colab_type": "text",
    "id": "FQY9fqC9GOHi"
   },
   "source": [
    "# Hapus sisa noise"
   ]
  },
  {
   "cell_type": "code",
   "execution_count": null,
   "metadata": {
    "colab": {},
    "colab_type": "code",
    "id": "vSCtHE5LW1Y8"
   },
   "outputs": [],
   "source": [
    "def remove_noise(sentence):\n",
    "  sentence = sentence.replace(\"co uk\",\"\")\n",
    "  sentence=re.sub('\\w+ co','',sentence)\n",
    "  return sentence"
   ]
  },
  {
   "cell_type": "code",
   "execution_count": null,
   "metadata": {
    "colab": {},
    "colab_type": "code",
    "id": "O6c6ZM4rW9_l"
   },
   "outputs": [],
   "source": [
    "raw_news['isi']=raw_news['isi'].apply(remove_noise)"
   ]
  },
  {
   "cell_type": "code",
   "execution_count": null,
   "metadata": {
    "colab": {
     "base_uri": "https://localhost:8080/",
     "height": 1000
    },
    "colab_type": "code",
    "executionInfo": {
     "elapsed": 13888,
     "status": "ok",
     "timestamp": 1594442025436,
     "user": {
      "displayName": "ARIEF AKBAR HIDAYAT MHS 2017",
      "photoUrl": "https://lh3.googleusercontent.com/a-/AOh14GgpxjnV7zTpLouYOAYyyr7JileDmvj56ntyPr5Y=s64",
      "userId": "11849805901853145430"
     },
     "user_tz": -420
    },
    "id": "qZlstGSIXDyE",
    "outputId": "1cbf3bf1-3a8e-49c4-e788-9205287d8c80"
   },
   "outputs": [
    {
     "data": {
      "text/html": [
       "<div>\n",
       "<style scoped>\n",
       "    .dataframe tbody tr th:only-of-type {\n",
       "        vertical-align: middle;\n",
       "    }\n",
       "\n",
       "    .dataframe tbody tr th {\n",
       "        vertical-align: top;\n",
       "    }\n",
       "\n",
       "    .dataframe thead th {\n",
       "        text-align: right;\n",
       "    }\n",
       "</style>\n",
       "<table border=\"1\" class=\"dataframe\">\n",
       "  <thead>\n",
       "    <tr style=\"text-align: right;\">\n",
       "      <th></th>\n",
       "      <th>isi</th>\n",
       "      <th>kategori</th>\n",
       "    </tr>\n",
       "  </thead>\n",
       "  <tbody>\n",
       "    <tr>\n",
       "      <th>493</th>\n",
       "      <td>Scientists want people to send them their wildlife experiences under ronavirus lockdown  They are keen to hear recordings of dawn choruses, animals in unusual places, and views of the night sky without pollution  The Earth Project is a global citizen science -ordinated by scientists across UK universities It hopes to showcase how nature has capitalised on reduced human activity during the pandemic  The researchers want the public to help them capture a global representation of what we experienced on the ground during lockdown \"We are hoping to create a useful shared library of baseline experiences for the public, reminding us in the future of what life and our relationship with uld be when global public mobility and many pollution-generating activities are reduced,\" explained Phil Manning from the University of Manchester The team acknowledges that \"significant sacrifices\" will have to be made by everyone in order to reduce our impact on the planet's climate system, and to move towards the sustainable use of the Earth's natural resources  It is hoped that the positive experiences many people had with nature during lockdown, and the recollection of those experiences, will help build the case for behaviour changes to help shift us towards sustainability During the lockdown, wildlife reclaiming the streets of towns and cities during lockdown have made headlines around the world  For example, goats that normally keep themselves to themselves in the hills surrounding Llandudno, Wales, ventured into the town's deserted streets People have also reported that they have been able to hear birdsong more clearly without nstant hum of traffic The submissions will llated by the Earth Project team, nsists ncerned citizens alongside scientists from multiple UK universities, including Bangor, Belfast, Durham, Manchester and Plymouth Prof Manning told BBC News that the recordings of birdsong, night skies and nature calls will be made available online for everyone to enjoy and to relive the better moments of life under lockdown \"The survey results will help provide an overview of people's observations and thoughts on the environment before, during and after lockdown,\" he observed \"The responses will be analysed and summarised and then made available along with the database on our website during the late Summer and Autumn of 2020 \"He said that it was hoped that the findings of the uld encourage behaviour change and help shape policies and strategies uld deliver greener and sustainable lifestyles \"The Earth Project… has the potential to provide a snapshot of what happened to the environment and wildlife when human activity is drastically reduced or simply managed in a more sustainable way,\" Prof Manning said As part of the project's survey, it will ask people whether they are willing to make changes to their behaviour to help improve the world around them Prof Manning added: \"This information will be evaluated in our inclusive Earth Project think-tank and, hopefully, uld impact future behaviour and guide those who make policy decisions \"The Earth Project has the potential to help catalyse humankind to a sustainable future \"You can access the Earth Project -Live website here</td>\n",
       "      <td>science</td>\n",
       "    </tr>\n",
       "    <tr>\n",
       "      <th>291</th>\n",
       "      <td>A clear picture is emerging of why the asteroid that struck Earth 66 million years ago was so catastrophic The space object, which wiped out 75% of all species including the dinosaurs, hit the worst possible place on the planet and - according to new research - at the most lethal angle Investigations at the crater site, together mputer simulations, suggest the impactor dug into the crust at an inclination of up to 60 degrees This exacerbated the climatic fallout We know that the target rocks, in what is now the Gulf of Mexico, contained huge volumes of sulphur from the mineral gypsum  When this material was thrown high into the atmosphere and mixed with water vapour, it produced a \"global winter\" And the angle of attack ensured this environmental crisis was intense and prolonged    \"At 45 to 60 degrees, the impact is very efficient at vaporising and ejecting debris to high altitude  If the impact happens at shallower or much steeper angles, the amount of material that's put into the atmosphere that can then have climate-changing effects is significantly less,\" explained Prof Gareth Collins from Imperial College London  \"It's evident that the nature of the location where this event happened, together with the impact angle, made for a perfect storm,\" he told BBC News The majority of plant and animal life on Earth succumbed to the the nditions Prof Collins' lleagues' work is published in the journal Nature Communications Prof Collins is part of an international team that's been studying the anatomy of the crater associated with the calamitous asteroid strike  Today, this 200km-wide structure is positioned under Mexico's Yucatan Peninsula, with its best preserved central portions sitting just offshore of the port of Chicxulub It's hard to grasp the scale of the forces that produced it The impactor, thought to be about 12km in diameter, punched an instantaneous hole in the crust that was probably some 30km deep  As fluidised rocks at the base of this bowl rebounded, they created in just a few minutes a mountain that was higher than Everest  This didn't last, however, and it fell back, to leave a prominent inner ring of hills, or peaks What's interesting from Prof Collins' perspective is the asymmetry that was frozen into the Chicxulub structure For example, if you look at the centres of the crater, of its peak ring and of the uplifted rock that underlies the crust in Earth's mantle - these points do not map directly on top of each other  They're actually aligned in a northeast-southwest direction, with the crater centre in between the centres of mantle uplift and peak-ring formation This is a vital clue in determining not only the direction from which the asteroid arrived but the angle at which it hit the planet The Imperial researcher ran a number of simulations on the UK Science and Technology Facilities Council (STFC) DiRAC High Performance Computing Facility  The only way he can reproduce the geometry is by having the me in from the northeast and strike the Earth at an angle of roughly 60 degrees Prof Collins said: \"If you run the model at different impact angles, at 30 degrees and at 45 degrees, say, you can't match the observations - you get centres of mantle uplift and of the peak ring on the downrange side of the crater centre  And for a straight overhead impact, at 90 degrees, the centres are all on top of each other  So, that's doesn't match the observations, either \"lleague -author Prof Joanna Morgan added: \"Knowing the direction of impact means we now know which part of the target site was subjected to the greatest shock pressures  \"The sulphur-bearing and carbon-bearing sedimentary rocks actually thicken as you go from east to west, and to the south  So this result means we're degassing more of those sediments than we would if you just took an average value for their thickness \"And Prof Sean Gulick from the University of Texas at Austin, US, told BBC News: \"This new modelling provides a clear answer to the angle of the impact and the direction of the impact that largely settles a long-standing debate on what was downrange of the impact   \"Also critical is that a 60-degree angle is in the range of the worst options for injecting large volumes of vaporised and ejected sulphur-rich rocks into the atmosphere   \"Thus these results are critical for understanding potential 'kill mechanisms',\" -author explained Gulick and Morgan led the expedition that drilled into the Chicxulub Crater in 2016 to recover some of its rocks for an analysis The impact that changed life on</td>\n",
       "      <td>science</td>\n",
       "    </tr>\n",
       "    <tr>\n",
       "      <th>556</th>\n",
       "      <td>Global sport faces major disruption from climate change ming decades, according to a new analysis By 2050, it's estimated that almost one in four English football league grounds can expect flooding every year  But tennis, rugby, athletics and winter sports will also face serious challenges from the impacts of rising temperatures, the author says  The study finds that sports leaders are, in the main, failing to address the issue seriously While the Covid-19 pandemic has disrupted sports as much as any other aspect of social life, many experts believe that this is just a dress rehearsal for the long-term impacts on sport of a world that's way too hot Extreme weather events, related to rising temperatures, have already disrupted some of the world's most high-profile sports in recent years  A typhoon, which wreaked havoc in Japan last year, also affected fixtures at the Rugby Union World being held there  Smoke from bush fires stopped play at the Australian Tennis Open at the start of this year  These and many other instances are a foretaste of the future, according to this new mpiled by academic and author David Goldblatt As football slowly recovers from ronavirus crisis, his analysis shows that 23 of 92 English football league clubs will face partial or total annual flooding of their stadiums by 2050 In the current Premier League, the home grounds of Southampton, Norwich, Chelsea and West Ham face a similar threat Cricket faces huge challenges globally as temperatures rise in places like India, Australia and the West Indies Venues in Adelaide and Perth will see a 60% increase in days with temperatures over 40C over the next decade  In golf, one in three British urses will be damaged by rising sea-levels, the report says  Winter sports also face an uncertain future  Researchers say that of the 19 venues that have already hosted the Winter Olympics, just 10 will be able to hold them by 2050 But as well as showing the likely impacts of climate change on sports, the new study also looks at ntribution that the sporting industry makes to carbon emissions  The author says that the scale of CO2 is equivalent to untry like Bolivia at the low end but as large as untry like Spain on the high end The estimations are likely an underestimate as they exclude the global sportswear and sports broadcasting industries, who have impacts on carbon that are difficult to calculate Whatever the size of its carbon footprint, the cultural significance of sport gives it a tremendous platform to effect change, says the author  \"Sport may be just big enough to register, in terms of carbon emissions, as a small nation state, or a single megacity, but its own efforts are just a fraction of a percentage point of the world total,\" said David Goldblatt \"Making a carbon zero world mmon sense priority of the sports world would make a ntribution to making it mmon sense priority of all politics,\" he said While some organisations including the International Olympic Committee and FIFA have signed up to a UN action plan to make sport carbon neutral by 2050, the majority of sports authorities have not  The International Cricket Council is one of those who have not signed up  Among winter sports, only the ice hockey and skiing federations have joined, \"which makes one wonder what the people in charge of luge and bobsleigh think they are going to be sliding on in the future,\" the report waspishly notes  The report mmissioned by the Rapid Transition Alliance, a international group of academics and campaigners who argue for a faster response to climate change  \"A first step would be to bring an end to sponsorship from fossil mpanies and products promoting fossil fuel intensive lifestyles,\" said Andrew Simms from the group \"If players also speak out and say they believe clean air and a stable climate matter, millions more will see the possibilities for change   It will not only send a message of hope for the wider world, but it will help to guarantee a planet that is safe for sport</td>\n",
       "      <td>science</td>\n",
       "    </tr>\n",
       "    <tr>\n",
       "      <th>458</th>\n",
       "      <td>Human impacts on the places on Earth with the most richness of life have brought hundreds of wild animals to the brink of extinction, a study shows The likes of logging and poaching have pushed 500 mammals, birds, reptiles and amphibians to the point where they're hanging by a thread, research found This is yet more evidence that the world's undergoing a sixth mass extinction, scientists argue Species are disappearing at more than 100 times the natural rate, they say  And unlike other mass extinctions, caused by volcano eruptions or llisions, we only have ourselves to blame Prof Gerardo Ceballos of the National University of Mexico in Mexico City, said regional ecosystems are llapse  \"We have entered the sixth mass extinction,\" he told BBC News  \"Based on our research and what we're seeing, the extinction crisis is so bad that whatever we do in the next 10 to 50 years is what will define the future of humanity \"Prof Ceballos worked on the study with two other well-nservation scientists, Stanford University's Prof Paul Erhlich, and Dr Peter Raven of the Missouri Botanical Garden in St Louis, US Using data from the International Union for the Conservation of Nature (IUCN) Red List of threatened species and Birdlife (the bird authority for the IUCN), they identified at least 515 species that are on the brink of extinction, with fewer than a thousand individuals left  The animals are found on ntinent save Antarctica, in places highly impacted by humans, primarily in the tropics and subtropics They include the Golden Lion Tamarin, Ethiopian Wolf, Javan Rhinoceros, Spanish Imperial Eagle, Yellow-eared Parrot, Gharial and Green Poison Frog The scientists describe the extinction crisis as an existential threat to civilisation, along with climate change and pollution, to which it is tied And they say they have a \"moral imperative\" to draw attention to the loss of biodiversity, which they say is still rather ignored by most people The research is published in the journal Proceedings of the National Academy of Sciences (PNAS) Commenting, Prof Diana Fisher of the University of Queensland, Australia, said the study deserved attention because so many people don't realise how much of the world's wildlife faces impending extinction  \"I agree with the authors that this extinction crisis needs to be elevated to an emergency equal to climate change,\" she said Prof Chris Johnson of the University of Tasmania said the current rate of extinction of species is higher than at any time since 66 million years ago, when llision of a space-rock with the Earth killed off dinosaurs and many other species  \"Threats to species in today's world - things like habitat destruction and climate change - are growing rapidly,\" he said, adding that the 515 species down to 1,000 or fewer individuals are likely to be gone very soon   And Prof Euan Ritchie of Deakin University in Australia said the study \"is yet more nfirmation that we are destroying life at a horrific pace and scale\"</td>\n",
       "      <td>science</td>\n",
       "    </tr>\n",
       "    <tr>\n",
       "      <th>514</th>\n",
       "      <td>Conservation groups have welcomed China's move to remove pangolins from the official list of traditional Chinese medicine treatments, saying uld be a \"game changer\" The news, reported by China's Health Times newspaper, comes after China raised the animal's protected status to the highest level last week Pangolins have been pushed to the brink by illegal hunting for scales and meat They are implicated ronavirus, but the evidence is unclear Conservation charities have welcomed the move to remove them from the official list of traditional Chinese medicines  Paul Thomson of Save Pangolins said it was a breakthrough moment  \"China's move to phase out pangolin scales from traditional uld be the game changer we have been waiting for,\" he said  \"We hope China's next move will be to enforce the regulations and work to nsumer behaviour \"And Katheryn Wise of animal welfare campaign group, World Animal Protection, said it was \"great news\" that China had upgraded pangolins to the highest level of protection and removed them from the Chinese Pharmacopoeia She called for this to be extended to all wild animals, \"who, like pangolins, are poached from the wild and often placed in squalid, cramped cages, creating a lethal hotbed of disease\" Pangolins vered with a layer of scales, which are designed to protect them against predators  The scales are veted by traditional Chinese medicine practitioners, while pangolin meat is seen as a delicacy  China banned nsumption of live wild animals for food in the wake of the outbreak, but there are certain exemptions, such as for medicine or fur Pangolins are in the spotlight as a possible animal host ronavirus, but no direct link has been shown Nicole Benjamin-Fink of Conservation Beyond Borders said that, whether pangolins served as nduit for ronavirus or not, it's time to halt the demand for the most trafficked mammals worldwide  \"Let's hope that this ban is the first in a series that ultimately ban all wildlife usage in traditional Chinese medicine,\" she said Pangolins eat ants and other insects, and are often known as the scaly anteater  All eight species are protected under international law, but trade has been growing</td>\n",
       "      <td>science</td>\n",
       "    </tr>\n",
       "  </tbody>\n",
       "</table>\n",
       "</div>"
      ],
      "text/plain": [
       "                                                                                                                                                                                                                                                                                                                                                                                                                                                                                                                                                                                                                                                                                                                                                                                                                                                                                                                                                                                                                                                                                                                                                                                                                                                                                                                                                                                                                                                                                                                                                                                                                                                                                                                                                                                                                                                                                                                                                                                                                                                                                                                                                                                                                                                                                                                                                                                                                                                                                                                                                                                                                                                                                                                                                                                                                                                                                                                                                                                                                                                                                                                                                                                                                                                                                                                                                                                                                                                                                                                                                                                                                                                                                                                                                                                                                                                                                                                                                                                                                                                                                                                                                                                                                                                                                                                                                                                                                                                                                                                                                                                                                                                                                                                                            isi kategori\n",
       "493                                                                                                                                                                                                                                                                                                                                                                                                                                                                                                                                                                                                                                                                                                                                                                                                                                                                                                                                                                                                                                                                                                                                                                                                                                                                                                                                                                                                Scientists want people to send them their wildlife experiences under ronavirus lockdown  They are keen to hear recordings of dawn choruses, animals in unusual places, and views of the night sky without pollution  The Earth Project is a global citizen science -ordinated by scientists across UK universities It hopes to showcase how nature has capitalised on reduced human activity during the pandemic  The researchers want the public to help them capture a global representation of what we experienced on the ground during lockdown \"We are hoping to create a useful shared library of baseline experiences for the public, reminding us in the future of what life and our relationship with uld be when global public mobility and many pollution-generating activities are reduced,\" explained Phil Manning from the University of Manchester The team acknowledges that \"significant sacrifices\" will have to be made by everyone in order to reduce our impact on the planet's climate system, and to move towards the sustainable use of the Earth's natural resources  It is hoped that the positive experiences many people had with nature during lockdown, and the recollection of those experiences, will help build the case for behaviour changes to help shift us towards sustainability During the lockdown, wildlife reclaiming the streets of towns and cities during lockdown have made headlines around the world  For example, goats that normally keep themselves to themselves in the hills surrounding Llandudno, Wales, ventured into the town's deserted streets People have also reported that they have been able to hear birdsong more clearly without nstant hum of traffic The submissions will llated by the Earth Project team, nsists ncerned citizens alongside scientists from multiple UK universities, including Bangor, Belfast, Durham, Manchester and Plymouth Prof Manning told BBC News that the recordings of birdsong, night skies and nature calls will be made available online for everyone to enjoy and to relive the better moments of life under lockdown \"The survey results will help provide an overview of people's observations and thoughts on the environment before, during and after lockdown,\" he observed \"The responses will be analysed and summarised and then made available along with the database on our website during the late Summer and Autumn of 2020 \"He said that it was hoped that the findings of the uld encourage behaviour change and help shape policies and strategies uld deliver greener and sustainable lifestyles \"The Earth Project… has the potential to provide a snapshot of what happened to the environment and wildlife when human activity is drastically reduced or simply managed in a more sustainable way,\" Prof Manning said As part of the project's survey, it will ask people whether they are willing to make changes to their behaviour to help improve the world around them Prof Manning added: \"This information will be evaluated in our inclusive Earth Project think-tank and, hopefully, uld impact future behaviour and guide those who make policy decisions \"The Earth Project has the potential to help catalyse humankind to a sustainable future \"You can access the Earth Project -Live website here   science\n",
       "291  A clear picture is emerging of why the asteroid that struck Earth 66 million years ago was so catastrophic The space object, which wiped out 75% of all species including the dinosaurs, hit the worst possible place on the planet and - according to new research - at the most lethal angle Investigations at the crater site, together mputer simulations, suggest the impactor dug into the crust at an inclination of up to 60 degrees This exacerbated the climatic fallout We know that the target rocks, in what is now the Gulf of Mexico, contained huge volumes of sulphur from the mineral gypsum  When this material was thrown high into the atmosphere and mixed with water vapour, it produced a \"global winter\" And the angle of attack ensured this environmental crisis was intense and prolonged    \"At 45 to 60 degrees, the impact is very efficient at vaporising and ejecting debris to high altitude  If the impact happens at shallower or much steeper angles, the amount of material that's put into the atmosphere that can then have climate-changing effects is significantly less,\" explained Prof Gareth Collins from Imperial College London  \"It's evident that the nature of the location where this event happened, together with the impact angle, made for a perfect storm,\" he told BBC News The majority of plant and animal life on Earth succumbed to the the nditions Prof Collins' lleagues' work is published in the journal Nature Communications Prof Collins is part of an international team that's been studying the anatomy of the crater associated with the calamitous asteroid strike  Today, this 200km-wide structure is positioned under Mexico's Yucatan Peninsula, with its best preserved central portions sitting just offshore of the port of Chicxulub It's hard to grasp the scale of the forces that produced it The impactor, thought to be about 12km in diameter, punched an instantaneous hole in the crust that was probably some 30km deep  As fluidised rocks at the base of this bowl rebounded, they created in just a few minutes a mountain that was higher than Everest  This didn't last, however, and it fell back, to leave a prominent inner ring of hills, or peaks What's interesting from Prof Collins' perspective is the asymmetry that was frozen into the Chicxulub structure For example, if you look at the centres of the crater, of its peak ring and of the uplifted rock that underlies the crust in Earth's mantle - these points do not map directly on top of each other  They're actually aligned in a northeast-southwest direction, with the crater centre in between the centres of mantle uplift and peak-ring formation This is a vital clue in determining not only the direction from which the asteroid arrived but the angle at which it hit the planet The Imperial researcher ran a number of simulations on the UK Science and Technology Facilities Council (STFC) DiRAC High Performance Computing Facility  The only way he can reproduce the geometry is by having the me in from the northeast and strike the Earth at an angle of roughly 60 degrees Prof Collins said: \"If you run the model at different impact angles, at 30 degrees and at 45 degrees, say, you can't match the observations - you get centres of mantle uplift and of the peak ring on the downrange side of the crater centre  And for a straight overhead impact, at 90 degrees, the centres are all on top of each other  So, that's doesn't match the observations, either \"lleague -author Prof Joanna Morgan added: \"Knowing the direction of impact means we now know which part of the target site was subjected to the greatest shock pressures  \"The sulphur-bearing and carbon-bearing sedimentary rocks actually thicken as you go from east to west, and to the south  So this result means we're degassing more of those sediments than we would if you just took an average value for their thickness \"And Prof Sean Gulick from the University of Texas at Austin, US, told BBC News: \"This new modelling provides a clear answer to the angle of the impact and the direction of the impact that largely settles a long-standing debate on what was downrange of the impact   \"Also critical is that a 60-degree angle is in the range of the worst options for injecting large volumes of vaporised and ejected sulphur-rich rocks into the atmosphere   \"Thus these results are critical for understanding potential 'kill mechanisms',\" -author explained Gulick and Morgan led the expedition that drilled into the Chicxulub Crater in 2016 to recover some of its rocks for an analysis The impact that changed life on   science\n",
       "556                                                                                                                                                                                                                                                                                                                                                                                                                                                                                                                                                                    Global sport faces major disruption from climate change ming decades, according to a new analysis By 2050, it's estimated that almost one in four English football league grounds can expect flooding every year  But tennis, rugby, athletics and winter sports will also face serious challenges from the impacts of rising temperatures, the author says  The study finds that sports leaders are, in the main, failing to address the issue seriously While the Covid-19 pandemic has disrupted sports as much as any other aspect of social life, many experts believe that this is just a dress rehearsal for the long-term impacts on sport of a world that's way too hot Extreme weather events, related to rising temperatures, have already disrupted some of the world's most high-profile sports in recent years  A typhoon, which wreaked havoc in Japan last year, also affected fixtures at the Rugby Union World being held there  Smoke from bush fires stopped play at the Australian Tennis Open at the start of this year  These and many other instances are a foretaste of the future, according to this new mpiled by academic and author David Goldblatt As football slowly recovers from ronavirus crisis, his analysis shows that 23 of 92 English football league clubs will face partial or total annual flooding of their stadiums by 2050 In the current Premier League, the home grounds of Southampton, Norwich, Chelsea and West Ham face a similar threat Cricket faces huge challenges globally as temperatures rise in places like India, Australia and the West Indies Venues in Adelaide and Perth will see a 60% increase in days with temperatures over 40C over the next decade  In golf, one in three British urses will be damaged by rising sea-levels, the report says  Winter sports also face an uncertain future  Researchers say that of the 19 venues that have already hosted the Winter Olympics, just 10 will be able to hold them by 2050 But as well as showing the likely impacts of climate change on sports, the new study also looks at ntribution that the sporting industry makes to carbon emissions  The author says that the scale of CO2 is equivalent to untry like Bolivia at the low end but as large as untry like Spain on the high end The estimations are likely an underestimate as they exclude the global sportswear and sports broadcasting industries, who have impacts on carbon that are difficult to calculate Whatever the size of its carbon footprint, the cultural significance of sport gives it a tremendous platform to effect change, says the author  \"Sport may be just big enough to register, in terms of carbon emissions, as a small nation state, or a single megacity, but its own efforts are just a fraction of a percentage point of the world total,\" said David Goldblatt \"Making a carbon zero world mmon sense priority of the sports world would make a ntribution to making it mmon sense priority of all politics,\" he said While some organisations including the International Olympic Committee and FIFA have signed up to a UN action plan to make sport carbon neutral by 2050, the majority of sports authorities have not  The International Cricket Council is one of those who have not signed up  Among winter sports, only the ice hockey and skiing federations have joined, \"which makes one wonder what the people in charge of luge and bobsleigh think they are going to be sliding on in the future,\" the report waspishly notes  The report mmissioned by the Rapid Transition Alliance, a international group of academics and campaigners who argue for a faster response to climate change  \"A first step would be to bring an end to sponsorship from fossil mpanies and products promoting fossil fuel intensive lifestyles,\" said Andrew Simms from the group \"If players also speak out and say they believe clean air and a stable climate matter, millions more will see the possibilities for change   It will not only send a message of hope for the wider world, but it will help to guarantee a planet that is safe for sport   science\n",
       "458                                                                                                                                                                                                                                                                                                                                                                                                                                                                                                                                                                                                                                                                                                                                                                                                                                                                                                                                                                                                                                                                                                                                                                                                                                                                                                                                                                                                                                                                                                                                                                                                                        Human impacts on the places on Earth with the most richness of life have brought hundreds of wild animals to the brink of extinction, a study shows The likes of logging and poaching have pushed 500 mammals, birds, reptiles and amphibians to the point where they're hanging by a thread, research found This is yet more evidence that the world's undergoing a sixth mass extinction, scientists argue Species are disappearing at more than 100 times the natural rate, they say  And unlike other mass extinctions, caused by volcano eruptions or llisions, we only have ourselves to blame Prof Gerardo Ceballos of the National University of Mexico in Mexico City, said regional ecosystems are llapse  \"We have entered the sixth mass extinction,\" he told BBC News  \"Based on our research and what we're seeing, the extinction crisis is so bad that whatever we do in the next 10 to 50 years is what will define the future of humanity \"Prof Ceballos worked on the study with two other well-nservation scientists, Stanford University's Prof Paul Erhlich, and Dr Peter Raven of the Missouri Botanical Garden in St Louis, US Using data from the International Union for the Conservation of Nature (IUCN) Red List of threatened species and Birdlife (the bird authority for the IUCN), they identified at least 515 species that are on the brink of extinction, with fewer than a thousand individuals left  The animals are found on ntinent save Antarctica, in places highly impacted by humans, primarily in the tropics and subtropics They include the Golden Lion Tamarin, Ethiopian Wolf, Javan Rhinoceros, Spanish Imperial Eagle, Yellow-eared Parrot, Gharial and Green Poison Frog The scientists describe the extinction crisis as an existential threat to civilisation, along with climate change and pollution, to which it is tied And they say they have a \"moral imperative\" to draw attention to the loss of biodiversity, which they say is still rather ignored by most people The research is published in the journal Proceedings of the National Academy of Sciences (PNAS) Commenting, Prof Diana Fisher of the University of Queensland, Australia, said the study deserved attention because so many people don't realise how much of the world's wildlife faces impending extinction  \"I agree with the authors that this extinction crisis needs to be elevated to an emergency equal to climate change,\" she said Prof Chris Johnson of the University of Tasmania said the current rate of extinction of species is higher than at any time since 66 million years ago, when llision of a space-rock with the Earth killed off dinosaurs and many other species  \"Threats to species in today's world - things like habitat destruction and climate change - are growing rapidly,\" he said, adding that the 515 species down to 1,000 or fewer individuals are likely to be gone very soon   And Prof Euan Ritchie of Deakin University in Australia said the study \"is yet more nfirmation that we are destroying life at a horrific pace and scale\"   science\n",
       "514                                                                                                                                                                                                                                                                                                                                                                                                                                                                                                                                                                                                                                                                                                                                                                                                                                                                                                                                                                                                                                                                                                                                                                                                                                                                                                                                                                                                                                                                                                                                                                                                                                                                                                                                                                                                                                                                                                                                                                                                                                                                                                                                                                                                                                                                                                                                                                                                                                                                     Conservation groups have welcomed China's move to remove pangolins from the official list of traditional Chinese medicine treatments, saying uld be a \"game changer\" The news, reported by China's Health Times newspaper, comes after China raised the animal's protected status to the highest level last week Pangolins have been pushed to the brink by illegal hunting for scales and meat They are implicated ronavirus, but the evidence is unclear Conservation charities have welcomed the move to remove them from the official list of traditional Chinese medicines  Paul Thomson of Save Pangolins said it was a breakthrough moment  \"China's move to phase out pangolin scales from traditional uld be the game changer we have been waiting for,\" he said  \"We hope China's next move will be to enforce the regulations and work to nsumer behaviour \"And Katheryn Wise of animal welfare campaign group, World Animal Protection, said it was \"great news\" that China had upgraded pangolins to the highest level of protection and removed them from the Chinese Pharmacopoeia She called for this to be extended to all wild animals, \"who, like pangolins, are poached from the wild and often placed in squalid, cramped cages, creating a lethal hotbed of disease\" Pangolins vered with a layer of scales, which are designed to protect them against predators  The scales are veted by traditional Chinese medicine practitioners, while pangolin meat is seen as a delicacy  China banned nsumption of live wild animals for food in the wake of the outbreak, but there are certain exemptions, such as for medicine or fur Pangolins are in the spotlight as a possible animal host ronavirus, but no direct link has been shown Nicole Benjamin-Fink of Conservation Beyond Borders said that, whether pangolins served as nduit for ronavirus or not, it's time to halt the demand for the most trafficked mammals worldwide  \"Let's hope that this ban is the first in a series that ultimately ban all wildlife usage in traditional Chinese medicine,\" she said Pangolins eat ants and other insects, and are often known as the scaly anteater  All eight species are protected under international law, but trade has been growing   science"
      ]
     },
     "execution_count": 20,
     "metadata": {
      "tags": []
     },
     "output_type": "execute_result"
    }
   ],
   "source": [
    "raw_news.head()"
   ]
  },
  {
   "cell_type": "markdown",
   "metadata": {
    "colab_type": "text",
    "id": "55gP5cueNySw"
   },
   "source": [
    "# lowercasing"
   ]
  },
  {
   "cell_type": "code",
   "execution_count": null,
   "metadata": {
    "colab": {},
    "colab_type": "code",
    "id": "KWRDkr0XAFlc"
   },
   "outputs": [],
   "source": [
    "#lowercasing\n",
    "def remove_punc(sentence):\n",
    "  sentence = sentence.lower()\n",
    "  sentence = re.sub('[^a-z]+', ' ', sentence)\n",
    "  return sentence"
   ]
  },
  {
   "cell_type": "code",
   "execution_count": null,
   "metadata": {
    "colab": {},
    "colab_type": "code",
    "id": "HFifUVlANzhc"
   },
   "outputs": [],
   "source": [
    "raw_news['isi']=raw_news['isi'].apply(remove_punc)"
   ]
  },
  {
   "cell_type": "code",
   "execution_count": null,
   "metadata": {
    "colab": {
     "base_uri": "https://localhost:8080/",
     "height": 121
    },
    "colab_type": "code",
    "executionInfo": {
     "elapsed": 11455,
     "status": "ok",
     "timestamp": 1594442025439,
     "user": {
      "displayName": "ARIEF AKBAR HIDAYAT MHS 2017",
      "photoUrl": "https://lh3.googleusercontent.com/a-/AOh14GgpxjnV7zTpLouYOAYyyr7JileDmvj56ntyPr5Y=s64",
      "userId": "11849805901853145430"
     },
     "user_tz": -420
    },
    "id": "-fEz17AvOw_s",
    "outputId": "0b180789-2e8a-466c-d44f-157a1e1bfc60"
   },
   "outputs": [
    {
     "data": {
      "text/plain": [
       "business         100\n",
       "technology       100\n",
       "entertainment    100\n",
       "science          100\n",
       "health            71\n",
       "Name: kategori, dtype: int64"
      ]
     },
     "execution_count": 23,
     "metadata": {
      "tags": []
     },
     "output_type": "execute_result"
    }
   ],
   "source": [
    "raw_news['kategori'].value_counts()"
   ]
  },
  {
   "cell_type": "markdown",
   "metadata": {
    "colab_type": "text",
    "id": "QiQWOnunGm61"
   },
   "source": [
    "# Stopword removal"
   ]
  },
  {
   "cell_type": "code",
   "execution_count": null,
   "metadata": {
    "colab": {
     "base_uri": "https://localhost:8080/",
     "height": 1000
    },
    "colab_type": "code",
    "executionInfo": {
     "elapsed": 11031,
     "status": "ok",
     "timestamp": 1594442025750,
     "user": {
      "displayName": "ARIEF AKBAR HIDAYAT MHS 2017",
      "photoUrl": "https://lh3.googleusercontent.com/a-/AOh14GgpxjnV7zTpLouYOAYyyr7JileDmvj56ntyPr5Y=s64",
      "userId": "11849805901853145430"
     },
     "user_tz": -420
    },
    "id": "Utrw8fusP1r3",
    "outputId": "32fbf1a4-9d73-4d74-953b-93b41cd94aa7"
   },
   "outputs": [
    {
     "data": {
      "text/html": [
       "<div>\n",
       "<style scoped>\n",
       "    .dataframe tbody tr th:only-of-type {\n",
       "        vertical-align: middle;\n",
       "    }\n",
       "\n",
       "    .dataframe tbody tr th {\n",
       "        vertical-align: top;\n",
       "    }\n",
       "\n",
       "    .dataframe thead th {\n",
       "        text-align: right;\n",
       "    }\n",
       "</style>\n",
       "<table border=\"1\" class=\"dataframe\">\n",
       "  <thead>\n",
       "    <tr style=\"text-align: right;\">\n",
       "      <th></th>\n",
       "      <th>isi</th>\n",
       "      <th>kategori</th>\n",
       "    </tr>\n",
       "  </thead>\n",
       "  <tbody>\n",
       "    <tr>\n",
       "      <th>493</th>\n",
       "      <td>scientists want people send wildlife experiences ronavirus lockdown keen hear recordings dawn choruses animals unusual places views night sky without pollution earth project global citizen science ordinated scientists across uk universities hopes showcase nature capitalised reduced human activity pandemic researchers want public help capture global representation experienced ground lockdown hoping create useful shared library baseline experiences public reminding us future life relationship uld global public mobility many pollution generating activities reduced explained phil manning university manchester team acknowledges significant sacrifices made everyone order reduce impact planet climate system move towards sustainable use earth natural resources hoped positive experiences many people nature lockdown recollection experiences help build case behaviour changes help shift us towards sustainability lockdown wildlife reclaiming streets towns cities lockdown made headlines around world example goats normally keep hills surrounding llandudno wales ventured town deserted streets people also reported able hear birdsong clearly without nstant hum traffic submissions llated earth project team nsists ncerned citizens alongside scientists multiple uk universities including bangor belfast durham manchester plymouth prof manning told bbc news recordings birdsong night skies nature calls made available online everyone enjoy relive better moments life lockdown survey results help provide overview people observations thoughts environment lockdown observed responses analysed summarised made available along database website late summer autumn said hoped findings uld encourage behaviour change help shape policies strategies uld deliver greener sustainable lifestyles earth project potential provide snapshot happened environment wildlife human activity drastically reduced simply managed sustainable way prof manning said part project survey ask people whether willing make changes behaviour help improve world around prof manning added information evaluated inclusive earth project think tank hopefully uld impact future behaviour guide make policy decisions earth project potential help catalyse humankind sustainable future access earth project live website</td>\n",
       "      <td>science</td>\n",
       "    </tr>\n",
       "    <tr>\n",
       "      <th>291</th>\n",
       "      <td>clear picture emerging asteroid struck earth million years ago catastrophic space object wiped species including dinosaurs hit worst possible place planet according new research lethal angle investigations crater site together mputer simulations suggest impactor dug crust inclination degrees exacerbated climatic fallout know target rocks gulf mexico contained huge volumes sulphur mineral gypsum material thrown high atmosphere mixed water vapour produced global winter angle attack ensured environmental crisis intense prolonged degrees impact efficient vaporising ejecting debris high altitude impact happens shallower much steeper angles amount material put atmosphere climate changing effects significantly less explained prof gareth collins imperial college london evident nature location event happened together impact angle made perfect storm told bbc news majority plant animal life earth succumbed nditions prof collins lleagues work published journal nature communications prof collins part international team studying anatomy crater associated calamitous asteroid strike today km wide structure positioned mexico yucatan peninsula best preserved central portions sitting offshore port chicxulub hard grasp scale forces produced impactor thought km diameter punched instantaneous hole crust probably km deep fluidised rocks base bowl rebounded created minutes mountain higher everest last however fell back leave prominent inner ring hills peaks interesting prof collins perspective asymmetry frozen chicxulub structure example look centres crater peak ring uplifted rock underlies crust earth mantle points map directly top actually aligned northeast southwest direction crater centre centres mantle uplift peak ring formation vital clue determining direction asteroid arrived angle hit planet imperial researcher ran number simulations uk science technology facilities council stfc dirac high performance computing facility way reproduce geometry northeast strike earth angle roughly degrees prof collins said run model different impact angles degrees degrees say match observations get centres mantle uplift peak ring downrange side crater centre straight overhead impact degrees centres top match observations either lleague author prof joanna morgan added knowing direction impact means know part target site subjected greatest shock pressures sulphur bearing carbon bearing sedimentary rocks actually thicken go east west south result means degassing sediments would took average value thickness prof sean gulick university texas austin us told bbc news new modelling provides clear answer angle impact direction impact largely settles long standing debate downrange impact also critical degree angle range worst options injecting large volumes vaporised ejected sulphur rich rocks atmosphere thus results critical understanding potential kill mechanisms author explained gulick morgan led expedition drilled chicxulub crater recover rocks analysis impact changed life</td>\n",
       "      <td>science</td>\n",
       "    </tr>\n",
       "    <tr>\n",
       "      <th>556</th>\n",
       "      <td>global sport faces major disruption climate change ming decades according new analysis estimated almost one four english football league grounds expect flooding every year tennis rugby athletics winter sports also face serious challenges impacts rising temperatures author says study finds sports leaders main failing address issue seriously covid pandemic disrupted sports much aspect social life many experts believe dress rehearsal long term impacts sport world way hot extreme weather events related rising temperatures already disrupted world high profile sports recent years typhoon wreaked havoc japan last year also affected fixtures rugby union world held smoke bush fires stopped play australian tennis open start year many instances foretaste future according new mpiled academic author david goldblatt football slowly recovers ronavirus crisis analysis shows english football league clubs face partial total annual flooding stadiums current premier league home grounds southampton norwich chelsea west ham face similar threat cricket faces huge challenges globally temperatures rise places like india australia west indies venues adelaide perth see increase days temperatures c next decade golf one three british urses damaged rising sea levels report says winter sports also face uncertain future researchers say venues already hosted winter olympics able hold well showing likely impacts climate change sports new study also looks ntribution sporting industry makes carbon emissions author says scale co equivalent untry like bolivia low end large untry like spain high end estimations likely underestimate exclude global sportswear sports broadcasting industries impacts carbon difficult calculate whatever size carbon footprint cultural significance sport gives tremendous platform effect change says author sport may big enough register terms carbon emissions small nation state single megacity efforts fraction percentage point world total said david goldblatt making carbon zero world mmon sense priority sports world would make ntribution making mmon sense priority politics said organisations including international olympic committee fifa signed un action plan make sport carbon neutral majority sports authorities international cricket council one signed among winter sports ice hockey skiing federations joined makes one wonder people charge luge bobsleigh think going sliding future report waspishly notes report mmissioned rapid transition alliance international group academics campaigners argue faster response climate change first step would bring end sponsorship fossil mpanies products promoting fossil fuel intensive lifestyles said andrew simms group players also speak say believe clean air stable climate matter millions see possibilities change send message hope wider world help guarantee planet safe sport</td>\n",
       "      <td>science</td>\n",
       "    </tr>\n",
       "    <tr>\n",
       "      <th>458</th>\n",
       "      <td>human impacts places earth richness life brought hundreds wild animals brink extinction study shows likes logging poaching pushed mammals birds reptiles amphibians point hanging thread research found yet evidence world undergoing sixth mass extinction scientists argue species disappearing times natural rate say unlike mass extinctions caused volcano eruptions llisions blame prof gerardo ceballos national university mexico mexico city said regional ecosystems llapse entered sixth mass extinction told bbc news based research seeing extinction crisis bad whatever next years define future humanity prof ceballos worked study two well nservation scientists stanford university prof paul erhlich dr peter raven missouri botanical garden st louis us using data international union conservation nature iucn red list threatened species birdlife bird authority iucn identified least species brink extinction fewer thousand individuals left animals found ntinent save antarctica places highly impacted humans primarily tropics subtropics include golden lion tamarin ethiopian wolf javan rhinoceros spanish imperial eagle yellow eared parrot gharial green poison frog scientists describe extinction crisis existential threat civilisation along climate change pollution tied say moral imperative draw attention loss biodiversity say still rather ignored people research published journal proceedings national academy sciences pnas commenting prof diana fisher university queensland australia said study deserved attention many people realise much world wildlife faces impending extinction agree authors extinction crisis needs elevated emergency equal climate change said prof chris johnson university tasmania said current rate extinction species higher time since million years ago llision space rock earth killed dinosaurs many species threats species today world things like habitat destruction climate change growing rapidly said adding species fewer individuals likely gone soon prof euan ritchie deakin university australia said study yet nfirmation destroying life horrific pace scale</td>\n",
       "      <td>science</td>\n",
       "    </tr>\n",
       "    <tr>\n",
       "      <th>514</th>\n",
       "      <td>conservation groups welcomed china move remove pangolins official list traditional chinese medicine treatments saying uld game changer news reported china health times newspaper comes china raised animal protected status highest level last week pangolins pushed brink illegal hunting scales meat implicated ronavirus evidence unclear conservation charities welcomed move remove official list traditional chinese medicines paul thomson save pangolins said breakthrough moment china move phase pangolin scales traditional uld game changer waiting said hope china next move enforce regulations work nsumer behaviour katheryn wise animal welfare campaign group world animal protection said great news china upgraded pangolins highest level protection removed chinese pharmacopoeia called extended wild animals like pangolins poached wild often placed squalid cramped cages creating lethal hotbed disease pangolins vered layer scales designed protect predators scales veted traditional chinese medicine practitioners pangolin meat seen delicacy china banned nsumption live wild animals food wake outbreak certain exemptions medicine fur pangolins spotlight possible animal host ronavirus direct link shown nicole benjamin fink conservation beyond borders said whether pangolins served nduit ronavirus time halt demand trafficked mammals worldwide let hope ban first series ultimately ban wildlife usage traditional chinese medicine said pangolins eat ants insects often known scaly anteater eight species protected international law trade growing</td>\n",
       "      <td>science</td>\n",
       "    </tr>\n",
       "  </tbody>\n",
       "</table>\n",
       "</div>"
      ],
      "text/plain": [
       "                                                                                                                                                                                                                                                                                                                                                                                                                                                                                                                                                                                                                                                                                                                                                                                                                                                                                                                                                                                                                                                                                                                                                                                                                                                                                                                                                                                                                                                                                                                                                                                                                                                                                                                                                                                                                                                                                                                                                                                                                                                                                                                                                                                                                                                                                                                                                                                                                                                                                                                                                                                                                                                                                                                                                                                                                                                                                                                                                                                                                                                                                                            isi kategori\n",
       "493                                                                                                                                                                                                                                                                                                                                                                                                                                                                                                                                                                                                                                                                                                                                         scientists want people send wildlife experiences ronavirus lockdown keen hear recordings dawn choruses animals unusual places views night sky without pollution earth project global citizen science ordinated scientists across uk universities hopes showcase nature capitalised reduced human activity pandemic researchers want public help capture global representation experienced ground lockdown hoping create useful shared library baseline experiences public reminding us future life relationship uld global public mobility many pollution generating activities reduced explained phil manning university manchester team acknowledges significant sacrifices made everyone order reduce impact planet climate system move towards sustainable use earth natural resources hoped positive experiences many people nature lockdown recollection experiences help build case behaviour changes help shift us towards sustainability lockdown wildlife reclaiming streets towns cities lockdown made headlines around world example goats normally keep hills surrounding llandudno wales ventured town deserted streets people also reported able hear birdsong clearly without nstant hum traffic submissions llated earth project team nsists ncerned citizens alongside scientists multiple uk universities including bangor belfast durham manchester plymouth prof manning told bbc news recordings birdsong night skies nature calls made available online everyone enjoy relive better moments life lockdown survey results help provide overview people observations thoughts environment lockdown observed responses analysed summarised made available along database website late summer autumn said hoped findings uld encourage behaviour change help shape policies strategies uld deliver greener sustainable lifestyles earth project potential provide snapshot happened environment wildlife human activity drastically reduced simply managed sustainable way prof manning said part project survey ask people whether willing make changes behaviour help improve world around prof manning added information evaluated inclusive earth project think tank hopefully uld impact future behaviour guide make policy decisions earth project potential help catalyse humankind sustainable future access earth project live website  science\n",
       "291  clear picture emerging asteroid struck earth million years ago catastrophic space object wiped species including dinosaurs hit worst possible place planet according new research lethal angle investigations crater site together mputer simulations suggest impactor dug crust inclination degrees exacerbated climatic fallout know target rocks gulf mexico contained huge volumes sulphur mineral gypsum material thrown high atmosphere mixed water vapour produced global winter angle attack ensured environmental crisis intense prolonged degrees impact efficient vaporising ejecting debris high altitude impact happens shallower much steeper angles amount material put atmosphere climate changing effects significantly less explained prof gareth collins imperial college london evident nature location event happened together impact angle made perfect storm told bbc news majority plant animal life earth succumbed nditions prof collins lleagues work published journal nature communications prof collins part international team studying anatomy crater associated calamitous asteroid strike today km wide structure positioned mexico yucatan peninsula best preserved central portions sitting offshore port chicxulub hard grasp scale forces produced impactor thought km diameter punched instantaneous hole crust probably km deep fluidised rocks base bowl rebounded created minutes mountain higher everest last however fell back leave prominent inner ring hills peaks interesting prof collins perspective asymmetry frozen chicxulub structure example look centres crater peak ring uplifted rock underlies crust earth mantle points map directly top actually aligned northeast southwest direction crater centre centres mantle uplift peak ring formation vital clue determining direction asteroid arrived angle hit planet imperial researcher ran number simulations uk science technology facilities council stfc dirac high performance computing facility way reproduce geometry northeast strike earth angle roughly degrees prof collins said run model different impact angles degrees degrees say match observations get centres mantle uplift peak ring downrange side crater centre straight overhead impact degrees centres top match observations either lleague author prof joanna morgan added knowing direction impact means know part target site subjected greatest shock pressures sulphur bearing carbon bearing sedimentary rocks actually thicken go east west south result means degassing sediments would took average value thickness prof sean gulick university texas austin us told bbc news new modelling provides clear answer angle impact direction impact largely settles long standing debate downrange impact also critical degree angle range worst options injecting large volumes vaporised ejected sulphur rich rocks atmosphere thus results critical understanding potential kill mechanisms author explained gulick morgan led expedition drilled chicxulub crater recover rocks analysis impact changed life  science\n",
       "556                                                                                                                                                 global sport faces major disruption climate change ming decades according new analysis estimated almost one four english football league grounds expect flooding every year tennis rugby athletics winter sports also face serious challenges impacts rising temperatures author says study finds sports leaders main failing address issue seriously covid pandemic disrupted sports much aspect social life many experts believe dress rehearsal long term impacts sport world way hot extreme weather events related rising temperatures already disrupted world high profile sports recent years typhoon wreaked havoc japan last year also affected fixtures rugby union world held smoke bush fires stopped play australian tennis open start year many instances foretaste future according new mpiled academic author david goldblatt football slowly recovers ronavirus crisis analysis shows english football league clubs face partial total annual flooding stadiums current premier league home grounds southampton norwich chelsea west ham face similar threat cricket faces huge challenges globally temperatures rise places like india australia west indies venues adelaide perth see increase days temperatures c next decade golf one three british urses damaged rising sea levels report says winter sports also face uncertain future researchers say venues already hosted winter olympics able hold well showing likely impacts climate change sports new study also looks ntribution sporting industry makes carbon emissions author says scale co equivalent untry like bolivia low end large untry like spain high end estimations likely underestimate exclude global sportswear sports broadcasting industries impacts carbon difficult calculate whatever size carbon footprint cultural significance sport gives tremendous platform effect change says author sport may big enough register terms carbon emissions small nation state single megacity efforts fraction percentage point world total said david goldblatt making carbon zero world mmon sense priority sports world would make ntribution making mmon sense priority politics said organisations including international olympic committee fifa signed un action plan make sport carbon neutral majority sports authorities international cricket council one signed among winter sports ice hockey skiing federations joined makes one wonder people charge luge bobsleigh think going sliding future report waspishly notes report mmissioned rapid transition alliance international group academics campaigners argue faster response climate change first step would bring end sponsorship fossil mpanies products promoting fossil fuel intensive lifestyles said andrew simms group players also speak say believe clean air stable climate matter millions see possibilities change send message hope wider world help guarantee planet safe sport  science\n",
       "458                                                                                                                                                                                                                                                                                                                                                                                                                                                                                                                                                                                                                                                                                                                                                                                                                                                                                                                                      human impacts places earth richness life brought hundreds wild animals brink extinction study shows likes logging poaching pushed mammals birds reptiles amphibians point hanging thread research found yet evidence world undergoing sixth mass extinction scientists argue species disappearing times natural rate say unlike mass extinctions caused volcano eruptions llisions blame prof gerardo ceballos national university mexico mexico city said regional ecosystems llapse entered sixth mass extinction told bbc news based research seeing extinction crisis bad whatever next years define future humanity prof ceballos worked study two well nservation scientists stanford university prof paul erhlich dr peter raven missouri botanical garden st louis us using data international union conservation nature iucn red list threatened species birdlife bird authority iucn identified least species brink extinction fewer thousand individuals left animals found ntinent save antarctica places highly impacted humans primarily tropics subtropics include golden lion tamarin ethiopian wolf javan rhinoceros spanish imperial eagle yellow eared parrot gharial green poison frog scientists describe extinction crisis existential threat civilisation along climate change pollution tied say moral imperative draw attention loss biodiversity say still rather ignored people research published journal proceedings national academy sciences pnas commenting prof diana fisher university queensland australia said study deserved attention many people realise much world wildlife faces impending extinction agree authors extinction crisis needs elevated emergency equal climate change said prof chris johnson university tasmania said current rate extinction species higher time since million years ago llision space rock earth killed dinosaurs many species threats species today world things like habitat destruction climate change growing rapidly said adding species fewer individuals likely gone soon prof euan ritchie deakin university australia said study yet nfirmation destroying life horrific pace scale  science\n",
       "514                                                                                                                                                                                                                                                                                                                                                                                                                                                                                                                                                                                                                                                                                                                                                                                                                                                                                                                                                                                                                                                                                                                                                                                                                                                                                                                                                                                                                                                                                                       conservation groups welcomed china move remove pangolins official list traditional chinese medicine treatments saying uld game changer news reported china health times newspaper comes china raised animal protected status highest level last week pangolins pushed brink illegal hunting scales meat implicated ronavirus evidence unclear conservation charities welcomed move remove official list traditional chinese medicines paul thomson save pangolins said breakthrough moment china move phase pangolin scales traditional uld game changer waiting said hope china next move enforce regulations work nsumer behaviour katheryn wise animal welfare campaign group world animal protection said great news china upgraded pangolins highest level protection removed chinese pharmacopoeia called extended wild animals like pangolins poached wild often placed squalid cramped cages creating lethal hotbed disease pangolins vered layer scales designed protect predators scales veted traditional chinese medicine practitioners pangolin meat seen delicacy china banned nsumption live wild animals food wake outbreak certain exemptions medicine fur pangolins spotlight possible animal host ronavirus direct link shown nicole benjamin fink conservation beyond borders said whether pangolins served nduit ronavirus time halt demand trafficked mammals worldwide let hope ban first series ultimately ban wildlife usage traditional chinese medicine said pangolins eat ants insects often known scaly anteater eight species protected international law trade growing  science"
      ]
     },
     "execution_count": 24,
     "metadata": {
      "tags": []
     },
     "output_type": "execute_result"
    }
   ],
   "source": [
    "sw = stopwords.words('english')\n",
    "# sw.append('coronavirus')\n",
    "def stop_word(sentence):\n",
    "  new_sentence = []\n",
    "  for word in sentence.split():\n",
    "    if word not in sw:\n",
    "      new_sentence.append(word)  \n",
    "  return(' '.join(new_sentence))\n",
    "\n",
    "raw_news['isi'] = raw_news['isi'].apply(stop_word)\n",
    "raw_news.head(5)"
   ]
  },
  {
   "cell_type": "markdown",
   "metadata": {
    "colab_type": "text",
    "id": "hXz1avn0UGBz"
   },
   "source": [
    "# lemmatization"
   ]
  },
  {
   "cell_type": "code",
   "execution_count": null,
   "metadata": {
    "colab": {
     "base_uri": "https://localhost:8080/",
     "height": 982
    },
    "colab_type": "code",
    "executionInfo": {
     "elapsed": 11933,
     "status": "ok",
     "timestamp": 1594442028258,
     "user": {
      "displayName": "ARIEF AKBAR HIDAYAT MHS 2017",
      "photoUrl": "https://lh3.googleusercontent.com/a-/AOh14GgpxjnV7zTpLouYOAYyyr7JileDmvj56ntyPr5Y=s64",
      "userId": "11849805901853145430"
     },
     "user_tz": -420
    },
    "id": "OE9dXXLxRrzn",
    "outputId": "27c15f27-5f92-4308-8f6a-9f2939de709d"
   },
   "outputs": [
    {
     "data": {
      "text/html": [
       "<div>\n",
       "<style scoped>\n",
       "    .dataframe tbody tr th:only-of-type {\n",
       "        vertical-align: middle;\n",
       "    }\n",
       "\n",
       "    .dataframe tbody tr th {\n",
       "        vertical-align: top;\n",
       "    }\n",
       "\n",
       "    .dataframe thead th {\n",
       "        text-align: right;\n",
       "    }\n",
       "</style>\n",
       "<table border=\"1\" class=\"dataframe\">\n",
       "  <thead>\n",
       "    <tr style=\"text-align: right;\">\n",
       "      <th></th>\n",
       "      <th>isi</th>\n",
       "      <th>kategori</th>\n",
       "    </tr>\n",
       "  </thead>\n",
       "  <tbody>\n",
       "    <tr>\n",
       "      <th>493</th>\n",
       "      <td>scientist want people send wildlife experience ronavirus lockdown keen hear recording dawn chorus animal unusual place view night sky without pollution earth project global citizen science ordinated scientist across uk university hope showcase nature capitalised reduced human activity pandemic researcher want public help capture global representation experienced ground lockdown hoping create useful shared library baseline experience public reminding u future life relationship uld global public mobility many pollution generating activity reduced explained phil manning university manchester team acknowledges significant sacrifice made everyone order reduce impact planet climate system move towards sustainable use earth natural resource hoped positive experience many people nature lockdown recollection experience help build case behaviour change help shift u towards sustainability lockdown wildlife reclaiming street town city lockdown made headline around world example goat normally keep hill surrounding llandudno wale ventured town deserted street people also reported able hear birdsong clearly without nstant hum traffic submission llated earth project team nsists ncerned citizen alongside scientist multiple uk university including bangor belfast durham manchester plymouth prof manning told bbc news recording birdsong night sky nature call made available online everyone enjoy relive better moment life lockdown survey result help provide overview people observation thought environment lockdown observed response analysed summarised made available along database website late summer autumn said hoped finding uld encourage behaviour change help shape policy strategy uld deliver greener sustainable lifestyle earth project potential provide snapshot happened environment wildlife human activity drastically reduced simply managed sustainable way prof manning said part project survey ask people whether willing make change behaviour help improve world around prof manning added information evaluated inclusive earth project think tank hopefully uld impact future behaviour guide make policy decision earth project potential help catalyse humankind sustainable future access earth project live website</td>\n",
       "      <td>science</td>\n",
       "    </tr>\n",
       "    <tr>\n",
       "      <th>291</th>\n",
       "      <td>clear picture emerging asteroid struck earth million year ago catastrophic space object wiped specie including dinosaur hit worst possible place planet according new research lethal angle investigation crater site together mputer simulation suggest impactor dug crust inclination degree exacerbated climatic fallout know target rock gulf mexico contained huge volume sulphur mineral gypsum material thrown high atmosphere mixed water vapour produced global winter angle attack ensured environmental crisis intense prolonged degree impact efficient vaporising ejecting debris high altitude impact happens shallower much steeper angle amount material put atmosphere climate changing effect significantly le explained prof gareth collins imperial college london evident nature location event happened together impact angle made perfect storm told bbc news majority plant animal life earth succumbed nditions prof collins lleagues work published journal nature communication prof collins part international team studying anatomy crater associated calamitous asteroid strike today km wide structure positioned mexico yucatan peninsula best preserved central portion sitting offshore port chicxulub hard grasp scale force produced impactor thought km diameter punched instantaneous hole crust probably km deep fluidised rock base bowl rebounded created minute mountain higher everest last however fell back leave prominent inner ring hill peak interesting prof collins perspective asymmetry frozen chicxulub structure example look centre crater peak ring uplifted rock underlies crust earth mantle point map directly top actually aligned northeast southwest direction crater centre centre mantle uplift peak ring formation vital clue determining direction asteroid arrived angle hit planet imperial researcher ran number simulation uk science technology facility council stfc dirac high performance computing facility way reproduce geometry northeast strike earth angle roughly degree prof collins said run model different impact angle degree degree say match observation get centre mantle uplift peak ring downrange side crater centre straight overhead impact degree centre top match observation either lleague author prof joanna morgan added knowing direction impact mean know part target site subjected greatest shock pressure sulphur bearing carbon bearing sedimentary rock actually thicken go east west south result mean degassing sediment would took average value thickness prof sean gulick university texas austin u told bbc news new modelling provides clear answer angle impact direction impact largely settle long standing debate downrange impact also critical degree angle range worst option injecting large volume vaporised ejected sulphur rich rock atmosphere thus result critical understanding potential kill mechanism author explained gulick morgan led expedition drilled chicxulub crater recover rock analysis impact changed life</td>\n",
       "      <td>science</td>\n",
       "    </tr>\n",
       "    <tr>\n",
       "      <th>556</th>\n",
       "      <td>global sport face major disruption climate change ming decade according new analysis estimated almost one four english football league ground expect flooding every year tennis rugby athletics winter sport also face serious challenge impact rising temperature author say study find sport leader main failing address issue seriously covid pandemic disrupted sport much aspect social life many expert believe dress rehearsal long term impact sport world way hot extreme weather event related rising temperature already disrupted world high profile sport recent year typhoon wreaked havoc japan last year also affected fixture rugby union world held smoke bush fire stopped play australian tennis open start year many instance foretaste future according new mpiled academic author david goldblatt football slowly recovers ronavirus crisis analysis show english football league club face partial total annual flooding stadium current premier league home ground southampton norwich chelsea west ham face similar threat cricket face huge challenge globally temperature rise place like india australia west indie venue adelaide perth see increase day temperature c next decade golf one three british ur damaged rising sea level report say winter sport also face uncertain future researcher say venue already hosted winter olympics able hold well showing likely impact climate change sport new study also look ntribution sporting industry make carbon emission author say scale co equivalent untry like bolivia low end large untry like spain high end estimation likely underestimate exclude global sportswear sport broadcasting industry impact carbon difficult calculate whatever size carbon footprint cultural significance sport give tremendous platform effect change say author sport may big enough register term carbon emission small nation state single megacity effort fraction percentage point world total said david goldblatt making carbon zero world mmon sense priority sport world would make ntribution making mmon sense priority politics said organisation including international olympic committee fifa signed un action plan make sport carbon neutral majority sport authority international cricket council one signed among winter sport ice hockey skiing federation joined make one wonder people charge luge bobsleigh think going sliding future report waspishly note report mmissioned rapid transition alliance international group academic campaigner argue faster response climate change first step would bring end sponsorship fossil mpanies product promoting fossil fuel intensive lifestyle said andrew simms group player also speak say believe clean air stable climate matter million see possibility change send message hope wider world help guarantee planet safe sport</td>\n",
       "      <td>science</td>\n",
       "    </tr>\n",
       "    <tr>\n",
       "      <th>458</th>\n",
       "      <td>human impact place earth richness life brought hundred wild animal brink extinction study show like logging poaching pushed mammal bird reptile amphibian point hanging thread research found yet evidence world undergoing sixth mass extinction scientist argue specie disappearing time natural rate say unlike mass extinction caused volcano eruption llisions blame prof gerardo ceballos national university mexico mexico city said regional ecosystem llapse entered sixth mass extinction told bbc news based research seeing extinction crisis bad whatever next year define future humanity prof ceballos worked study two well nservation scientist stanford university prof paul erhlich dr peter raven missouri botanical garden st louis u using data international union conservation nature iucn red list threatened specie birdlife bird authority iucn identified least specie brink extinction fewer thousand individual left animal found ntinent save antarctica place highly impacted human primarily tropic subtropics include golden lion tamarin ethiopian wolf javan rhinoceros spanish imperial eagle yellow eared parrot gharial green poison frog scientist describe extinction crisis existential threat civilisation along climate change pollution tied say moral imperative draw attention loss biodiversity say still rather ignored people research published journal proceeding national academy science pnas commenting prof diana fisher university queensland australia said study deserved attention many people realise much world wildlife face impending extinction agree author extinction crisis need elevated emergency equal climate change said prof chris johnson university tasmania said current rate extinction specie higher time since million year ago llision space rock earth killed dinosaur many specie threat specie today world thing like habitat destruction climate change growing rapidly said adding specie fewer individual likely gone soon prof euan ritchie deakin university australia said study yet nfirmation destroying life horrific pace scale</td>\n",
       "      <td>science</td>\n",
       "    </tr>\n",
       "    <tr>\n",
       "      <th>514</th>\n",
       "      <td>conservation group welcomed china move remove pangolin official list traditional chinese medicine treatment saying uld game changer news reported china health time newspaper come china raised animal protected status highest level last week pangolin pushed brink illegal hunting scale meat implicated ronavirus evidence unclear conservation charity welcomed move remove official list traditional chinese medicine paul thomson save pangolin said breakthrough moment china move phase pangolin scale traditional uld game changer waiting said hope china next move enforce regulation work nsumer behaviour katheryn wise animal welfare campaign group world animal protection said great news china upgraded pangolin highest level protection removed chinese pharmacopoeia called extended wild animal like pangolin poached wild often placed squalid cramped cage creating lethal hotbed disease pangolin vered layer scale designed protect predator scale veted traditional chinese medicine practitioner pangolin meat seen delicacy china banned nsumption live wild animal food wake outbreak certain exemption medicine fur pangolin spotlight possible animal host ronavirus direct link shown nicole benjamin fink conservation beyond border said whether pangolin served nduit ronavirus time halt demand trafficked mammal worldwide let hope ban first series ultimately ban wildlife usage traditional chinese medicine said pangolin eat ant insect often known scaly anteater eight specie protected international law trade growing</td>\n",
       "      <td>science</td>\n",
       "    </tr>\n",
       "  </tbody>\n",
       "</table>\n",
       "</div>"
      ],
      "text/plain": [
       "                                                                                                                                                                                                                                                                                                                                                                                                                                                                                                                                                                                                                                                                                                                                                                                                                                                                                                                                                                                                                                                                                                                                                                                                                                                                                                                                                                                                                                                                                                                                                                                                                                                                                                                                                                                                                                                                                                                                                                                                                                                                                                                                                                                                                                                                                                                                                                                                                                                                                                                                                                                                                                                                                                                                                                                                                                                                                                                                                                                                                                                            isi kategori\n",
       "493                                                                                                                                                                                                                                                                                                                                                                                                                                                                                                                                                                                                                                                                                                                                               scientist want people send wildlife experience ronavirus lockdown keen hear recording dawn chorus animal unusual place view night sky without pollution earth project global citizen science ordinated scientist across uk university hope showcase nature capitalised reduced human activity pandemic researcher want public help capture global representation experienced ground lockdown hoping create useful shared library baseline experience public reminding u future life relationship uld global public mobility many pollution generating activity reduced explained phil manning university manchester team acknowledges significant sacrifice made everyone order reduce impact planet climate system move towards sustainable use earth natural resource hoped positive experience many people nature lockdown recollection experience help build case behaviour change help shift u towards sustainability lockdown wildlife reclaiming street town city lockdown made headline around world example goat normally keep hill surrounding llandudno wale ventured town deserted street people also reported able hear birdsong clearly without nstant hum traffic submission llated earth project team nsists ncerned citizen alongside scientist multiple uk university including bangor belfast durham manchester plymouth prof manning told bbc news recording birdsong night sky nature call made available online everyone enjoy relive better moment life lockdown survey result help provide overview people observation thought environment lockdown observed response analysed summarised made available along database website late summer autumn said hoped finding uld encourage behaviour change help shape policy strategy uld deliver greener sustainable lifestyle earth project potential provide snapshot happened environment wildlife human activity drastically reduced simply managed sustainable way prof manning said part project survey ask people whether willing make change behaviour help improve world around prof manning added information evaluated inclusive earth project think tank hopefully uld impact future behaviour guide make policy decision earth project potential help catalyse humankind sustainable future access earth project live website  science\n",
       "291  clear picture emerging asteroid struck earth million year ago catastrophic space object wiped specie including dinosaur hit worst possible place planet according new research lethal angle investigation crater site together mputer simulation suggest impactor dug crust inclination degree exacerbated climatic fallout know target rock gulf mexico contained huge volume sulphur mineral gypsum material thrown high atmosphere mixed water vapour produced global winter angle attack ensured environmental crisis intense prolonged degree impact efficient vaporising ejecting debris high altitude impact happens shallower much steeper angle amount material put atmosphere climate changing effect significantly le explained prof gareth collins imperial college london evident nature location event happened together impact angle made perfect storm told bbc news majority plant animal life earth succumbed nditions prof collins lleagues work published journal nature communication prof collins part international team studying anatomy crater associated calamitous asteroid strike today km wide structure positioned mexico yucatan peninsula best preserved central portion sitting offshore port chicxulub hard grasp scale force produced impactor thought km diameter punched instantaneous hole crust probably km deep fluidised rock base bowl rebounded created minute mountain higher everest last however fell back leave prominent inner ring hill peak interesting prof collins perspective asymmetry frozen chicxulub structure example look centre crater peak ring uplifted rock underlies crust earth mantle point map directly top actually aligned northeast southwest direction crater centre centre mantle uplift peak ring formation vital clue determining direction asteroid arrived angle hit planet imperial researcher ran number simulation uk science technology facility council stfc dirac high performance computing facility way reproduce geometry northeast strike earth angle roughly degree prof collins said run model different impact angle degree degree say match observation get centre mantle uplift peak ring downrange side crater centre straight overhead impact degree centre top match observation either lleague author prof joanna morgan added knowing direction impact mean know part target site subjected greatest shock pressure sulphur bearing carbon bearing sedimentary rock actually thicken go east west south result mean degassing sediment would took average value thickness prof sean gulick university texas austin u told bbc news new modelling provides clear answer angle impact direction impact largely settle long standing debate downrange impact also critical degree angle range worst option injecting large volume vaporised ejected sulphur rich rock atmosphere thus result critical understanding potential kill mechanism author explained gulick morgan led expedition drilled chicxulub crater recover rock analysis impact changed life  science\n",
       "556                                                                                                                                                                           global sport face major disruption climate change ming decade according new analysis estimated almost one four english football league ground expect flooding every year tennis rugby athletics winter sport also face serious challenge impact rising temperature author say study find sport leader main failing address issue seriously covid pandemic disrupted sport much aspect social life many expert believe dress rehearsal long term impact sport world way hot extreme weather event related rising temperature already disrupted world high profile sport recent year typhoon wreaked havoc japan last year also affected fixture rugby union world held smoke bush fire stopped play australian tennis open start year many instance foretaste future according new mpiled academic author david goldblatt football slowly recovers ronavirus crisis analysis show english football league club face partial total annual flooding stadium current premier league home ground southampton norwich chelsea west ham face similar threat cricket face huge challenge globally temperature rise place like india australia west indie venue adelaide perth see increase day temperature c next decade golf one three british ur damaged rising sea level report say winter sport also face uncertain future researcher say venue already hosted winter olympics able hold well showing likely impact climate change sport new study also look ntribution sporting industry make carbon emission author say scale co equivalent untry like bolivia low end large untry like spain high end estimation likely underestimate exclude global sportswear sport broadcasting industry impact carbon difficult calculate whatever size carbon footprint cultural significance sport give tremendous platform effect change say author sport may big enough register term carbon emission small nation state single megacity effort fraction percentage point world total said david goldblatt making carbon zero world mmon sense priority sport world would make ntribution making mmon sense priority politics said organisation including international olympic committee fifa signed un action plan make sport carbon neutral majority sport authority international cricket council one signed among winter sport ice hockey skiing federation joined make one wonder people charge luge bobsleigh think going sliding future report waspishly note report mmissioned rapid transition alliance international group academic campaigner argue faster response climate change first step would bring end sponsorship fossil mpanies product promoting fossil fuel intensive lifestyle said andrew simms group player also speak say believe clean air stable climate matter million see possibility change send message hope wider world help guarantee planet safe sport  science\n",
       "458                                                                                                                                                                                                                                                                                                                                                                                                                                                                                                                                                                                                                                                                                                                                                                                                                                                                                                                               human impact place earth richness life brought hundred wild animal brink extinction study show like logging poaching pushed mammal bird reptile amphibian point hanging thread research found yet evidence world undergoing sixth mass extinction scientist argue specie disappearing time natural rate say unlike mass extinction caused volcano eruption llisions blame prof gerardo ceballos national university mexico mexico city said regional ecosystem llapse entered sixth mass extinction told bbc news based research seeing extinction crisis bad whatever next year define future humanity prof ceballos worked study two well nservation scientist stanford university prof paul erhlich dr peter raven missouri botanical garden st louis u using data international union conservation nature iucn red list threatened specie birdlife bird authority iucn identified least specie brink extinction fewer thousand individual left animal found ntinent save antarctica place highly impacted human primarily tropic subtropics include golden lion tamarin ethiopian wolf javan rhinoceros spanish imperial eagle yellow eared parrot gharial green poison frog scientist describe extinction crisis existential threat civilisation along climate change pollution tied say moral imperative draw attention loss biodiversity say still rather ignored people research published journal proceeding national academy science pnas commenting prof diana fisher university queensland australia said study deserved attention many people realise much world wildlife face impending extinction agree author extinction crisis need elevated emergency equal climate change said prof chris johnson university tasmania said current rate extinction specie higher time since million year ago llision space rock earth killed dinosaur many specie threat specie today world thing like habitat destruction climate change growing rapidly said adding specie fewer individual likely gone soon prof euan ritchie deakin university australia said study yet nfirmation destroying life horrific pace scale  science\n",
       "514                                                                                                                                                                                                                                                                                                                                                                                                                                                                                                                                                                                                                                                                                                                                                                                                                                                                                                                                                                                                                                                                                                                                                                                                                                                                                                                                                                                                                                                                                       conservation group welcomed china move remove pangolin official list traditional chinese medicine treatment saying uld game changer news reported china health time newspaper come china raised animal protected status highest level last week pangolin pushed brink illegal hunting scale meat implicated ronavirus evidence unclear conservation charity welcomed move remove official list traditional chinese medicine paul thomson save pangolin said breakthrough moment china move phase pangolin scale traditional uld game changer waiting said hope china next move enforce regulation work nsumer behaviour katheryn wise animal welfare campaign group world animal protection said great news china upgraded pangolin highest level protection removed chinese pharmacopoeia called extended wild animal like pangolin poached wild often placed squalid cramped cage creating lethal hotbed disease pangolin vered layer scale designed protect predator scale veted traditional chinese medicine practitioner pangolin meat seen delicacy china banned nsumption live wild animal food wake outbreak certain exemption medicine fur pangolin spotlight possible animal host ronavirus direct link shown nicole benjamin fink conservation beyond border said whether pangolin served nduit ronavirus time halt demand trafficked mammal worldwide let hope ban first series ultimately ban wildlife usage traditional chinese medicine said pangolin eat ant insect often known scaly anteater eight specie protected international law trade growing  science"
      ]
     },
     "execution_count": 25,
     "metadata": {
      "tags": []
     },
     "output_type": "execute_result"
    }
   ],
   "source": [
    "#lemmatization\n",
    "lemmatizer = WordNetLemmatizer()\n",
    "def lemmatize(sentence):\n",
    "  new_sentence = []\n",
    "  for word in sentence.split():\n",
    "    word = lemmatizer.lemmatize(word)\n",
    "    new_sentence.append(word)\n",
    "  return(' '.join(new_sentence))\n",
    "\n",
    "raw_news['isi'] = raw_news['isi'].apply(lemmatize)\n",
    "clean_news=raw_news\n",
    "clean_news.head(5)"
   ]
  },
  {
   "cell_type": "code",
   "execution_count": null,
   "metadata": {
    "colab": {},
    "colab_type": "code",
    "id": "qq9ZpENO5dL-"
   },
   "outputs": [],
   "source": [
    "# clean_news[clean_news['kategori']=='entertainment']"
   ]
  },
  {
   "cell_type": "markdown",
   "metadata": {
    "colab_type": "text",
    "id": "Th-fvx7vVs2-"
   },
   "source": [
    "# Feature Extraction"
   ]
  },
  {
   "cell_type": "code",
   "execution_count": null,
   "metadata": {
    "colab": {},
    "colab_type": "code",
    "id": "p0E42mkKURmh"
   },
   "outputs": [],
   "source": [
    "# Feature Extraction\n",
    "from sklearn.feature_extraction.text import TfidfVectorizer\n",
    "# Tfidf = TfidfVectorizer(ngram_range=(1, 2),max_df=0.5, min_df=0)\n",
    "# Tfidf = TfidfVectorizer(ngram_range=(1, 2),max_df=0.30000000000000004, min_df=0)\n",
    "Tfidf = TfidfVectorizer(ngram_range=(1, 2),max_df=0.4, min_df=0)\n",
    "\n",
    "features = Tfidf.fit_transform(clean_news.isi).toarray() "
   ]
  },
  {
   "cell_type": "code",
   "execution_count": null,
   "metadata": {
    "colab": {
     "base_uri": "https://localhost:8080/",
     "height": 1000
    },
    "colab_type": "code",
    "executionInfo": {
     "elapsed": 13544,
     "status": "ok",
     "timestamp": 1594442033571,
     "user": {
      "displayName": "ARIEF AKBAR HIDAYAT MHS 2017",
      "photoUrl": "https://lh3.googleusercontent.com/a-/AOh14GgpxjnV7zTpLouYOAYyyr7JileDmvj56ntyPr5Y=s64",
      "userId": "11849805901853145430"
     },
     "user_tz": -420
    },
    "id": "s9ohQ9h-Vu1S",
    "outputId": "03e6741c-5d41-48ad-c573-fc4cfad71168"
   },
   "outputs": [
    {
     "name": "stdout",
     "output_type": "stream",
     "text": [
      "1. science :\n",
      "\t# Unigrams :\n",
      "\t. hurley\n",
      "\t. spacex\n",
      "\t. astronaut\n",
      "\t. nasa\n",
      "\t. space\n",
      "\t# Bigrams :\n",
      "\t. climate change\n",
      "\t. space shuttle\n",
      "\t. crew dragon\n",
      "\t. hurley behnken\n",
      "\t. space station\n",
      "2. technology :\n",
      "\t# Unigrams :\n",
      "\t. apps\n",
      "\t. facebook\n",
      "\t. game\n",
      "\t. app\n",
      "\t. apple\n",
      "\t# Bigrams :\n",
      "\t. app store\n",
      "\t. human right\n",
      "\t. death penalty\n",
      "\t. club penguin\n",
      "\t. apple google\n",
      "3. health :\n",
      "\t# Unigrams :\n",
      "\t. vaccine\n",
      "\t. symptom\n",
      "\t. drug\n",
      "\t. trial\n",
      "\t. patient\n",
      "\t# Bigrams :\n",
      "\t. world health\n",
      "\t. immune system\n",
      "\t. clinical trial\n",
      "\t. covid patient\n",
      "\t. second wave\n",
      "4. entertainment :\n",
      "\t# Unigrams :\n",
      "\t. art\n",
      "\t. theatre\n",
      "\t. music\n",
      "\t. rogan\n",
      "\t. song\n",
      "\t# Bigrams :\n",
      "\t. bbc three\n",
      "\t. night watch\n",
      "\t. joe rogan\n",
      "\t. end youtube\n",
      "\t. youtube post\n",
      "5. business :\n",
      "\t# Unigrams :\n",
      "\t. trade\n",
      "\t. scheme\n",
      "\t. business\n",
      "\t. economy\n",
      "\t. airline\n",
      "\t# Bigrams :\n",
      "\t. royal mail\n",
      "\t. rare earth\n",
      "\t. furlough scheme\n",
      "\t. hong kong\n",
      "\t. self employed\n"
     ]
    }
   ],
   "source": [
    "from sklearn.feature_selection import chi2\n",
    "import numpy as np\n",
    "N = 5\n",
    "Number = 1\n",
    "for category in clean_news['kategori'].unique():\n",
    "  features_chi2 = chi2(features, clean_news['kategori'] == category)\n",
    "  indices = np.argsort(features_chi2[0])\n",
    "  feature_names = np.array(Tfidf.get_feature_names())[indices]\n",
    "  unigrams = [x for x in feature_names if len(x.split(' ')) == 1]\n",
    "  bigrams = [x for x in feature_names if len(x.split(' ')) == 2]\n",
    "  print('{}. {} :'.format(Number,category))\n",
    "  print('\\t# Unigrams :\\n\\t. {}'.format('\\n\\t. '.join(unigrams[-N:])))\n",
    "  print('\\t# Bigrams :\\n\\t. {}'.format('\\n\\t. '.join(bigrams[-N:])))\n",
    "  Number += 1"
   ]
  },
  {
   "cell_type": "markdown",
   "metadata": {
    "colab_type": "text",
    "id": "NLQTVYFq6f0m"
   },
   "source": [
    "# Modeling"
   ]
  },
  {
   "cell_type": "code",
   "execution_count": null,
   "metadata": {
    "colab": {},
    "colab_type": "code",
    "id": "NzR693uoW7Zi"
   },
   "outputs": [],
   "source": [
    "from sklearn.neighbors import KNeighborsClassifier\n",
    "from sklearn.model_selection import train_test_split\n",
    "from sklearn.metrics import accuracy_score\n",
    "from sklearn.metrics import classification_report\n",
    "X_train, X_test, y_train, y_test = train_test_split(clean_news['isi'], clean_news['kategori'])\n",
    "#model=KNeighborsClassifier()\n",
    "#dataset lengkap\n",
    "# model=KNeighborsClassifier(algorithm='auto', leaf_size=30,\n",
    "#                                       metric='euclidean', metric_params=None,\n",
    "#                                       n_jobs=None, n_neighbors=29, p=2,\n",
    "#                                       weights='distance')\n",
    "\n",
    "#100 sample\n",
    "model=KNeighborsClassifier(algorithm='auto', leaf_size=30,\n",
    "                                      metric='euclidean', metric_params=None,\n",
    "                                      n_jobs=None, n_neighbors=11, p=2,\n",
    "                                      weights='distance')\n"
   ]
  },
  {
   "cell_type": "code",
   "execution_count": null,
   "metadata": {
    "colab": {},
    "colab_type": "code",
    "id": "qlKRbqxpeGjF"
   },
   "outputs": [],
   "source": [
    "# create pipeline\n",
    "from sklearn.pipeline import Pipeline\n",
    "pipeline = Pipeline([\n",
    "                     ('vect',Tfidf),\n",
    "                     ('clf',model)\n",
    "])"
   ]
  },
  {
   "cell_type": "code",
   "execution_count": null,
   "metadata": {
    "colab": {
     "base_uri": "https://localhost:8080/",
     "height": 364
    },
    "colab_type": "code",
    "executionInfo": {
     "elapsed": 1575,
     "status": "ok",
     "timestamp": 1594442981207,
     "user": {
      "displayName": "ARIEF AKBAR HIDAYAT MHS 2017",
      "photoUrl": "https://lh3.googleusercontent.com/a-/AOh14GgpxjnV7zTpLouYOAYyyr7JileDmvj56ntyPr5Y=s64",
      "userId": "11849805901853145430"
     },
     "user_tz": -420
    },
    "id": "5pmadfL3XQ57",
    "outputId": "7f88d1f7-ac4e-4131-d3f8-09705ecb18b3"
   },
   "outputs": [
    {
     "data": {
      "text/plain": [
       "Pipeline(memory=None,\n",
       "         steps=[('vect',\n",
       "                 TfidfVectorizer(analyzer='word', binary=False,\n",
       "                                 decode_error='strict',\n",
       "                                 dtype=<class 'numpy.float64'>,\n",
       "                                 encoding='utf-8', input='content',\n",
       "                                 lowercase=True, max_df=0.4, max_features=None,\n",
       "                                 min_df=0, ngram_range=(1, 2), norm='l2',\n",
       "                                 preprocessor=None, smooth_idf=True,\n",
       "                                 stop_words=None, strip_accents=None,\n",
       "                                 sublinear_tf=False,\n",
       "                                 token_pattern='(?u)\\\\b\\\\w\\\\w+\\\\b',\n",
       "                                 tokenizer=None, use_idf=True,\n",
       "                                 vocabulary=None)),\n",
       "                ('clf',\n",
       "                 KNeighborsClassifier(algorithm='auto', leaf_size=30,\n",
       "                                      metric='euclidean', metric_params=None,\n",
       "                                      n_jobs=None, n_neighbors=11, p=2,\n",
       "                                      weights='distance'))],\n",
       "         verbose=False)"
      ]
     },
     "execution_count": 138,
     "metadata": {
      "tags": []
     },
     "output_type": "execute_result"
    }
   ],
   "source": [
    "pipeline.fit(X_train,y_train)"
   ]
  },
  {
   "cell_type": "code",
   "execution_count": null,
   "metadata": {
    "colab": {},
    "colab_type": "code",
    "id": "Mhi75XDCdiwU"
   },
   "outputs": [],
   "source": [
    "#prediksi data test\n",
    "# lembar jawaban kita\n",
    "y_pred = pipeline.predict(X_test)"
   ]
  },
  {
   "cell_type": "markdown",
   "metadata": {
    "colab_type": "text",
    "id": "C51_b4977SZ9"
   },
   "source": [
    "# Evaluation"
   ]
  },
  {
   "cell_type": "code",
   "execution_count": null,
   "metadata": {
    "colab": {
     "base_uri": "https://localhost:8080/",
     "height": 225
    },
    "colab_type": "code",
    "executionInfo": {
     "elapsed": 1141,
     "status": "ok",
     "timestamp": 1594350906321,
     "user": {
      "displayName": "ARIEF AKBAR HIDAYAT MHS 2017",
      "photoUrl": "https://lh3.googleusercontent.com/a-/AOh14GgpxjnV7zTpLouYOAYyyr7JileDmvj56ntyPr5Y=s64",
      "userId": "11849805901853145430"
     },
     "user_tz": -420
    },
    "id": "P1_bO8g3sED3",
    "outputId": "3381b570-86da-4b16-de39-53a68ecef0df"
   },
   "outputs": [
    {
     "name": "stdout",
     "output_type": "stream",
     "text": [
      "               precision    recall  f1-score   support\n",
      "\n",
      "     business       0.83      0.89      0.86        28\n",
      "entertainment       0.90      0.82      0.86        22\n",
      "       health       0.94      0.89      0.92        19\n",
      "      science       1.00      0.88      0.94        25\n",
      "   technology       0.79      0.92      0.85        24\n",
      "\n",
      "     accuracy                           0.88       118\n",
      "    macro avg       0.89      0.88      0.88       118\n",
      " weighted avg       0.89      0.88      0.88       118\n",
      "\n"
     ]
    }
   ],
   "source": [
    "print(classification_report(y_pred,y_test)) # without hyperparameter tuning 100 sample"
   ]
  },
  {
   "cell_type": "code",
   "execution_count": null,
   "metadata": {
    "colab": {
     "base_uri": "https://localhost:8080/",
     "height": 221
    },
    "colab_type": "code",
    "executionInfo": {
     "elapsed": 901,
     "status": "ok",
     "timestamp": 1594290178086,
     "user": {
      "displayName": "ARIEF AKBAR HIDAYAT MHS 2017",
      "photoUrl": "https://lh3.googleusercontent.com/a-/AOh14GgpxjnV7zTpLouYOAYyyr7JileDmvj56ntyPr5Y=s64",
      "userId": "11849805901853145430"
     },
     "user_tz": -420
    },
    "id": "7qLDDd8NbRZT",
    "outputId": "bff44df8-b7c1-4e8a-9699-ed127b41e52b"
   },
   "outputs": [
    {
     "name": "stdout",
     "output_type": "stream",
     "text": [
      "               precision    recall  f1-score   support\n",
      "\n",
      "     business       0.92      0.86      0.89        78\n",
      "entertainment       0.91      0.89      0.90        36\n",
      "       health       0.80      0.94      0.86        17\n",
      "      science       0.97      0.92      0.95        38\n",
      "   technology       0.78      0.89      0.83        35\n",
      "\n",
      "     accuracy                           0.89       204\n",
      "    macro avg       0.88      0.90      0.89       204\n",
      " weighted avg       0.89      0.89      0.89       204\n",
      "\n"
     ]
    }
   ],
   "source": [
    "print(classification_report(y_pred,y_test)) # without hyperparameter tuning"
   ]
  },
  {
   "cell_type": "code",
   "execution_count": null,
   "metadata": {
    "colab": {
     "base_uri": "https://localhost:8080/",
     "height": 221
    },
    "colab_type": "code",
    "executionInfo": {
     "elapsed": 1935,
     "status": "ok",
     "timestamp": 1594303429873,
     "user": {
      "displayName": "ARIEF AKBAR HIDAYAT MHS 2017",
      "photoUrl": "https://lh3.googleusercontent.com/a-/AOh14GgpxjnV7zTpLouYOAYyyr7JileDmvj56ntyPr5Y=s64",
      "userId": "11849805901853145430"
     },
     "user_tz": -420
    },
    "id": "VSZVhG-v4jkf",
    "outputId": "6569978e-19a8-47ad-977a-cd545f1cec42"
   },
   "outputs": [
    {
     "name": "stdout",
     "output_type": "stream",
     "text": [
      "               precision    recall  f1-score   support\n",
      "\n",
      "     business       0.89      0.90      0.90        72\n",
      "entertainment       1.00      0.95      0.98        43\n",
      "       health       1.00      0.91      0.95        22\n",
      "      science       0.90      0.97      0.93        29\n",
      "   technology       0.87      0.89      0.88        38\n",
      "\n",
      "     accuracy                           0.92       204\n",
      "    macro avg       0.93      0.93      0.93       204\n",
      " weighted avg       0.92      0.92      0.92       204\n",
      "\n"
     ]
    }
   ],
   "source": [
    "print(classification_report(y_pred,y_test)) #with hyperparameter tuning"
   ]
  },
  {
   "cell_type": "code",
   "execution_count": null,
   "metadata": {
    "colab": {
     "base_uri": "https://localhost:8080/",
     "height": 225
    },
    "colab_type": "code",
    "executionInfo": {
     "elapsed": 972,
     "status": "ok",
     "timestamp": 1594442983762,
     "user": {
      "displayName": "ARIEF AKBAR HIDAYAT MHS 2017",
      "photoUrl": "https://lh3.googleusercontent.com/a-/AOh14GgpxjnV7zTpLouYOAYyyr7JileDmvj56ntyPr5Y=s64",
      "userId": "11849805901853145430"
     },
     "user_tz": -420
    },
    "id": "gU2dhYT2rwwl",
    "outputId": "0ecb15e8-2237-4ad2-ebd8-9162ed2a2090"
   },
   "outputs": [
    {
     "name": "stdout",
     "output_type": "stream",
     "text": [
      "               precision    recall  f1-score   support\n",
      "\n",
      "     business       0.86      0.90      0.88        20\n",
      "entertainment       1.00      0.96      0.98        25\n",
      "       health       1.00      1.00      1.00        21\n",
      "      science       1.00      0.94      0.97        33\n",
      "   technology       0.86      0.95      0.90        19\n",
      "\n",
      "     accuracy                           0.95       118\n",
      "    macro avg       0.94      0.95      0.95       118\n",
      " weighted avg       0.95      0.95      0.95       118\n",
      "\n"
     ]
    }
   ],
   "source": [
    "print(classification_report(y_pred,y_test)) # with hyperparameter tuning 100 sample"
   ]
  },
  {
   "cell_type": "code",
   "execution_count": null,
   "metadata": {
    "colab": {
     "base_uri": "https://localhost:8080/",
     "height": 104
    },
    "colab_type": "code",
    "executionInfo": {
     "elapsed": 800,
     "status": "ok",
     "timestamp": 1594443012947,
     "user": {
      "displayName": "ARIEF AKBAR HIDAYAT MHS 2017",
      "photoUrl": "https://lh3.googleusercontent.com/a-/AOh14GgpxjnV7zTpLouYOAYyyr7JileDmvj56ntyPr5Y=s64",
      "userId": "11849805901853145430"
     },
     "user_tz": -420
    },
    "id": "qKxjOjdKtD0b",
    "outputId": "f08a2d2b-0907-45ce-83cb-0d5555dc0316"
   },
   "outputs": [
    {
     "data": {
      "text/plain": [
       "array([[18,  1,  0,  1,  1],\n",
       "       [ 0, 24,  0,  0,  0],\n",
       "       [ 0,  0, 21,  0,  0],\n",
       "       [ 0,  0,  0, 31,  0],\n",
       "       [ 2,  0,  0,  1, 18]])"
      ]
     },
     "execution_count": 141,
     "metadata": {
      "tags": []
     },
     "output_type": "execute_result"
    }
   ],
   "source": [
    "from sklearn.metrics import confusion_matrix #with tuning 100\n",
    "import seaborn as sns\n",
    "import matplotlib.pyplot as plt\n",
    "\n",
    "conf_mat = confusion_matrix(y_test, y_pred)\n",
    "conf_mat"
   ]
  },
  {
   "cell_type": "code",
   "execution_count": null,
   "metadata": {
    "colab": {
     "base_uri": "https://localhost:8080/",
     "height": 1000
    },
    "colab_type": "code",
    "executionInfo": {
     "elapsed": 784,
     "status": "ok",
     "timestamp": 1594443092716,
     "user": {
      "displayName": "ARIEF AKBAR HIDAYAT MHS 2017",
      "photoUrl": "https://lh3.googleusercontent.com/a-/AOh14GgpxjnV7zTpLouYOAYyyr7JileDmvj56ntyPr5Y=s64",
      "userId": "11849805901853145430"
     },
     "user_tz": -420
    },
    "id": "8_2yqYsWNnHd",
    "outputId": "2f09ff2e-881f-4b1e-edaf-2318bf9397a4"
   },
   "outputs": [
    {
     "name": "stdout",
     "output_type": "stream",
     "text": [
      "Predict             business            entertainment       health              science             technology          \n",
      "Actual\n",
      "business            18                  1                   0                   1                   1                   \n",
      "\n",
      "entertainment       0                   24                  0                   0                   0                   \n",
      "\n",
      "health              0                   0                   21                  0                   0                   \n",
      "\n",
      "science             0                   0                   0                   31                  0                   \n",
      "\n",
      "technology          2                   0                   0                   1                   18                  \n",
      "\n",
      "\n",
      "\n",
      "\n",
      "\n",
      "Overall Statistics : \n",
      "\n",
      "95% CI                                                            (0.90951,0.98879)\n",
      "ACC Macro                                                         0.97966\n",
      "ARI                                                               0.88529\n",
      "AUNP                                                              0.96772\n",
      "AUNU                                                              0.96497\n",
      "Bangdiwala B                                                      0.91086\n",
      "Bennett S                                                         0.93644\n",
      "CBA                                                               0.92274\n",
      "CSI                                                               0.89221\n",
      "Chi-Squared                                                       412.96146\n",
      "Chi-Squared DF                                                    16\n",
      "Conditional Entropy                                               0.27424\n",
      "Cramer V                                                          0.93537\n",
      "Cross Entropy                                                     2.30608\n",
      "F1 Macro                                                          0.94528\n",
      "F1 Micro                                                          0.94915\n",
      "FNR Macro                                                         0.05714\n",
      "FNR Micro                                                         0.05085\n",
      "FPR Macro                                                         0.01291\n",
      "FPR Micro                                                         0.01271\n",
      "Gwet AC1                                                          0.93658\n",
      "Hamming Loss                                                      0.05085\n",
      "Joint Entropy                                                     2.57777\n",
      "KL Divergence                                                     0.00255\n",
      "Kappa                                                             0.93588\n",
      "Kappa 95% CI                                                      (0.88589,0.98586)\n",
      "Kappa No Prevalence                                               0.89831\n",
      "Kappa Standard Error                                              0.0255\n",
      "Kappa Unbiased                                                    0.93586\n",
      "Krippendorff Alpha                                                0.93613\n",
      "Lambda A                                                          0.93103\n",
      "Lambda B                                                          0.92941\n",
      "Mutual Information                                                2.01562\n",
      "NIR                                                               0.26271\n",
      "Overall ACC                                                       0.94915\n",
      "Overall CEN                                                       0.08713\n",
      "Overall J                                                         (4.50018,0.90004)\n",
      "Overall MCC                                                       0.9363\n",
      "Overall MCEN                                                      0.1376\n",
      "Overall RACC                                                      0.20705\n",
      "Overall RACCU                                                     0.20723\n",
      "P-Value                                                           -0.0\n",
      "PPV Macro                                                         0.94935\n",
      "PPV Micro                                                         0.94915\n",
      "Pearson C                                                         0.88191\n",
      "Phi-Squared                                                       3.49967\n",
      "RCI                                                               0.87501\n",
      "RR                                                                23.6\n",
      "Reference Entropy                                                 2.30353\n",
      "Response Entropy                                                  2.28985\n",
      "SOA1(Landis & Koch)                                               Almost Perfect\n",
      "SOA2(Fleiss)                                                      Excellent\n",
      "SOA3(Altman)                                                      Very Good\n",
      "SOA4(Cicchetti)                                                   Excellent\n",
      "SOA5(Cramer)                                                      Very Strong\n",
      "SOA6(Matthews)                                                    Very Strong\n",
      "Scott PI                                                          0.93586\n",
      "Standard Error                                                    0.02022\n",
      "TNR Macro                                                         0.98709\n",
      "TNR Micro                                                         0.98729\n",
      "TPR Macro                                                         0.94286\n",
      "TPR Micro                                                         0.94915\n",
      "Zero-one Loss                                                     6\n",
      "\n",
      "Class Statistics :\n",
      "\n",
      "Classes                                                           business          entertainment     health            science           technology        \n",
      "ACC(Accuracy)                                                     0.95763           0.99153           1.0               0.98305           0.9661            \n",
      "AGF(Adjusted F-score)                                             0.91685           0.99479           1.0               0.99128           0.92236           \n",
      "AGM(Adjusted geometric mean)                                      0.94472           0.99231           1.0               0.98359           0.95201           \n",
      "AM(Difference between automatic and manual classification)        -1                1                 0                 2                 -2                \n",
      "AUC(Area under the ROC curve)                                     0.91826           0.99468           1.0               0.98851           0.92342           \n",
      "AUCI(AUC value interpretation)                                    Excellent         Excellent         Excellent         Excellent         Excellent         \n",
      "AUPR(Area under the PR curve)                                     0.87857           0.98              1.0               0.9697            0.90226           \n",
      "BCD(Bray-Curtis dissimilarity)                                    0.00424           0.00424           0.0               0.00847           0.00847           \n",
      "BM(Informedness or bookmaker informedness)                        0.83652           0.98936           1.0               0.97701           0.84683           \n",
      "CEN(Confusion entropy)                                            0.20153           0.0382            0                 0.0625            0.16073           \n",
      "DOR(Diagnostic odds ratio)                                        285.0             None              None              None              576.0             \n",
      "DP(Discriminant power)                                            1.35343           None              None              None              1.5219            \n",
      "DPI(Discriminant power interpretation)                            Limited           None              None              None              Limited           \n",
      "ERR(Error rate)                                                   0.04237           0.00847           0.0               0.01695           0.0339            \n",
      "F0.5(F0.5 score)                                                  0.89109           0.96774           1.0               0.95092           0.92784           \n",
      "F1(F1 score - harmonic mean of precision and sensitivity)         0.87805           0.97959           1.0               0.96875           0.9               \n",
      "F2(F2 score)                                                      0.86538           0.99174           1.0               0.98726           0.87379           \n",
      "FDR(False discovery rate)                                         0.1               0.04              0.0               0.06061           0.05263           \n",
      "FN(False negative/miss/type 2 error)                              3                 0                 0                 0                 3                 \n",
      "FNR(Miss rate or false negative rate)                             0.14286           0.0               0.0               0.0               0.14286           \n",
      "FOR(False omission rate)                                          0.03061           0.0               0.0               0.0               0.0303            \n",
      "FP(False positive/type 1 error/false alarm)                       2                 1                 0                 2                 1                 \n",
      "FPR(Fall-out or false positive rate)                              0.02062           0.01064           0.0               0.02299           0.01031           \n",
      "G(G-measure geometric mean of precision and sensitivity)          0.87831           0.9798            1.0               0.96922           0.90113           \n",
      "GI(Gini index)                                                    0.83652           0.98936           1.0               0.97701           0.84683           \n",
      "GM(G-mean geometric mean of specificity and sensitivity)          0.91623           0.99467           1.0               0.98844           0.92104           \n",
      "IBA(Index of balanced accuracy)                                   0.73685           0.99989           1.0               0.99947           0.73587           \n",
      "ICSI(Individual classification success index)                     0.75714           0.96              1.0               0.93939           0.80451           \n",
      "IS(Information score)                                             2.33832           2.23879           2.49033           1.83825           2.41232           \n",
      "J(Jaccard index)                                                  0.78261           0.96              1.0               0.93939           0.81818           \n",
      "LS(Lift score)                                                    5.05714           4.72              5.61905           3.57576           5.32331           \n",
      "MCC(Matthews correlation coefficient)                             0.8528            0.97457           1.0               0.95802           0.88125           \n",
      "MCCI(Matthews correlation coefficient interpretation)             Strong            Very Strong       Very Strong       Very Strong       Strong            \n",
      "MCEN(Modified confusion entropy)                                  0.29881           0.06192           0                 0.10191           0.23997           \n",
      "MK(Markedness)                                                    0.86939           0.96              1.0               0.93939           0.91707           \n",
      "N(Condition negative)                                             97                94                97                87                97                \n",
      "NLR(Negative likelihood ratio)                                    0.14586           0.0               0.0               0.0               0.14435           \n",
      "NLRI(Negative likelihood ratio interpretation)                    Fair              Good              Good              Good              Fair              \n",
      "NPV(Negative predictive value)                                    0.96939           1.0               1.0               1.0               0.9697            \n",
      "OC(Overlap coefficient)                                           0.9               1.0               1.0               1.0               0.94737           \n",
      "OOC(Otsuka-Ochiai coefficient)                                    0.87831           0.9798            1.0               0.96922           0.90113           \n",
      "OP(Optimized precision)                                           0.89107           0.98618           1.0               0.97142           0.89433           \n",
      "P(Condition positive or support)                                  21                24                21                31                21                \n",
      "PLR(Positive likelihood ratio)                                    41.57143          94.0              None              43.5              83.14286          \n",
      "PLRI(Positive likelihood ratio interpretation)                    Good              Good              None              Good              Good              \n",
      "POP(Population)                                                   118               118               118               118               118               \n",
      "PPV(Precision or positive predictive value)                       0.9               0.96              1.0               0.93939           0.94737           \n",
      "PRE(Prevalence)                                                   0.17797           0.20339           0.17797           0.26271           0.17797           \n",
      "Q(Yule Q - coefficient of colligation)                            0.99301           None              None              None              0.99653           \n",
      "QI(Yule Q interpretation)                                         Strong            None              None              None              Strong            \n",
      "RACC(Random accuracy)                                             0.03016           0.04309           0.03167           0.07347           0.02866           \n",
      "RACCU(Random accuracy unbiased)                                   0.03018           0.04311           0.03167           0.07354           0.02873           \n",
      "TN(True negative/correct rejection)                               95                93                97                85                96                \n",
      "TNR(Specificity or true negative rate)                            0.97938           0.98936           1.0               0.97701           0.98969           \n",
      "TON(Test outcome negative)                                        98                93                97                85                99                \n",
      "TOP(Test outcome positive)                                        20                25                21                33                19                \n",
      "TP(True positive/hit)                                             18                24                21                31                18                \n",
      "TPR(Sensitivity, recall, hit rate, or true positive rate)         0.85714           1.0               1.0               1.0               0.85714           \n",
      "Y(Youden index)                                                   0.83652           0.98936           1.0               0.97701           0.84683           \n",
      "dInd(Distance index)                                              0.14434           0.01064           0.0               0.02299           0.14323           \n",
      "sInd(Similarity index)                                            0.89794           0.99248           1.0               0.98374           0.89872           \n",
      "\n"
     ]
    }
   ],
   "source": [
    "from pycm import * #with tuning 100\n",
    "cm = ConfusionMatrix(actual_vector=np.array(y_test), predict_vector=np.array(y_pred))\n",
    "print(cm)"
   ]
  },
  {
   "cell_type": "code",
   "execution_count": null,
   "metadata": {
    "colab": {
     "base_uri": "https://localhost:8080/",
     "height": 138
    },
    "colab_type": "code",
    "executionInfo": {
     "elapsed": 988,
     "status": "ok",
     "timestamp": 1594350947479,
     "user": {
      "displayName": "ARIEF AKBAR HIDAYAT MHS 2017",
      "photoUrl": "https://lh3.googleusercontent.com/a-/AOh14GgpxjnV7zTpLouYOAYyyr7JileDmvj56ntyPr5Y=s64",
      "userId": "11849805901853145430"
     },
     "user_tz": -420
    },
    "id": "3BaiaA-usIvD",
    "outputId": "bfbefd97-24a6-4069-fa6d-b02659a0422d"
   },
   "outputs": [
    {
     "name": "stderr",
     "output_type": "stream",
     "text": [
      "/usr/local/lib/python3.6/dist-packages/statsmodels/tools/_testing.py:19: FutureWarning: pandas.util.testing is deprecated. Use the functions in the public API at pandas.testing instead.\n",
      "  import pandas.util.testing as tm\n"
     ]
    },
    {
     "data": {
      "text/plain": [
       "array([[25,  1,  0,  3,  1],\n",
       "       [ 1, 18,  1,  0,  0],\n",
       "       [ 0,  0, 17,  0,  1],\n",
       "       [ 0,  0,  0, 22,  0],\n",
       "       [ 2,  3,  1,  0, 22]])"
      ]
     },
     "execution_count": 36,
     "metadata": {
      "tags": []
     },
     "output_type": "execute_result"
    }
   ],
   "source": [
    "from sklearn.metrics import confusion_matrix #without= tuning 100\n",
    "import seaborn as sns\n",
    "import matplotlib.pyplot as plt\n",
    "\n",
    "conf_mat = confusion_matrix(y_test, y_pred)\n",
    "conf_mat"
   ]
  },
  {
   "cell_type": "code",
   "execution_count": null,
   "metadata": {
    "colab": {
     "base_uri": "https://localhost:8080/",
     "height": 156
    },
    "colab_type": "code",
    "executionInfo": {
     "elapsed": 1071,
     "status": "ok",
     "timestamp": 1594290198210,
     "user": {
      "displayName": "ARIEF AKBAR HIDAYAT MHS 2017",
      "photoUrl": "https://lh3.googleusercontent.com/a-/AOh14GgpxjnV7zTpLouYOAYyyr7JileDmvj56ntyPr5Y=s64",
      "userId": "11849805901853145430"
     },
     "user_tz": -420
    },
    "id": "GiEYgAuoxTcK",
    "outputId": "82227df2-489b-4685-baa8-213d4926a6b7"
   },
   "outputs": [
    {
     "name": "stderr",
     "output_type": "stream",
     "text": [
      "/usr/local/lib/python3.6/dist-packages/statsmodels/tools/_testing.py:19: FutureWarning: pandas.util.testing is deprecated. Use the functions in the public API at pandas.testing instead.\n",
      "  import pandas.util.testing as tm\n"
     ]
    },
    {
     "data": {
      "text/plain": [
       "array([[67,  1,  0,  3,  2],\n",
       "       [ 2, 32,  0,  0,  1],\n",
       "       [ 3,  0, 16,  0,  1],\n",
       "       [ 0,  1,  0, 35,  0],\n",
       "       [ 6,  2,  1,  0, 31]])"
      ]
     },
     "execution_count": 77,
     "metadata": {
      "tags": []
     },
     "output_type": "execute_result"
    }
   ],
   "source": [
    "from sklearn.metrics import confusion_matrix #without tuning\n",
    "import seaborn as sns\n",
    "import matplotlib.pyplot as plt\n",
    "\n",
    "conf_mat = confusion_matrix(y_test, y_pred)\n",
    "conf_mat"
   ]
  },
  {
   "cell_type": "code",
   "execution_count": null,
   "metadata": {
    "colab": {
     "base_uri": "https://localhost:8080/",
     "height": 102
    },
    "colab_type": "code",
    "executionInfo": {
     "elapsed": 1637,
     "status": "ok",
     "timestamp": 1594303452510,
     "user": {
      "displayName": "ARIEF AKBAR HIDAYAT MHS 2017",
      "photoUrl": "https://lh3.googleusercontent.com/a-/AOh14GgpxjnV7zTpLouYOAYyyr7JileDmvj56ntyPr5Y=s64",
      "userId": "11849805901853145430"
     },
     "user_tz": -420
    },
    "id": "NXmtmCmtv3G4",
    "outputId": "42c5ed64-f126-49ad-c765-4ed3a2d1d3e1"
   },
   "outputs": [
    {
     "data": {
      "text/plain": [
       "array([[65,  2,  1,  1,  4],\n",
       "       [ 0, 41,  0,  0,  0],\n",
       "       [ 0,  0, 20,  0,  0],\n",
       "       [ 3,  0,  0, 28,  0],\n",
       "       [ 4,  0,  1,  0, 34]])"
      ]
     },
     "execution_count": 179,
     "metadata": {
      "tags": []
     },
     "output_type": "execute_result"
    }
   ],
   "source": [
    "from sklearn.metrics import confusion_matrix #with tuning\n",
    "import seaborn as sns\n",
    "import matplotlib.pyplot as plt\n",
    "\n",
    "conf_mat = confusion_matrix(y_test, y_pred)\n",
    "conf_mat"
   ]
  },
  {
   "cell_type": "code",
   "execution_count": null,
   "metadata": {
    "colab": {
     "base_uri": "https://localhost:8080/",
     "height": 260
    },
    "colab_type": "code",
    "executionInfo": {
     "elapsed": 924,
     "status": "ok",
     "timestamp": 1594443038857,
     "user": {
      "displayName": "ARIEF AKBAR HIDAYAT MHS 2017",
      "photoUrl": "https://lh3.googleusercontent.com/a-/AOh14GgpxjnV7zTpLouYOAYyyr7JileDmvj56ntyPr5Y=s64",
      "userId": "11849805901853145430"
     },
     "user_tz": -420
    },
    "id": "qdMwv1YwNce0",
    "outputId": "b3289795-da8b-45e6-e819-feb4f3bb255d"
   },
   "outputs": [
    {
     "data": {
      "text/plain": [
       "array([[[95,  2],\n",
       "        [ 3, 18]],\n",
       "\n",
       "       [[93,  1],\n",
       "        [ 0, 24]],\n",
       "\n",
       "       [[97,  0],\n",
       "        [ 0, 21]],\n",
       "\n",
       "       [[85,  2],\n",
       "        [ 0, 31]],\n",
       "\n",
       "       [[96,  1],\n",
       "        [ 3, 18]]])"
      ]
     },
     "execution_count": 142,
     "metadata": {
      "tags": []
     },
     "output_type": "execute_result"
    }
   ],
   "source": [
    "from sklearn.metrics import multilabel_confusion_matrix # with tuning 100\n",
    "multilabel_confusion_matrix(y_test, y_pred)"
   ]
  },
  {
   "cell_type": "markdown",
   "metadata": {
    "colab_type": "text",
    "id": "YrLa4I2S7l2Q"
   },
   "source": [
    "# Tuning Hyperparameter"
   ]
  },
  {
   "cell_type": "code",
   "execution_count": null,
   "metadata": {
    "colab": {
     "base_uri": "https://localhost:8080/",
     "height": 54
    },
    "colab_type": "code",
    "executionInfo": {
     "elapsed": 1035,
     "status": "ok",
     "timestamp": 1594350961411,
     "user": {
      "displayName": "ARIEF AKBAR HIDAYAT MHS 2017",
      "photoUrl": "https://lh3.googleusercontent.com/a-/AOh14GgpxjnV7zTpLouYOAYyyr7JileDmvj56ntyPr5Y=s64",
      "userId": "11849805901853145430"
     },
     "user_tz": -420
    },
    "id": "AbaqRV96Wt-f",
    "outputId": "0b257d5f-ab48-4663-cd85-69b54d8f4f03"
   },
   "outputs": [
    {
     "name": "stdout",
     "output_type": "stream",
     "text": [
      "[0.1, 0.2, 0.30000000000000004, 0.4, 0.5, 0.6, 0.7000000000000001, 0.8, 0.9, 1.0] [1, 2, 3, 4, 5, 6, 7, 8, 9, 10, 11, 12, 13, 14, 15, 16, 17, 18, 19, 20, 21, 22, 23, 24, 25, 26, 27, 28, 29, 30, 31, 32, 33, 34, 35, 36, 37, 38, 39, 40, 41, 42, 43, 44, 45, 46, 47, 48, 49, 50]\n"
     ]
    }
   ],
   "source": [
    "# grid search\n",
    "from sklearn.model_selection import GridSearchCV\n",
    "batas=[]\n",
    "neigh=[]\n",
    "for i in np.arange(0.1, 1.1, 0.1):\n",
    "  batas.append(i)\n",
    "\n",
    "for i in range(1,51):\n",
    "  neigh.append(i)\n",
    "\n",
    "print(batas,neigh)\n",
    "params={'vect__max_df':batas,\n",
    "        'clf__metric':['euclidean','manhattan'], \n",
    "        'clf__weights':['uniform','distance'],\n",
    "        'clf__n_neighbors':neigh\n",
    "        }"
   ]
  },
  {
   "cell_type": "code",
   "execution_count": null,
   "metadata": {
    "colab": {},
    "colab_type": "code",
    "id": "7rTtWYLXY9gT"
   },
   "outputs": [],
   "source": [
    "grid=GridSearchCV(pipeline,\n",
    "                  params,\n",
    "                  cv=5)"
   ]
  },
  {
   "cell_type": "code",
   "execution_count": null,
   "metadata": {
    "colab": {
     "base_uri": "https://localhost:8080/",
     "height": 520
    },
    "colab_type": "code",
    "executionInfo": {
     "elapsed": 6904741,
     "status": "ok",
     "timestamp": 1594357870396,
     "user": {
      "displayName": "ARIEF AKBAR HIDAYAT MHS 2017",
      "photoUrl": "https://lh3.googleusercontent.com/a-/AOh14GgpxjnV7zTpLouYOAYyyr7JileDmvj56ntyPr5Y=s64",
      "userId": "11849805901853145430"
     },
     "user_tz": -420
    },
    "id": "NgTHKa5bZGaG",
    "outputId": "985ae1ce-8125-4c9c-ef4b-4147aae1b49d"
   },
   "outputs": [
    {
     "data": {
      "text/plain": [
       "GridSearchCV(cv=5, error_score=nan,\n",
       "             estimator=Pipeline(memory=None,\n",
       "                                steps=[('vect',\n",
       "                                        TfidfVectorizer(analyzer='word',\n",
       "                                                        binary=False,\n",
       "                                                        decode_error='strict',\n",
       "                                                        dtype=<class 'numpy.float64'>,\n",
       "                                                        encoding='utf-8',\n",
       "                                                        input='content',\n",
       "                                                        lowercase=True,\n",
       "                                                        max_df=0.30000000000000004,\n",
       "                                                        max_features=None,\n",
       "                                                        min_df=0,\n",
       "                                                        ngram_range=(1, 2),\n",
       "                                                        norm='l2',\n",
       "                                                        preprocessor=None,\n",
       "                                                        smooth_idf=True,\n",
       "                                                        stop_words...\n",
       "             param_grid={'clf__metric': ['euclidean', 'manhattan'],\n",
       "                         'clf__n_neighbors': [1, 2, 3, 4, 5, 6, 7, 8, 9, 10, 11,\n",
       "                                              12, 13, 14, 15, 16, 17, 18, 19,\n",
       "                                              20, 21, 22, 23, 24, 25, 26, 27,\n",
       "                                              28, 29, 30, ...],\n",
       "                         'clf__weights': ['uniform', 'distance'],\n",
       "                         'vect__max_df': [0.1, 0.2, 0.30000000000000004, 0.4,\n",
       "                                          0.5, 0.6, 0.7000000000000001, 0.8,\n",
       "                                          0.9, 1.0]},\n",
       "             pre_dispatch='2*n_jobs', refit=True, return_train_score=False,\n",
       "             scoring=None, verbose=0)"
      ]
     },
     "execution_count": 39,
     "metadata": {
      "tags": []
     },
     "output_type": "execute_result"
    }
   ],
   "source": [
    "grid.fit(X_train,y_train)"
   ]
  },
  {
   "cell_type": "code",
   "execution_count": null,
   "metadata": {
    "colab": {
     "base_uri": "https://localhost:8080/",
     "height": 364
    },
    "colab_type": "code",
    "executionInfo": {
     "elapsed": 1159,
     "status": "ok",
     "timestamp": 1594359186034,
     "user": {
      "displayName": "ARIEF AKBAR HIDAYAT MHS 2017",
      "photoUrl": "https://lh3.googleusercontent.com/a-/AOh14GgpxjnV7zTpLouYOAYyyr7JileDmvj56ntyPr5Y=s64",
      "userId": "11849805901853145430"
     },
     "user_tz": -420
    },
    "id": "p_KUlrJcZJD6",
    "outputId": "0e7cec2a-3dbe-418e-b9ad-d83afc0825e4"
   },
   "outputs": [
    {
     "data": {
      "text/plain": [
       "Pipeline(memory=None,\n",
       "         steps=[('vect',\n",
       "                 TfidfVectorizer(analyzer='word', binary=False,\n",
       "                                 decode_error='strict',\n",
       "                                 dtype=<class 'numpy.float64'>,\n",
       "                                 encoding='utf-8', input='content',\n",
       "                                 lowercase=True, max_df=0.4, max_features=None,\n",
       "                                 min_df=0, ngram_range=(1, 2), norm='l2',\n",
       "                                 preprocessor=None, smooth_idf=True,\n",
       "                                 stop_words=None, strip_accents=None,\n",
       "                                 sublinear_tf=False,\n",
       "                                 token_pattern='(?u)\\\\b\\\\w\\\\w+\\\\b',\n",
       "                                 tokenizer=None, use_idf=True,\n",
       "                                 vocabulary=None)),\n",
       "                ('clf',\n",
       "                 KNeighborsClassifier(algorithm='auto', leaf_size=30,\n",
       "                                      metric='euclidean', metric_params=None,\n",
       "                                      n_jobs=None, n_neighbors=11, p=2,\n",
       "                                      weights='distance'))],\n",
       "         verbose=False)"
      ]
     },
     "execution_count": 40,
     "metadata": {
      "tags": []
     },
     "output_type": "execute_result"
    }
   ],
   "source": [
    "grid.best_estimator_"
   ]
  },
  {
   "cell_type": "markdown",
   "metadata": {},
   "source": [
    "## simpan model"
   ]
  },
  {
   "cell_type": "code",
   "execution_count": null,
   "metadata": {
    "colab": {},
    "colab_type": "code",
    "id": "VnsFqD25-81d"
   },
   "outputs": [],
   "source": [
    "# dump pipeline to pickle\n",
    "import pickle\n",
    "dir=\"/yourdir\"\n",
    "#pickle.dump(pipeline,open(dir+'final_class_sam.pkl', 'wb'))"
   ]
  },
  {
   "cell_type": "markdown",
   "metadata": {
    "colab_type": "text",
    "id": "3isk9SNePONC"
   },
   "source": [
    "# test model"
   ]
  },
  {
   "cell_type": "code",
   "execution_count": null,
   "metadata": {
    "colab": {
     "base_uri": "https://localhost:8080/",
     "height": 34
    },
    "colab_type": "code",
    "executionInfo": {
     "elapsed": 735,
     "status": "ok",
     "timestamp": 1594451635480,
     "user": {
      "displayName": "ARIEF AKBAR HIDAYAT MHS 2017",
      "photoUrl": "https://lh3.googleusercontent.com/a-/AOh14GgpxjnV7zTpLouYOAYyyr7JileDmvj56ntyPr5Y=s64",
      "userId": "11849805901853145430"
     },
     "user_tz": -420
    },
    "id": "eQKuF0Q7i-gC",
    "outputId": "c0e848d2-2377-4916-8093-09834fbedee3"
   },
   "outputs": [
    {
     "name": "stdout",
     "output_type": "stream",
     "text": [
      "0.9491525423728814\n"
     ]
    }
   ],
   "source": [
    "# load the model from disk\n",
    "import pickle\n",
    "#loaded_model = pickle.load(open(dir+'final_class_sam.pkl', 'rb'))\n",
    "result = loaded_model.score(X_test, y_test)\n",
    "print(result)\n",
    "# loaded_model.predict([tes_bis, tes_tech, tes_sci, tes_ent, tes_hlt ])"
   ]
  },
  {
   "cell_type": "code",
   "execution_count": null,
   "metadata": {
    "colab": {
     "base_uri": "https://localhost:8080/",
     "height": 52
    },
    "colab_type": "code",
    "executionInfo": {
     "elapsed": 737,
     "status": "ok",
     "timestamp": 1594443166035,
     "user": {
      "displayName": "ARIEF AKBAR HIDAYAT MHS 2017",
      "photoUrl": "https://lh3.googleusercontent.com/a-/AOh14GgpxjnV7zTpLouYOAYyyr7JileDmvj56ntyPr5Y=s64",
      "userId": "11849805901853145430"
     },
     "user_tz": -420
    },
    "id": "mzPqpSg7N4Sd",
    "outputId": "019d0041-bae3-44af-c41d-eb680b7a8b1e"
   },
   "outputs": [
    {
     "data": {
      "text/plain": [
       "array(['business', 'technology', 'science', 'entertainment', 'health'],\n",
       "      dtype=object)"
      ]
     },
     "execution_count": 154,
     "metadata": {
      "tags": []
     },
     "output_type": "execute_result"
    }
   ],
   "source": [
    "tes_bis=readfile(\"bisnis.txt\")\n",
    "tes_tech=readfile(\"tech.txt\")\n",
    "tes_sci=readfile(\"science.txt\")\n",
    "tes_ent=readfile(\"entertainment.txt\")\n",
    "tes_hlt=readfile(\"health.txt\")\n",
    "loaded_model.predict([tes_bis, tes_tech, tes_sci, tes_ent, tes_hlt ])"
   ]
  },
  {
   "cell_type": "code",
   "execution_count": 106,
   "metadata": {
    "colab": {},
    "colab_type": "code",
    "id": "uS0KGPinDG79"
   },
   "outputs": [],
   "source": [
    "from collections import Counter\n",
    "def readfile(name_file):\n",
    "    with open(name_file) as f:\n",
    "        file=f.read().splitlines()\n",
    "        sentence=Counter(file)\n",
    "        del(sentence[''])\n",
    "        kalimat=\"\"\n",
    "        for x in sentence:\n",
    "            kalimat+=x+\" \"\n",
    "        return kalimat"
   ]
  }
 ],
 "metadata": {
  "colab": {
   "authorship_tag": "ABX9TyNXhyr+38Xpa/d8wX0OZ/tm",
   "collapsed_sections": [],
   "name": "Text Preprocessing and Modeling.ipynb",
   "provenance": [
    {
     "file_id": "1l9TmZd6879Q_qvgr8nATa2I3VojbYvv0",
     "timestamp": 1592663883375
    },
    {
     "file_id": "19rs9R1hXoq9sL7DQJpd1GDRKWt6nE4lP",
     "timestamp": 1592627175405
    }
   ]
  },
  "kernelspec": {
   "display_name": "Python 3",
   "language": "python",
   "name": "python3"
  },
  "language_info": {
   "codemirror_mode": {
    "name": "ipython",
    "version": 3
   },
   "file_extension": ".py",
   "mimetype": "text/x-python",
   "name": "python",
   "nbconvert_exporter": "python",
   "pygments_lexer": "ipython3",
   "version": "3.8.5"
  }
 },
 "nbformat": 4,
 "nbformat_minor": 4
}
