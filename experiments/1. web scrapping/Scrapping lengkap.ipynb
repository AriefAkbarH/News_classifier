{
 "cells": [
  {
   "cell_type": "markdown",
   "metadata": {
    "colab_type": "text",
    "id": "OSmQj1KgDizO"
   },
   "source": [
    "# Akses Google Drive"
   ]
  },
  {
   "cell_type": "code",
   "execution_count": null,
   "metadata": {
    "colab": {
     "base_uri": "https://localhost:8080/",
     "height": 34
    },
    "colab_type": "code",
    "executionInfo": {
     "elapsed": 2359,
     "status": "ok",
     "timestamp": 1592997570639,
     "user": {
      "displayName": "ARIEF AKBAR HIDAYAT MHS 2017",
      "photoUrl": "https://lh3.googleusercontent.com/a-/AOh14GgpxjnV7zTpLouYOAYyyr7JileDmvj56ntyPr5Y=s64",
      "userId": "11849805901853145430"
     },
     "user_tz": -420
    },
    "id": "p4Nj0eD6PJfv",
    "outputId": "d2c5e503-c17d-45be-b703-d361621a81ad"
   },
   "outputs": [
    {
     "name": "stdout",
     "output_type": "stream",
     "text": [
      "Mounted at /content/drive\n"
     ]
    }
   ],
   "source": [
    "from google.colab import drive\n",
    "drive.mount('/content/drive',force_remount=True)"
   ]
  },
  {
   "cell_type": "markdown",
   "metadata": {
    "colab_type": "text",
    "id": "BulEad8hOq8s"
   },
   "source": [
    "# import library beautifulsoup"
   ]
  },
  {
   "cell_type": "code",
   "execution_count": null,
   "metadata": {
    "colab": {},
    "colab_type": "code",
    "id": "TsrpeToKOq8u"
   },
   "outputs": [],
   "source": [
    "import requests\n",
    "import urllib.request\n",
    "from bs4 import BeautifulSoup"
   ]
  },
  {
   "cell_type": "markdown",
   "metadata": {
    "colab_type": "text",
    "id": "uf-7MmT-Oq82"
   },
   "source": [
    "# Scraping Complete Code"
   ]
  },
  {
   "cell_type": "code",
   "execution_count": null,
   "metadata": {
    "colab": {},
    "colab_type": "code",
    "id": "ugPM4NISOq83"
   },
   "outputs": [],
   "source": [
    "def scrap(link,direktori,label):\n",
    "  \"\"\"masuk ke halaman kategori dan mengambil link berita\"\"\"\n",
    "  response = requests.get(link) # masuk ke halaman\n",
    "\n",
    "  doc = BeautifulSoup(response.text, 'html.parser') #parser html\n",
    "\n",
    "  links = doc.find_all('a') #mencari link berita\n",
    "\n",
    "  #memfilter link berita sesuai input kategori\n",
    "  list_key_link = [direktori] \n",
    "  berita_link = []\n",
    "  for i in list_key_link:\n",
    "      berita_link = berita_link + [link for link in links if i in str(link) and 'javascript:void(0)' not in str(link) \n",
    "                and '#' not in str(link) and \"video\" not in str(link) and \"Read more\" not in str(link) and \":\" not in str(link)\n",
    "               and 'Global' not in str(link) and 'Entrepreneurship' not in str(link) and 'Technology of Business' not in str(link)\n",
    "                ]\n",
    "  print(len(berita_link))\n",
    "\n",
    "\n",
    "  def getBerita(link):\n",
    "      \"\"\"mendapatkan setiap berita dan parser struktur html berita \"\"\"\n",
    "      html = urllib.request.urlopen(link).read()   #masuk kedalam halamam\n",
    "      soup = BeautifulSoup(html, \"lxml\") #merapihkan html sehingga mudah dibaca\n",
    "\n",
    "      judul = soup.find(\"h1\",\"story-body__h1\").text.strip() #mencari judul berita\n",
    "      isi_berita=\"\"\n",
    "\n",
    "      table = soup.find('div','story-body__inner') #mencari isi berita\n",
    "\n",
    "      for row in table.findAll('p'):#filter isi berita\n",
    "          if \"Follow us\" in row.text:\n",
    "              pass\n",
    "          else:\n",
    "              isi_berita+=row.text\n",
    "      \n",
    "      tanggal = soup.find(\"div\",\"date\").text #mencari tanggal berita    \n",
    "      return [judul,isi_berita,tanggal,label]\n",
    "\n",
    "  #mengakses setiap halaman untuk mendapatkan berita dan disimpan dalam bentuk list\n",
    "  berita = [] \n",
    "  for link in berita_link:\n",
    "      print('%s: %s'%(link.text.strip(),str(\"https://www.bbc.com\"+link[\"href\"])))\n",
    "      try:\n",
    "          berita.append(getBerita(str(\"https://www.bbc.com\"+link[\"href\"])))\n",
    "      except:\n",
    "          pass\n",
    "  return berita"
   ]
  },
  {
   "cell_type": "code",
   "execution_count": null,
   "metadata": {
    "colab": {
     "base_uri": "https://localhost:8080/",
     "height": 1000
    },
    "colab_type": "code",
    "executionInfo": {
     "elapsed": 72445,
     "status": "ok",
     "timestamp": 1592997005258,
     "user": {
      "displayName": "ARIEF AKBAR HIDAYAT MHS 2017",
      "photoUrl": "https://lh3.googleusercontent.com/a-/AOh14GgpxjnV7zTpLouYOAYyyr7JileDmvj56ntyPr5Y=s64",
      "userId": "11849805901853145430"
     },
     "user_tz": -420
    },
    "id": "uVo6OtaYPIEd",
    "outputId": "52a189dc-62b6-4798-a4db-410b0584f1ae"
   },
   "outputs": [
    {
     "name": "stdout",
     "output_type": "stream",
     "text": [
      "24\n",
      "Black women scientists missing from textbooks, study shows: https://www.bbc.com/news/science-environment-53158292\n",
      "Black women scientists missing from textbooks, study shows: https://www.bbc.com/news/science-environment-53158292\n",
      "'Black neutron star' discovery changes astronomy: https://www.bbc.com/news/science-environment-53151106\n",
      "Scientists examine the great 'human pause': https://www.bbc.com/news/science-environment-53113896\n",
      "Planting new forests 'can do more harm than good': https://www.bbc.com/news/science-environment-53138178\n",
      "Arctic Circle sees 'highest-ever' temperatures: https://www.bbc.com/news/science-environment-53140069\n",
      "Black women scientists missing from textbooks, study shows: https://www.bbc.com/news/science-environment-53158292\n",
      "'Black neutron star' discovery changes astronomy: https://www.bbc.com/news/science-environment-53151106\n",
      "Scientists examine the great 'human pause': https://www.bbc.com/news/science-environment-53113896\n",
      "Planting new forests 'can do more harm than good': https://www.bbc.com/news/science-environment-53138178\n",
      "Arctic Circle sees 'highest-ever' temperatures: https://www.bbc.com/news/science-environment-53140069\n",
      "'Black neutron star' discovery changes astronomy: https://www.bbc.com/news/science-environment-53151106\n",
      "Scientists examine the great 'human pause': https://www.bbc.com/news/science-environment-53113896\n",
      "Planting new forests 'can do more harm than good': https://www.bbc.com/news/science-environment-53138178\n",
      "Arctic Circle sees 'highest-ever' temperatures: https://www.bbc.com/news/science-environment-53140069\n",
      "Sport heading for a fall as temperatures rise: https://www.bbc.com/news/science-environment-53111881\n",
      "Urban dwellers yearn for the 'Good Life': https://www.bbc.com/news/science-environment-53097572\n",
      "Key questions about the Perseverance rover: https://www.bbc.com/news/science-environment-53129281\n",
      "America's next Mars rover will be called Perseverance: https://www.bbc.com/news/science-environment-51761833\n",
      "Can we finally answer the big question about Mars?: https://www.bbc.com/news/science-environment-51544476\n",
      "Nasa prepares tiny chopper for Mars flight: https://www.bbc.com/news/science-environment-49512101\n",
      "One-fifth of Earth's ocean floor is now mapped: https://www.bbc.com/news/science-environment-53119686\n",
      "Black women scientists missing from textbooks, study shows: https://www.bbc.com/news/science-environment-53158292?intlink_from_url=&link_location=live-reporting-story\n",
      "'Black neutron star' discovery changes astronomy: https://www.bbc.com/news/science-environment-53151106?intlink_from_url=&link_location=live-reporting-story\n",
      "25\n",
      "Apple-backed firm aims for one million robotaxis: https://www.bbc.com/news/technology-53157368\n",
      "Delivery van with no 'human controls' tested in US: https://www.bbc.com/news/technology-51409031\n",
      "Delivery van with no 'human controls' tested in US: https://www.bbc.com/news/technology-51409031\n",
      "Apple-backed firm aims for one million robotaxis: https://www.bbc.com/news/technology-53157368\n",
      "Delivery van with no 'human controls' tested in US: https://www.bbc.com/news/technology-51409031\n",
      "UK's internet use surges to new highs in lockdown: https://www.bbc.com/news/technology-53149268\n",
      "Ex-Googler becomes China’s second-richest person: https://www.bbc.com/news/technology-53150395\n",
      "Twitter apologises for business data breach: https://www.bbc.com/news/technology-53150157\n",
      "Apple-backed firm aims for one million robotaxis: https://www.bbc.com/news/technology-53157368\n",
      "Delivery van with no 'human controls' tested in US: https://www.bbc.com/news/technology-51409031\n",
      "Delivery van with no 'human controls' tested in US: https://www.bbc.com/news/technology-51409031\n",
      "UK's internet use surges to new highs in lockdown: https://www.bbc.com/news/technology-53149268\n",
      "Ex-Googler becomes China’s second-richest person: https://www.bbc.com/news/technology-53150395\n",
      "Twitter apologises for business data breach: https://www.bbc.com/news/technology-53150157\n",
      "UK's internet use surges to new highs in lockdown: https://www.bbc.com/news/technology-53149268\n",
      "Ex-Googler becomes China’s second-richest person: https://www.bbc.com/news/technology-53150395\n",
      "Twitter apologises for business data breach: https://www.bbc.com/news/technology-53150157\n",
      "Apple Mac computers make jump to its own chips: https://www.bbc.com/news/technology-53142989\n",
      "Ofcom eyes big fines for harmful online content: https://www.bbc.com/news/technology-53149267\n",
      "Apple makes concessions to App Store developers: https://www.bbc.com/news/technology-53148908\n",
      "Microsoft abandons Mixer app in Facebook deal: https://www.bbc.com/news/technology-53142676\n",
      "Is this the most accessible game ever?: https://www.bbc.com/news/technology-53093613\n",
      "Could search engines predict Covid-19 spread?: https://www.bbc.com/news/technology-53078581?intlink_from_url=&link_location=live-reporting-map\n",
      "UK's internet use surges to new highs in lockdown: https://www.bbc.com/news/technology-53149268?intlink_from_url=&link_location=live-reporting-story\n",
      "Apple-backed firm aims for one million robotaxis: https://www.bbc.com/news/technology-53157368?intlink_from_url=&link_location=live-reporting-story\n",
      "9\n",
      "Does the UK have coronavirus under control?: https://www.bbc.com/news/health-53157269\n",
      "Cancer drug could work where other treatments fail: https://www.bbc.com/news/health-53137328\n",
      "Does the UK have coronavirus under control?: https://www.bbc.com/news/health-53157269\n",
      "Cancer drug could work where other treatments fail: https://www.bbc.com/news/health-53137328\n",
      "Does the UK have coronavirus under control?: https://www.bbc.com/news/health-53157269\n",
      "Cancer drug could work where other treatments fail: https://www.bbc.com/news/health-53137328\n",
      "What is dexamethasone and how does it fight Covid-19?: https://www.bbc.com/news/health-53077879\n",
      "More than half wait too long for non-Covid tests: https://www.bbc.com/news/health-53164172?intlink_from_url=&link_location=live-reporting-story\n",
      "Is a second wave of coronavirus on the way?: https://www.bbc.com/news/health-53113785?intlink_from_url=&link_location=live-reporting-story\n",
      "30\n",
      "Ben & Jerry's joins Facebook ad boycott: https://www.bbc.com/news/business-53146256\n",
      "Ben & Jerry's joins Facebook ad boycott: https://www.bbc.com/news/business-53146256\n",
      "End of the road for the much-hyped Segway: https://www.bbc.com/news/business-53160518\n",
      "Rent day arrives for struggling retailers: https://www.bbc.com/news/business-53156586\n",
      "Still closed - the shops not allowed to reopen: https://www.bbc.com/news/business-53068212\n",
      "'We went from 30 customers to one in 18 hours': https://www.bbc.com/news/business-52986378\n",
      "Ben & Jerry's joins Facebook ad boycott: https://www.bbc.com/news/business-53146256\n",
      "End of the road for the much-hyped Segway: https://www.bbc.com/news/business-53160518\n",
      "Rent day arrives for struggling retailers: https://www.bbc.com/news/business-53156586\n",
      "Still closed - the shops not allowed to reopen: https://www.bbc.com/news/business-53068212\n",
      "'We went from 30 customers to one in 18 hours': https://www.bbc.com/news/business-52986378\n",
      "End of the road for the much-hyped Segway: https://www.bbc.com/news/business-53160518\n",
      "Rent day arrives for struggling retailers: https://www.bbc.com/news/business-53156586\n",
      "Still closed - the shops not allowed to reopen: https://www.bbc.com/news/business-53068212\n",
      "'We went from 30 customers to one in 18 hours': https://www.bbc.com/news/business-52986378\n",
      "Go Outdoors calls in administrators: https://www.bbc.com/news/business-53152566\n",
      "Ex-boss of scandal-hit Wirecard arrested: https://www.bbc.com/news/business-53149907\n",
      "Trump targets foreign workers with new visa freeze: https://www.bbc.com/news/business-53145317\n",
      "Lawsuit alleges defeat devices in Nissan petrol cars: https://www.bbc.com/news/business-53142821\n",
      "Creating an online course 'changed my life': https://www.bbc.com/news/business-52901761\n",
      "'I'm feeling really anxious about reopening': https://www.bbc.com/news/business-53142701\n",
      "'I used to hate road cycling, now I design biking gear': https://www.bbc.com/news/business-53079148\n",
      "What Trump wants from trade: https://www.bbc.com/news/business-50465651\n",
      "The garlic farmers who love Trump: https://www.bbc.com/news/business-50458312\n",
      "How China plans to lead in computer chips: https://www.bbc.com/news/business-50287485\n",
      "Is China gaining an edge in AI?: https://www.bbc.com/news/business-50255191\n",
      "Swissport set to halve its UK workforce: https://www.bbc.com/news/business-53163698?intlink_from_url=&link_location=live-reporting-story\n",
      "Demand soars for wine and cooking during lockdown: https://www.bbc.com/news/business-53162124?intlink_from_url=&link_location=live-reporting-story\n",
      "‘School closures caused our sales to slump’: https://www.bbc.com/news/business-53137179?intlink_from_url=&link_location=live-reporting-map\n",
      "Still closed - the shops not allowed to reopen: https://www.bbc.com/news/business-53068212?intlink_from_url=&link_location=live-reporting-story\n",
      "27\n",
      "Brooklyn Nine-Nine bins episodes after Floyd death: https://www.bbc.com/news/entertainment-arts-53162280\n",
      "BBC commits £100m to increasing diversity on TV: https://www.bbc.com/news/entertainment-arts-53135022\n",
      "BBC commits £100m to increasing diversity on TV: https://www.bbc.com/news/entertainment-arts-53135022\n",
      "Brooklyn Nine-Nine bins episodes after Floyd death: https://www.bbc.com/news/entertainment-arts-53162280\n",
      "BBC commits £100m to increasing diversity on TV: https://www.bbc.com/news/entertainment-arts-53135022\n",
      "Gibson and Ryder at odds over anti-Semitism claims: https://www.bbc.com/news/entertainment-arts-53162246\n",
      "Steve Bing took his own life, coroner says: https://www.bbc.com/news/entertainment-arts-53162274\n",
      "TV host Jimmy Kimmel sorry for blackface sketches: https://www.bbc.com/news/entertainment-arts-53151764\n",
      "Megan Fox says director 'never preyed upon' her: https://www.bbc.com/news/entertainment-arts-53148323\n",
      "Brooklyn Nine-Nine bins episodes after Floyd death: https://www.bbc.com/news/entertainment-arts-53162280\n",
      "BBC commits £100m to increasing diversity on TV: https://www.bbc.com/news/entertainment-arts-53135022\n",
      "BBC commits £100m to increasing diversity on TV: https://www.bbc.com/news/entertainment-arts-53135022\n",
      "Gibson and Ryder at odds over anti-Semitism claims: https://www.bbc.com/news/entertainment-arts-53162246\n",
      "Steve Bing took his own life, coroner says: https://www.bbc.com/news/entertainment-arts-53162274\n",
      "TV host Jimmy Kimmel sorry for blackface sketches: https://www.bbc.com/news/entertainment-arts-53151764\n",
      "Megan Fox says director 'never preyed upon' her: https://www.bbc.com/news/entertainment-arts-53148323\n",
      "Gibson and Ryder at odds over anti-Semitism claims: https://www.bbc.com/news/entertainment-arts-53162246\n",
      "Steve Bing took his own life, coroner says: https://www.bbc.com/news/entertainment-arts-53162274\n",
      "TV host Jimmy Kimmel sorry for blackface sketches: https://www.bbc.com/news/entertainment-arts-53151764\n",
      "Megan Fox says director 'never preyed upon' her: https://www.bbc.com/news/entertainment-arts-53148323\n",
      "How will cinemas reopen, and what can you see?: https://www.bbc.com/news/entertainment-arts-53151758\n",
      "Bookshops fight back against virus and Amazon: https://www.bbc.com/news/entertainment-arts-53136711\n",
      "Critics bemoan dimly lit scenes in The Luminaries: https://www.bbc.com/news/entertainment-arts-53134971\n",
      "Brooklyn Nine-Nine bins episodes after Floyd death: https://www.bbc.com/news/entertainment-arts-53162280?intlink_from_url=&link_location=live-reporting-story\n",
      "Gibson and Ryder at odds over anti-Semitism claims: https://www.bbc.com/news/entertainment-arts-53162246?intlink_from_url=&link_location=live-reporting-story\n",
      "Steve Bing took his own life, coroner says: https://www.bbc.com/news/entertainment-arts-53162274?intlink_from_url=&link_location=live-reporting-story\n",
      "Rachel McAdams on 'fun and campy' Eurovision movie: https://www.bbc.com/news/entertainment-arts-53159493?intlink_from_url=&link_location=live-reporting-map\n"
     ]
    }
   ],
   "source": [
    "# Mengakses setiap berita berdasarkan kategori\n",
    "science=scrap('https://www.bbc.com/news/science_and_environment','/news/science-',\"science\")\n",
    "tech=scrap('https://www.bbc.com/news/technology','/news/technology-',\"technology\")\n",
    "health=scrap('https://www.bbc.com/news/health','/news/health-',\"health\")\n",
    "business=scrap('https://www.bbc.com/news/business','/news/business-',\"business\")\n",
    "entertainment=scrap('https://www.bbc.com/news/entertainment_and_arts','/news/entertainment-arts-',\"entertainment\")"
   ]
  },
  {
   "cell_type": "markdown",
   "metadata": {
    "colab_type": "text",
    "id": "Ts3ocshoULLR"
   },
   "source": [
    "# Menyimpan Ke CSV"
   ]
  },
  {
   "cell_type": "code",
   "execution_count": null,
   "metadata": {
    "colab": {},
    "colab_type": "code",
    "id": "_lCOMoIGOq9z"
   },
   "outputs": [],
   "source": [
    "import csv\n",
    "\n",
    "def save_csv(*args):\n",
    "  \"\"\"menyimpan data berita yang didapat ke csv\"\"\"\n",
    "  \n",
    "  with open('/content/drive/Shared drives/dataset science/sci_'+str(hari)+\".csv\", 'w') as f1,\\\n",
    "       open('/content/drive/Shared drives/dataset tech/tech_'+str(hari)+\".csv\", 'w') as f2, \\\n",
    "       open('/content/drive/Shared drives/dataset health/hlt_'+str(hari)+\".csv\", 'w') as f3, \\\n",
    "       open('/content/drive/Shared drives/dataset business/bis_'+str(hari)+\".csv\", 'w') as f4, \\\n",
    "       open('/content/drive/Shared drives/dataset entertainment/ent_'+str(hari)+\".csv\", 'w') as f5:\n",
    "        writer1 = csv.writer(f1)\n",
    "        writer2 = csv.writer(f2)\n",
    "        writer3 = csv.writer(f3)\n",
    "        writer4 = csv.writer(f4)\n",
    "        writer5 = csv.writer(f5)\n",
    "        s=writer1.writerows(science)\n",
    "        t=writer2.writerows(tech)\n",
    "        h=writer3.writerows(health)\n",
    "        b=writer4.writerows(business)\n",
    "        e=writer5.writerows(entertainment)\n",
    "\n",
    "  return (s,t,h,b,e)"
   ]
  },
  {
   "cell_type": "markdown",
   "metadata": {
    "colab_type": "text",
    "id": "yNVRKYUfUTR1"
   },
   "source": [
    "# Mengecek save file"
   ]
  },
  {
   "cell_type": "code",
   "execution_count": null,
   "metadata": {
    "colab": {
     "base_uri": "https://localhost:8080/",
     "height": 136
    },
    "colab_type": "code",
    "executionInfo": {
     "elapsed": 4901,
     "status": "ok",
     "timestamp": 1592998768230,
     "user": {
      "displayName": "ARIEF AKBAR HIDAYAT MHS 2017",
      "photoUrl": "https://lh3.googleusercontent.com/a-/AOh14GgpxjnV7zTpLouYOAYyyr7JileDmvj56ntyPr5Y=s64",
      "userId": "11849805901853145430"
     },
     "user_tz": -420
    },
    "id": "jezdupSMBVMi",
    "outputId": "9ea06a80-a367-44c3-c97c-8a18c2484e63"
   },
   "outputs": [
    {
     "name": "stdout",
     "output_type": "stream",
     "text": [
      "masukan nomor file\n",
      "30\n",
      "file csv sudah pernah dibuat\n",
      "ingin update data?\n",
      "Y/N?\n",
      "n\n",
      "selesai\n"
     ]
    }
   ],
   "source": [
    "import subprocess\n",
    "print(\"masukan nomor file\")\n",
    "day=input()\n",
    "\n",
    "def Convert(string):\n",
    "  li=list(string.split(\"\\\\n\"))\n",
    "  del[li[-1]]\n",
    "  return li\n",
    "\n",
    "#mengecek apakah file sudah pernah dibuat sebelumnya\n",
    "output = subprocess.check_output(\"ls /content/drive/'Shared drives'/'1. web scrapping'/'dataset health/'\", shell=True)\n",
    "lists=[\"b'\",\"\\n\"]\n",
    "lists=Convert(str(output))\n",
    "if \"hlt_\"+str(day)+\".csv\" in lists:\n",
    "  print(\"file csv sudah pernah dibuat\")\n",
    "  print(\"ingin update data?\")\n",
    "  print(\"Y/N?\")\n",
    "  x=input()\n",
    "  if x == \"Y\" or x==\"y\":\n",
    "    hari=day\n",
    "    save_csv(str(hari),science,tech,health,business,entertainment)\n",
    "    print(\"berhasil diupdate\")\n",
    "  elif x ==\"N\"or x==\"n\":\n",
    "    print(\"selesai\")\n",
    "    pass\n",
    "  else:\n",
    "    print(\"selesai\")\n",
    "    pass\n",
    "else:\n",
    "  hari=day\n",
    "  save_csv(str(hari),science,tech,health,business,entertainment)\n",
    "  print(\"data csv berhasil dibuat\")\n"
   ]
  },
  {
   "cell_type": "markdown",
   "metadata": {
    "colab_type": "text",
    "id": "scPm4k_POq9y"
   },
   "source": [
    "# membaca berita dari csv"
   ]
  },
  {
   "cell_type": "code",
   "execution_count": null,
   "metadata": {
    "colab": {
     "base_uri": "https://localhost:8080/",
     "height": 297
    },
    "colab_type": "code",
    "executionInfo": {
     "elapsed": 839,
     "status": "ok",
     "timestamp": 1592997430534,
     "user": {
      "displayName": "ARIEF AKBAR HIDAYAT MHS 2017",
      "photoUrl": "https://lh3.googleusercontent.com/a-/AOh14GgpxjnV7zTpLouYOAYyyr7JileDmvj56ntyPr5Y=s64",
      "userId": "11849805901853145430"
     },
     "user_tz": -420
    },
    "id": "d-lwShVJOq94",
    "outputId": "2dd66ead-f6bf-4468-dc5d-87233d611880"
   },
   "outputs": [
    {
     "data": {
      "text/html": [
       "<div>\n",
       "<style scoped>\n",
       "    .dataframe tbody tr th:only-of-type {\n",
       "        vertical-align: middle;\n",
       "    }\n",
       "\n",
       "    .dataframe tbody tr th {\n",
       "        vertical-align: top;\n",
       "    }\n",
       "\n",
       "    .dataframe thead th {\n",
       "        text-align: right;\n",
       "    }\n",
       "</style>\n",
       "<table border=\"1\" class=\"dataframe\">\n",
       "  <thead>\n",
       "    <tr style=\"text-align: right;\">\n",
       "      <th></th>\n",
       "      <th>judul</th>\n",
       "      <th>isi</th>\n",
       "      <th>tanggal</th>\n",
       "      <th>label</th>\n",
       "    </tr>\n",
       "  </thead>\n",
       "  <tbody>\n",
       "    <tr>\n",
       "      <th>0</th>\n",
       "      <td>Cancer drug: New treatment halts tumour growth</td>\n",
       "      <td>A drug that could stop cancer cells repairing ...</td>\n",
       "      <td>23 June 2020</td>\n",
       "      <td>health</td>\n",
       "    </tr>\n",
       "    <tr>\n",
       "      <th>1</th>\n",
       "      <td>Coronavirus: Does the UK have the pandemic und...</td>\n",
       "      <td>Society is reopening. The long national hibern...</td>\n",
       "      <td>24 June 2020</td>\n",
       "      <td>health</td>\n",
       "    </tr>\n",
       "    <tr>\n",
       "      <th>2</th>\n",
       "      <td>Cancer drug: New treatment halts tumour growth</td>\n",
       "      <td>A drug that could stop cancer cells repairing ...</td>\n",
       "      <td>23 June 2020</td>\n",
       "      <td>health</td>\n",
       "    </tr>\n",
       "    <tr>\n",
       "      <th>3</th>\n",
       "      <td>Coronavirus: Does the UK have the pandemic und...</td>\n",
       "      <td>Society is reopening. The long national hibern...</td>\n",
       "      <td>24 June 2020</td>\n",
       "      <td>health</td>\n",
       "    </tr>\n",
       "    <tr>\n",
       "      <th>4</th>\n",
       "      <td>Cancer drug: New treatment halts tumour growth</td>\n",
       "      <td>A drug that could stop cancer cells repairing ...</td>\n",
       "      <td>23 June 2020</td>\n",
       "      <td>health</td>\n",
       "    </tr>\n",
       "    <tr>\n",
       "      <th>5</th>\n",
       "      <td>Coronavirus: What is dexamethasone and how doe...</td>\n",
       "      <td>An anti-inflammatory drug called dexamethasone...</td>\n",
       "      <td>18 June 2020</td>\n",
       "      <td>health</td>\n",
       "    </tr>\n",
       "    <tr>\n",
       "      <th>6</th>\n",
       "      <td>Coronavirus: More than half wait too long for ...</td>\n",
       "      <td>The number of people in England waiting longer...</td>\n",
       "      <td>24 June 2020</td>\n",
       "      <td>health</td>\n",
       "    </tr>\n",
       "    <tr>\n",
       "      <th>7</th>\n",
       "      <td>Coronavirus: What is a second wave and is one ...</td>\n",
       "      <td>Coronavirus is far from over. Some countries a...</td>\n",
       "      <td>24 June 2020</td>\n",
       "      <td>health</td>\n",
       "    </tr>\n",
       "  </tbody>\n",
       "</table>\n",
       "</div>"
      ],
      "text/plain": [
       "                                               judul  ...   label\n",
       "0     Cancer drug: New treatment halts tumour growth  ...  health\n",
       "1  Coronavirus: Does the UK have the pandemic und...  ...  health\n",
       "2     Cancer drug: New treatment halts tumour growth  ...  health\n",
       "3  Coronavirus: Does the UK have the pandemic und...  ...  health\n",
       "4     Cancer drug: New treatment halts tumour growth  ...  health\n",
       "5  Coronavirus: What is dexamethasone and how doe...  ...  health\n",
       "6  Coronavirus: More than half wait too long for ...  ...  health\n",
       "7  Coronavirus: What is a second wave and is one ...  ...  health\n",
       "\n",
       "[8 rows x 4 columns]"
      ]
     },
     "execution_count": 9,
     "metadata": {
      "tags": []
     },
     "output_type": "execute_result"
    }
   ],
   "source": [
    "import pandas as pd\n",
    "\n",
    "x=pd.read_csv('/content/drive/Shared drives//1. web scrapping/dataset health/hlt_'+str(hari)+'.csv')\n",
    "x.columns=[\"judul\",\"isi\",\"tanggal\",\"label\"]\n",
    "x"
   ]
  }
 ],
 "metadata": {
  "colab": {
   "collapsed_sections": [],
   "name": "Scrapping lengkap.ipynb",
   "provenance": [
    {
     "file_id": "1YIY08sJAMXPHDZiYhxOEOWNHgGHuWTW8",
     "timestamp": 1589711932730
    }
   ],
   "toc_visible": true
  },
  "kernelspec": {
   "display_name": "Python 3",
   "language": "python",
   "name": "python3"
  },
  "language_info": {
   "codemirror_mode": {
    "name": "ipython",
    "version": 3
   },
   "file_extension": ".py",
   "mimetype": "text/x-python",
   "name": "python",
   "nbconvert_exporter": "python",
   "pygments_lexer": "ipython3",
   "version": "3.8.5"
  }
 },
 "nbformat": 4,
 "nbformat_minor": 4
}
